{
 "cells": [
  {
   "cell_type": "markdown",
   "metadata": {
    "slideshow": {
     "slide_type": "slide"
    }
   },
   "source": [
    "# Ejemplo de extracción de datos estructurados: Clima. \n",
    "![A](introduccion.jpg)"
   ]
  },
  {
   "cell_type": "markdown",
   "metadata": {
    "slideshow": {
     "slide_type": "subslide"
    }
   },
   "source": [
    "#### Existen una gran variedad de API's para el clima*"
   ]
  },
  {
   "cell_type": "markdown",
   "metadata": {
    "slideshow": {
     "slide_type": "fragment"
    }
   },
   "source": [
    "1. ClimaCell Weather API \n",
    "2. OpenWeatherMap\n",
    "3. Weather trends\n",
    "4. AccuWeather\n",
    "5. Dark Sky\n",
    "6. etc.\n",
    "\n",
    "*https://superdevresources.com/weather-forecast-api-for-developing-apps/"
   ]
  },
  {
   "cell_type": "markdown",
   "metadata": {
    "slideshow": {
     "slide_type": "subslide"
    }
   },
   "source": [
    "## [Dark Sky API](https://darksky.net/forecast/40.7127,-74.0059/us12/es)\n",
    "![A](dark_sky_page.png)"
   ]
  },
  {
   "cell_type": "markdown",
   "metadata": {
    "slideshow": {
     "slide_type": "subslide"
    }
   },
   "source": [
    "La API de Dark Sky le permite buscar el clima en cualquier parte del mundo, regresando (donde esté disponible):\n",
    "\n",
    "- Condiciones meteorológicas actuales\n",
    "- Pronósticos minuto a minuto hasta una hora\n",
    "- Pronósticos hora a hora y día a día hasta siete días\n",
    "- Observaciones hora a hora y día a día que se remontan a décadas\n",
    "- Alertas de clima severo en los Estados Unidos, Canadá, países miembros de la Unión Europea e Israel"
   ]
  },
  {
   "cell_type": "markdown",
   "metadata": {
    "slideshow": {
     "slide_type": "subslide"
    }
   },
   "source": [
    "### Las condiciones climáticas\n",
    "\n",
    "La API de Dark Sky ofrece una colección completa de condiciones meteorológicas en 39 idiomas diferentes, que incluyen:\n",
    "\n",
    "- Temperatura aparente (se siente como)\n",
    "- Presión atmosférica\n",
    "- Cubierto de nubes\n",
    "- Punto de rocío\n",
    "- Humedad\n",
    "- Tasa de precipitación líquida\n",
    "- Fase lunar\n",
    "- Distancia de tormenta más cercana\n",
    "- Dirección de tormenta más cercana\n",
    "- Ozono\n",
    "- etc"
   ]
  },
  {
   "cell_type": "markdown",
   "metadata": {
    "slideshow": {
     "slide_type": "fragment"
    }
   },
   "source": [
    "### Precios \n",
    "- Las primeras 1.000 solicitudes de API que realice todos los días son gratuitas .\n",
    "- Cada solicitud de API por encima del límite diario gratuito cuesta $ 0,0001 (aprox 0.002 MXN)."
   ]
  },
  {
   "cell_type": "markdown",
   "metadata": {
    "slideshow": {
     "slide_type": "subslide"
    }
   },
   "source": [
    "### Tipos de llamadas a la API meteorológica\n",
    "Existen dos tipos de solicitudes de API para recuperar el clima en cualquier parte del mundo:\n",
    "\n",
    "- La solicitud de pronóstico devuelve el pronóstico del tiempo actual para la próxima semana.\n",
    "- La solicitud de Time Machine devuelve las condiciones meteorológicas observadas o previstas para una fecha pasada o futura.\n"
   ]
  },
  {
   "cell_type": "markdown",
   "metadata": {
    "slideshow": {
     "slide_type": "fragment"
    }
   },
   "source": [
    "### Solicitud de Time Machine\n",
    "\n",
    "**https://api.darksky.net/forecast/[key]/[latitude],[longitude],[time]**\n",
    "        \n",
    "Una solicitud de Time Machine devuelve el tiempo observado (en el pasado) o pronosticado (en el futuro) hora por hora y las condiciones meteorológicas diarias para una fecha en particular. "
   ]
  },
  {
   "cell_type": "markdown",
   "metadata": {
    "slideshow": {
     "slide_type": "subslide"
    }
   },
   "source": [
    "### Ejemplo de solicitud.\n",
    "\n",
    "GET https://api.darksky.net/forecast/93a3ab8136ea441147c4702bc5bdabc3/42.3601,-71.0589,255657600?exclude=currently,flags "
   ]
  },
  {
   "cell_type": "markdown",
   "metadata": {
    "slideshow": {
     "slide_type": "fragment"
    }
   },
   "source": [
    "      {\n",
    "        \"latitude\": 42.3601,\n",
    "        \"longitude\": -71.0589,\n",
    "        \"timezone\": \"America/New_York\",\n",
    "        \"hourly\": {\n",
    "          \"summary\": \"Snow (6–9 in.) and windy starting in the afternoon.\",\n",
    "          \"icon\": \"snow\",\n",
    "          \"data\": [\n",
    "            {\n",
    "              \"time\": 255589200,\n",
    "              \"summary\": \"Mostly Cloudy\",\n",
    "              \"icon\": \"partly-cloudy-night\",\n",
    "              \"precipIntensity\": 0,\n",
    "              \"precipProbability\": 0,\n",
    "              \"temperature\": 22.8,\n",
    "              \"apparentTemperature\": 16.46,\n",
    "              \"dewPoint\": 15.51,\n",
    "              \"humidity\": 0.73,\n",
    "              \"pressure\": 1026.78,\n",
    "              \"windSpeed\": 4.83,\n",
    "              \"windBearing\": 354,\n",
    "              \"cloudCover\": 0.78,\n",
    "              \"uvIndex\": 0,\n",
    "              \"visibility\": 9.62\n",
    "            },\n",
    "            ...\n",
    "          ]\n",
    "        },\n",
    "        \"daily\": {\n",
    "          \"data\": [\n",
    "            {\n",
    "              \"time\": 255589200,\n",
    "              \"summary\": \"Snow (9–14 in.) and windy starting in the afternoon.\",\n",
    "              \"icon\": \"snow\",\n",
    "              \"sunriseTime\": 255613996,\n",
    "              \"sunsetTime\": 255650764,\n",
    "              \"moonPhase\": 0.97,\n",
    "              \"precipIntensity\": 0.0354,\n",
    "              \"precipIntensityMax\": 0.1731,\n",
    "              \"precipIntensityMaxTime\": 255657600,\n",
    "              \"precipProbability\": 1,\n",
    "              \"precipAccumulation\": 7.337,\n",
    "              \"precipType\": \"snow\",\n",
    "              \"temperatureHigh\": 31.84,\n",
    "              \"temperatureHighTime\": 255632400,\n",
    "              \"temperatureLow\": 28.63,\n",
    "              \"temperatureLowTime\": 255697200,\n",
    "              \"apparentTemperatureHigh\": 20.47,\n",
    "              \"apparentTemperatureHighTime\": 255625200,\n",
    "              \"apparentTemperatureLow\": 13.03,\n",
    "              \"apparentTemperatureLowTime\": 255697200,\n",
    "              \"dewPoint\": 24.72,\n",
    "              \"humidity\": 0.86,\n",
    "              \"pressure\": 1016.41,\n",
    "              \"windSpeed\": 22.93,\n",
    "              \"windBearing\": 56,\n",
    "              \"cloudCover\": 0.95,\n",
    "              \"uvIndex\": 1,\n",
    "              \"uvIndexTime\": 255621600,\n",
    "              \"visibility\": 4.83,\n",
    "              \"temperatureMin\": 22.72,\n",
    "              \"temperatureMinTime\": 255596400,\n",
    "              \"temperatureMax\": 32.04,\n",
    "              \"temperatureMaxTime\": 255672000,\n",
    "              \"apparentTemperatureMin\": 11.13,\n",
    "              \"apparentTemperatureMinTime\": 255650400,\n",
    "              \"apparentTemperatureMax\": 20.47,\n",
    "              \"apparentTemperatureMaxTime\": 255625200\n",
    "            }\n",
    "          ]\n",
    "        },\n",
    "        \"offset\": -5\n",
    "      }"
   ]
  },
  {
   "cell_type": "markdown",
   "metadata": {
    "slideshow": {
     "slide_type": "subslide"
    }
   },
   "source": [
    "## Mas información en la documentación de la API: \n",
    "### https://darksky.net/dev/docs"
   ]
  },
  {
   "cell_type": "markdown",
   "metadata": {
    "slideshow": {
     "slide_type": "slide"
    }
   },
   "source": [
    "### Existe varias formas de conectarse a la API:\n",
    "1. Creando un scrapper.\n",
    "2. [Librerias que se conectan a la API](https://darksky.net/dev/docs/libraries)"
   ]
  },
  {
   "cell_type": "markdown",
   "metadata": {
    "slideshow": {
     "slide_type": "subslide"
    }
   },
   "source": [
    "### Creamos el scrapper"
   ]
  },
  {
   "cell_type": "code",
   "execution_count": 1,
   "metadata": {
    "slideshow": {
     "slide_type": "fragment"
    }
   },
   "outputs": [],
   "source": [
    "# cargamos las librerias\n",
    "import pandas as pd # manipulacion de dataframe\n",
    "import urllib.request # manipulacion de url\n",
    "import json # manipulación json\n",
    "import time # manipulación de fechas"
   ]
  },
  {
   "cell_type": "markdown",
   "metadata": {
    "slideshow": {
     "slide_type": "subslide"
    }
   },
   "source": [
    "#### Recordemos el formato de url:\n",
    "**https://api.darksky.net/forecast/[key]/[latitude],[longitude],[time]**"
   ]
  },
  {
   "cell_type": "code",
   "execution_count": 2,
   "metadata": {
    "slideshow": {
     "slide_type": "fragment"
    }
   },
   "outputs": [],
   "source": [
    "# definimos los parametros de la url\n",
    "key = \"93a3ab8136ea441147c4702bc5bdabc3\"\n",
    "latitude = \"25.679673\"\n",
    "longitude = \"-100.316839\"\n",
    "fecha = int((pd.to_datetime(\"2020-02-04\")-pd.to_datetime(\"1970-01-01\")).total_seconds())"
   ]
  },
  {
   "cell_type": "code",
   "execution_count": 3,
   "metadata": {
    "slideshow": {
     "slide_type": "fragment"
    }
   },
   "outputs": [
    {
     "name": "stdout",
     "output_type": "stream",
     "text": [
      "https://api.darksky.net/forecast/93a3ab8136ea441147c4702bc5bdabc3/25.679673,-100.316839,1580774400\n",
      "<class 'str'>\n"
     ]
    }
   ],
   "source": [
    "# creamos el link\n",
    "url_weather = \"https://api.darksky.net/forecast/{}/{},{},{}\".format(key,latitude, longitude, fecha)\n",
    "print(url_weather)\n",
    "print(type(url_weather))"
   ]
  },
  {
   "cell_type": "code",
   "execution_count": 4,
   "metadata": {
    "scrolled": true,
    "slideshow": {
     "slide_type": "fragment"
    }
   },
   "outputs": [
    {
     "name": "stdout",
     "output_type": "stream",
     "text": [
      "<class 'str'>\n"
     ]
    }
   ],
   "source": [
    "# abrimos el url\n",
    "page = urllib.request.urlopen(url_weather).read()\n",
    "print(type(page.decode('utf-8')))"
   ]
  },
  {
   "cell_type": "code",
   "execution_count": 5,
   "metadata": {
    "scrolled": true,
    "slideshow": {
     "slide_type": "subslide"
    }
   },
   "outputs": [
    {
     "data": {
      "text/plain": [
       "'{\"latitude\":25.679673,\"longitude\":-100.316839,\"timezone\":\"America/Monterrey\",\"currently\":{\"time\":1580774400,\"summary\":\"Overcast\",\"icon\":\"cloudy\",\"precipIntensity\":0.0011,\"precipProbability\":0.02,\"precipType\":\"rain\",\"temperature\":74.7,\"apparentTemperature\":74.7,\"dewPoint\":54.74,\"humidity\":0.5,\"pressure\":1006.5,\"windSpeed\":4.37,\"windGust\":11.26,\"windBearing\":120,\"cloudCover\":0.95,\"uvIndex\":0,\"visibility\":10,\"ozone\":253.5},\"hourly\":{\"summary\":\"Mostly cloudy throughout the day.\",\"icon\":\"partly-cloudy-day\",\"data\":[{\"time\":1580709600,\"summary\":\"Partly Cloudy\",\"icon\":\"partly-cloudy-night\",\"precipIntensity\":0.001,\"precipProbability\":0.02,\"precipType\":\"rain\",\"temperature\":59.49,\"apparentTemperature\":59.49,\"dewPoint\":51.26,\"humidity\":0.74,\"pressure\":1013.1,\"windSpeed\":3.55,\"windGust\":6.3,\"windBearing\":158,\"cloudCover\":0.52,\"uvIndex\":0,\"visibility\":10,\"ozone\":261.3},{\"time\":1580713200,\"summary\":\"Partly Cloudy\",\"icon\":\"partly-cloudy-night\",\"precipIntensity\":0,\"precipProbability\":0,\"temperature\":58.81,\"apparentTemperature\":58.81,\"dewPoint\":51.26,\"humidity\":0.76,\"pressure\":1012.7,\"windSpeed\":3.88,\"windGust\":6.83,\"windBearing\":196,\"cloudCover\":0.56,\"uvIndex\":0,\"visibility\":10,\"ozone\":261.2},{\"time\":1580716800,\"summary\":\"Partly Cloudy\",\"icon\":\"partly-cloudy-night\",\"precipIntensity\":0,\"precipProbability\":0,\"temperature\":58.07,\"apparentTemperature\":58.07,\"dewPoint\":51.09,\"humidity\":0.78,\"pressure\":1012.1,\"windSpeed\":3.52,\"windGust\":6.34,\"windBearing\":245,\"cloudCover\":0.57,\"uvIndex\":0,\"visibility\":10,\"ozone\":260.9},{\"time\":1580720400,\"summary\":\"Mostly Cloudy\",\"icon\":\"partly-cloudy-night\",\"precipIntensity\":0,\"precipProbability\":0,\"temperature\":57.65,\"apparentTemperature\":57.65,\"dewPoint\":51.18,\"humidity\":0.79,\"pressure\":1011.5,\"windSpeed\":3.41,\"windGust\":5.89,\"windBearing\":268,\"cloudCover\":0.62,\"uvIndex\":0,\"visibility\":10,\"ozone\":260.5},{\"time\":1580724000,\"summary\":\"Mostly Cloudy\",\"icon\":\"partly-cloudy-night\",\"precipIntensity\":0.0004,\"precipProbability\":0.02,\"precipType\":\"rain\",\"temperature\":57.65,\"apparentTemperature\":57.65,\"dewPoint\":51.17,\"humidity\":0.79,\"pressure\":1010.3,\"windSpeed\":3.56,\"windGust\":5.8,\"windBearing\":258,\"cloudCover\":0.71,\"uvIndex\":0,\"visibility\":10,\"ozone\":259.9},{\"time\":1580727600,\"summary\":\"Mostly Cloudy\",\"icon\":\"partly-cloudy-night\",\"precipIntensity\":0.0037,\"precipProbability\":0.04,\"precipType\":\"rain\",\"temperature\":58.14,\"apparentTemperature\":58.14,\"dewPoint\":51.46,\"humidity\":0.78,\"pressure\":1009.9,\"windSpeed\":3.44,\"windGust\":6.53,\"windBearing\":263,\"cloudCover\":0.8,\"uvIndex\":0,\"visibility\":10,\"ozone\":259.1},{\"time\":1580731200,\"summary\":\"Mostly Cloudy\",\"icon\":\"partly-cloudy-night\",\"precipIntensity\":0.0042,\"precipProbability\":0.05,\"precipType\":\"rain\",\"temperature\":59.93,\"apparentTemperature\":59.93,\"dewPoint\":51.78,\"humidity\":0.74,\"pressure\":1010.1,\"windSpeed\":3.33,\"windGust\":5.77,\"windBearing\":256,\"cloudCover\":0.83,\"uvIndex\":0,\"visibility\":10,\"ozone\":257.3},{\"time\":1580734800,\"summary\":\"Mostly Cloudy\",\"icon\":\"partly-cloudy-night\",\"precipIntensity\":0.0035,\"precipProbability\":0.04,\"precipType\":\"rain\",\"temperature\":60.57,\"apparentTemperature\":60.57,\"dewPoint\":52.25,\"humidity\":0.74,\"pressure\":1010.4,\"windSpeed\":3.85,\"windGust\":6.04,\"windBearing\":235,\"cloudCover\":0.77,\"uvIndex\":0,\"visibility\":10,\"ozone\":256.4},{\"time\":1580738400,\"summary\":\"Mostly Cloudy\",\"icon\":\"partly-cloudy-day\",\"precipIntensity\":0.0005,\"precipProbability\":0.03,\"precipType\":\"rain\",\"temperature\":61.1,\"apparentTemperature\":61.1,\"dewPoint\":52.25,\"humidity\":0.73,\"pressure\":1011.3,\"windSpeed\":3.63,\"windGust\":7.14,\"windBearing\":291,\"cloudCover\":0.81,\"uvIndex\":0,\"visibility\":10,\"ozone\":255.6},{\"time\":1580742000,\"summary\":\"Mostly Cloudy\",\"icon\":\"partly-cloudy-day\",\"precipIntensity\":0.001,\"precipProbability\":0.04,\"precipType\":\"rain\",\"temperature\":64.04,\"apparentTemperature\":64.04,\"dewPoint\":53.59,\"humidity\":0.69,\"pressure\":1011.8,\"windSpeed\":4.55,\"windGust\":8.78,\"windBearing\":277,\"cloudCover\":0.79,\"uvIndex\":1,\"visibility\":10,\"ozone\":255.2},{\"time\":1580745600,\"summary\":\"Mostly Cloudy\",\"icon\":\"partly-cloudy-day\",\"precipIntensity\":0,\"precipProbability\":0,\"temperature\":67.76,\"apparentTemperature\":67.76,\"dewPoint\":55.39,\"humidity\":0.65,\"pressure\":1012,\"windSpeed\":6.6,\"windGust\":16.32,\"windBearing\":276,\"cloudCover\":0.76,\"uvIndex\":2,\"visibility\":10,\"ozone\":255.5},{\"time\":1580749200,\"summary\":\"Mostly Cloudy\",\"icon\":\"partly-cloudy-day\",\"precipIntensity\":0.0014,\"precipProbability\":0.05,\"precipType\":\"rain\",\"temperature\":68.79,\"apparentTemperature\":68.79,\"dewPoint\":56.63,\"humidity\":0.65,\"pressure\":1011.4,\"windSpeed\":8.71,\"windGust\":20.98,\"windBearing\":292,\"cloudCover\":0.72,\"uvIndex\":4,\"visibility\":10,\"ozone\":256.2},{\"time\":1580752800,\"summary\":\"Mostly Cloudy\",\"icon\":\"partly-cloudy-day\",\"precipIntensity\":0.003,\"precipProbability\":0.05,\"precipType\":\"rain\",\"temperature\":72.99,\"apparentTemperature\":72.99,\"dewPoint\":54.85,\"humidity\":0.53,\"pressure\":1011.1,\"windSpeed\":7.42,\"windGust\":15.38,\"windBearing\":199,\"cloudCover\":0.85,\"uvIndex\":5,\"visibility\":10,\"ozone\":249},{\"time\":1580756400,\"summary\":\"Mostly Cloudy\",\"icon\":\"partly-cloudy-day\",\"precipIntensity\":0.0037,\"precipProbability\":0.06,\"precipType\":\"rain\",\"temperature\":75.13,\"apparentTemperature\":75.13,\"dewPoint\":54.35,\"humidity\":0.48,\"pressure\":1009.9,\"windSpeed\":7.3,\"windGust\":16.19,\"windBearing\":199,\"cloudCover\":0.84,\"uvIndex\":5,\"visibility\":10,\"ozone\":249.1},{\"time\":1580760000,\"summary\":\"Mostly Cloudy\",\"icon\":\"partly-cloudy-day\",\"precipIntensity\":0.0018,\"precipProbability\":0.04,\"precipType\":\"rain\",\"temperature\":76.56,\"apparentTemperature\":76.56,\"dewPoint\":54.13,\"humidity\":0.46,\"pressure\":1008.3,\"windSpeed\":7.85,\"windGust\":14.79,\"windBearing\":132,\"cloudCover\":0.8,\"uvIndex\":5,\"visibility\":10,\"ozone\":250},{\"time\":1580763600,\"summary\":\"Mostly Cloudy\",\"icon\":\"partly-cloudy-day\",\"precipIntensity\":0.002,\"precipProbability\":0.04,\"precipType\":\"rain\",\"temperature\":76.24,\"apparentTemperature\":76.24,\"dewPoint\":54.51,\"humidity\":0.47,\"pressure\":1007.4,\"windSpeed\":6.64,\"windGust\":16.37,\"windBearing\":142,\"cloudCover\":0.78,\"uvIndex\":4,\"visibility\":10,\"ozone\":250.9},{\"time\":1580767200,\"summary\":\"Mostly Cloudy\",\"icon\":\"partly-cloudy-day\",\"precipIntensity\":0.0014,\"precipProbability\":0.03,\"precipType\":\"rain\",\"temperature\":75.15,\"apparentTemperature\":75.15,\"dewPoint\":55.22,\"humidity\":0.5,\"pressure\":1006.9,\"windSpeed\":5.31,\"windGust\":14.74,\"windBearing\":158,\"cloudCover\":0.77,\"uvIndex\":2,\"visibility\":10,\"ozone\":251.7},{\"time\":1580770800,\"summary\":\"Overcast\",\"icon\":\"cloudy\",\"precipIntensity\":0.0006,\"precipProbability\":0.02,\"precipType\":\"rain\",\"temperature\":74.23,\"apparentTemperature\":74.23,\"dewPoint\":55.7,\"humidity\":0.52,\"pressure\":1006.2,\"windSpeed\":5,\"windGust\":12.76,\"windBearing\":125,\"cloudCover\":0.89,\"uvIndex\":1,\"visibility\":10,\"ozone\":252.5},{\"time\":1580774400,\"summary\":\"Overcast\",\"icon\":\"cloudy\",\"precipIntensity\":0.0011,\"precipProbability\":0.02,\"precipType\":\"rain\",\"temperature\":74.7,\"apparentTemperature\":74.7,\"dewPoint\":54.74,\"humidity\":0.5,\"pressure\":1006.5,\"windSpeed\":4.37,\"windGust\":11.26,\"windBearing\":120,\"cloudCover\":0.95,\"uvIndex\":0,\"visibility\":10,\"ozone\":253.5},{\"time\":1580778000,\"summary\":\"Mostly Cloudy\",\"icon\":\"partly-cloudy-night\",\"precipIntensity\":0.0016,\"precipProbability\":0.02,\"precipType\":\"rain\",\"temperature\":70.93,\"apparentTemperature\":70.93,\"dewPoint\":56.69,\"humidity\":0.61,\"pressure\":1007.9,\"windSpeed\":4.54,\"windGust\":9.2,\"windBearing\":101,\"cloudCover\":0.77,\"uvIndex\":0,\"visibility\":10,\"ozone\":258.1},{\"time\":1580781600,\"summary\":\"Mostly Cloudy\",\"icon\":\"partly-cloudy-night\",\"precipIntensity\":0,\"precipProbability\":0,\"temperature\":68.66,\"apparentTemperature\":68.66,\"dewPoint\":55.45,\"humidity\":0.63,\"pressure\":1009.8,\"windSpeed\":5.21,\"windGust\":9.52,\"windBearing\":278,\"cloudCover\":0.62,\"uvIndex\":0,\"visibility\":10,\"ozone\":259.2},{\"time\":1580785200,\"summary\":\"Mostly Cloudy\",\"icon\":\"partly-cloudy-night\",\"precipIntensity\":0,\"precipProbability\":0,\"temperature\":66.37,\"apparentTemperature\":66.37,\"dewPoint\":53.99,\"humidity\":0.64,\"pressure\":1010.3,\"windSpeed\":4.7,\"windGust\":10.14,\"windBearing\":241,\"cloudCover\":0.62,\"uvIndex\":0,\"visibility\":10,\"ozone\":260.4},{\"time\":1580788800,\"summary\":\"Mostly Cloudy\",\"icon\":\"partly-cloudy-night\",\"precipIntensity\":0,\"precipProbability\":0,\"temperature\":65.08,\"apparentTemperature\":65.08,\"dewPoint\":52.46,\"humidity\":0.64,\"pressure\":1009.3,\"windSpeed\":4.75,\"windGust\":9.22,\"windBearing\":255,\"cloudCover\":0.6,\"uvIndex\":0,\"visibility\":10,\"ozone\":262.1},{\"time\":1580792400,\"summary\":\"Mostly Cloudy\",\"icon\":\"partly-cloudy-night\",\"precipIntensity\":0,\"precipProbability\":0,\"temperature\":64.33,\"apparentTemperature\":64.33,\"dewPoint\":52.45,\"humidity\":0.65,\"pressure\":1008.6,\"windSpeed\":5.21,\"windGust\":9.89,\"windBearing\":248,\"cloudCover\":0.8,\"uvIndex\":0,\"visibility\":10,\"ozone\":264.2}]},\"daily\":{\"data\":[{\"time\":1580709600,\"summary\":\"Mostly cloudy throughout the day.\",\"icon\":\"rain\",\"sunriseTime\":1580736300,\"sunsetTime\":1580776020,\"moonPhase\":0.32,\"precipIntensity\":0.0014,\"precipIntensityMax\":0.0042,\"precipIntensityMaxTime\":1580730300,\"precipProbability\":0.29,\"precipType\":\"rain\",\"temperatureHigh\":77.12,\"temperatureHighTime\":1580760840,\"temperatureLow\":58.38,\"temperatureLowTime\":1580817180,\"apparentTemperatureHigh\":76.62,\"apparentTemperatureHighTime\":1580760840,\"apparentTemperatureLow\":58.87,\"apparentTemperatureLowTime\":1580817180,\"dewPoint\":53.57,\"humidity\":0.64,\"pressure\":1009.9,\"windSpeed\":5.04,\"windGust\":20.99,\"windGustTime\":1580749080,\"windBearing\":228,\"cloudCover\":0.74,\"uvIndex\":5,\"uvIndexTime\":1580756460,\"visibility\":10,\"ozone\":256.4,\"temperatureMin\":57.1,\"temperatureMinTime\":1580722320,\"temperatureMax\":77.12,\"temperatureMaxTime\":1580760840,\"apparentTemperatureMin\":57.59,\"apparentTemperatureMinTime\":1580722320,\"apparentTemperatureMax\":76.62,\"apparentTemperatureMaxTime\":1580760840}]},\"flags\":{\"sources\":[\"cmc\",\"gfs\",\"hrrr\",\"icon\",\"isd\",\"madis\",\"nam\",\"sref\"],\"nearest-station\":2.75,\"units\":\"us\"},\"offset\":-6}\\n'"
      ]
     },
     "execution_count": 5,
     "metadata": {},
     "output_type": "execute_result"
    }
   ],
   "source": [
    "page.decode('utf-8')"
   ]
  },
  {
   "cell_type": "code",
   "execution_count": 6,
   "metadata": {
    "scrolled": true,
    "slideshow": {
     "slide_type": "subslide"
    }
   },
   "outputs": [
    {
     "name": "stdout",
     "output_type": "stream",
     "text": [
      "<class 'dict'>\n"
     ]
    }
   ],
   "source": [
    "jsonResponse = json.loads(page.decode('utf-8'))\n",
    "print(type(jsonResponse))"
   ]
  },
  {
   "cell_type": "code",
   "execution_count": 7,
   "metadata": {
    "slideshow": {
     "slide_type": "subslide"
    }
   },
   "outputs": [
    {
     "data": {
      "text/plain": [
       "{'latitude': 25.679673,\n",
       " 'longitude': -100.316839,\n",
       " 'timezone': 'America/Monterrey',\n",
       " 'currently': {'time': 1580774400,\n",
       "  'summary': 'Overcast',\n",
       "  'icon': 'cloudy',\n",
       "  'precipIntensity': 0.0011,\n",
       "  'precipProbability': 0.02,\n",
       "  'precipType': 'rain',\n",
       "  'temperature': 74.7,\n",
       "  'apparentTemperature': 74.7,\n",
       "  'dewPoint': 54.74,\n",
       "  'humidity': 0.5,\n",
       "  'pressure': 1006.5,\n",
       "  'windSpeed': 4.37,\n",
       "  'windGust': 11.26,\n",
       "  'windBearing': 120,\n",
       "  'cloudCover': 0.95,\n",
       "  'uvIndex': 0,\n",
       "  'visibility': 10,\n",
       "  'ozone': 253.5},\n",
       " 'hourly': {'summary': 'Mostly cloudy throughout the day.',\n",
       "  'icon': 'partly-cloudy-day',\n",
       "  'data': [{'time': 1580709600,\n",
       "    'summary': 'Partly Cloudy',\n",
       "    'icon': 'partly-cloudy-night',\n",
       "    'precipIntensity': 0.001,\n",
       "    'precipProbability': 0.02,\n",
       "    'precipType': 'rain',\n",
       "    'temperature': 59.49,\n",
       "    'apparentTemperature': 59.49,\n",
       "    'dewPoint': 51.26,\n",
       "    'humidity': 0.74,\n",
       "    'pressure': 1013.1,\n",
       "    'windSpeed': 3.55,\n",
       "    'windGust': 6.3,\n",
       "    'windBearing': 158,\n",
       "    'cloudCover': 0.52,\n",
       "    'uvIndex': 0,\n",
       "    'visibility': 10,\n",
       "    'ozone': 261.3},\n",
       "   {'time': 1580713200,\n",
       "    'summary': 'Partly Cloudy',\n",
       "    'icon': 'partly-cloudy-night',\n",
       "    'precipIntensity': 0,\n",
       "    'precipProbability': 0,\n",
       "    'temperature': 58.81,\n",
       "    'apparentTemperature': 58.81,\n",
       "    'dewPoint': 51.26,\n",
       "    'humidity': 0.76,\n",
       "    'pressure': 1012.7,\n",
       "    'windSpeed': 3.88,\n",
       "    'windGust': 6.83,\n",
       "    'windBearing': 196,\n",
       "    'cloudCover': 0.56,\n",
       "    'uvIndex': 0,\n",
       "    'visibility': 10,\n",
       "    'ozone': 261.2},\n",
       "   {'time': 1580716800,\n",
       "    'summary': 'Partly Cloudy',\n",
       "    'icon': 'partly-cloudy-night',\n",
       "    'precipIntensity': 0,\n",
       "    'precipProbability': 0,\n",
       "    'temperature': 58.07,\n",
       "    'apparentTemperature': 58.07,\n",
       "    'dewPoint': 51.09,\n",
       "    'humidity': 0.78,\n",
       "    'pressure': 1012.1,\n",
       "    'windSpeed': 3.52,\n",
       "    'windGust': 6.34,\n",
       "    'windBearing': 245,\n",
       "    'cloudCover': 0.57,\n",
       "    'uvIndex': 0,\n",
       "    'visibility': 10,\n",
       "    'ozone': 260.9},\n",
       "   {'time': 1580720400,\n",
       "    'summary': 'Mostly Cloudy',\n",
       "    'icon': 'partly-cloudy-night',\n",
       "    'precipIntensity': 0,\n",
       "    'precipProbability': 0,\n",
       "    'temperature': 57.65,\n",
       "    'apparentTemperature': 57.65,\n",
       "    'dewPoint': 51.18,\n",
       "    'humidity': 0.79,\n",
       "    'pressure': 1011.5,\n",
       "    'windSpeed': 3.41,\n",
       "    'windGust': 5.89,\n",
       "    'windBearing': 268,\n",
       "    'cloudCover': 0.62,\n",
       "    'uvIndex': 0,\n",
       "    'visibility': 10,\n",
       "    'ozone': 260.5},\n",
       "   {'time': 1580724000,\n",
       "    'summary': 'Mostly Cloudy',\n",
       "    'icon': 'partly-cloudy-night',\n",
       "    'precipIntensity': 0.0004,\n",
       "    'precipProbability': 0.02,\n",
       "    'precipType': 'rain',\n",
       "    'temperature': 57.65,\n",
       "    'apparentTemperature': 57.65,\n",
       "    'dewPoint': 51.17,\n",
       "    'humidity': 0.79,\n",
       "    'pressure': 1010.3,\n",
       "    'windSpeed': 3.56,\n",
       "    'windGust': 5.8,\n",
       "    'windBearing': 258,\n",
       "    'cloudCover': 0.71,\n",
       "    'uvIndex': 0,\n",
       "    'visibility': 10,\n",
       "    'ozone': 259.9},\n",
       "   {'time': 1580727600,\n",
       "    'summary': 'Mostly Cloudy',\n",
       "    'icon': 'partly-cloudy-night',\n",
       "    'precipIntensity': 0.0037,\n",
       "    'precipProbability': 0.04,\n",
       "    'precipType': 'rain',\n",
       "    'temperature': 58.14,\n",
       "    'apparentTemperature': 58.14,\n",
       "    'dewPoint': 51.46,\n",
       "    'humidity': 0.78,\n",
       "    'pressure': 1009.9,\n",
       "    'windSpeed': 3.44,\n",
       "    'windGust': 6.53,\n",
       "    'windBearing': 263,\n",
       "    'cloudCover': 0.8,\n",
       "    'uvIndex': 0,\n",
       "    'visibility': 10,\n",
       "    'ozone': 259.1},\n",
       "   {'time': 1580731200,\n",
       "    'summary': 'Mostly Cloudy',\n",
       "    'icon': 'partly-cloudy-night',\n",
       "    'precipIntensity': 0.0042,\n",
       "    'precipProbability': 0.05,\n",
       "    'precipType': 'rain',\n",
       "    'temperature': 59.93,\n",
       "    'apparentTemperature': 59.93,\n",
       "    'dewPoint': 51.78,\n",
       "    'humidity': 0.74,\n",
       "    'pressure': 1010.1,\n",
       "    'windSpeed': 3.33,\n",
       "    'windGust': 5.77,\n",
       "    'windBearing': 256,\n",
       "    'cloudCover': 0.83,\n",
       "    'uvIndex': 0,\n",
       "    'visibility': 10,\n",
       "    'ozone': 257.3},\n",
       "   {'time': 1580734800,\n",
       "    'summary': 'Mostly Cloudy',\n",
       "    'icon': 'partly-cloudy-night',\n",
       "    'precipIntensity': 0.0035,\n",
       "    'precipProbability': 0.04,\n",
       "    'precipType': 'rain',\n",
       "    'temperature': 60.57,\n",
       "    'apparentTemperature': 60.57,\n",
       "    'dewPoint': 52.25,\n",
       "    'humidity': 0.74,\n",
       "    'pressure': 1010.4,\n",
       "    'windSpeed': 3.85,\n",
       "    'windGust': 6.04,\n",
       "    'windBearing': 235,\n",
       "    'cloudCover': 0.77,\n",
       "    'uvIndex': 0,\n",
       "    'visibility': 10,\n",
       "    'ozone': 256.4},\n",
       "   {'time': 1580738400,\n",
       "    'summary': 'Mostly Cloudy',\n",
       "    'icon': 'partly-cloudy-day',\n",
       "    'precipIntensity': 0.0005,\n",
       "    'precipProbability': 0.03,\n",
       "    'precipType': 'rain',\n",
       "    'temperature': 61.1,\n",
       "    'apparentTemperature': 61.1,\n",
       "    'dewPoint': 52.25,\n",
       "    'humidity': 0.73,\n",
       "    'pressure': 1011.3,\n",
       "    'windSpeed': 3.63,\n",
       "    'windGust': 7.14,\n",
       "    'windBearing': 291,\n",
       "    'cloudCover': 0.81,\n",
       "    'uvIndex': 0,\n",
       "    'visibility': 10,\n",
       "    'ozone': 255.6},\n",
       "   {'time': 1580742000,\n",
       "    'summary': 'Mostly Cloudy',\n",
       "    'icon': 'partly-cloudy-day',\n",
       "    'precipIntensity': 0.001,\n",
       "    'precipProbability': 0.04,\n",
       "    'precipType': 'rain',\n",
       "    'temperature': 64.04,\n",
       "    'apparentTemperature': 64.04,\n",
       "    'dewPoint': 53.59,\n",
       "    'humidity': 0.69,\n",
       "    'pressure': 1011.8,\n",
       "    'windSpeed': 4.55,\n",
       "    'windGust': 8.78,\n",
       "    'windBearing': 277,\n",
       "    'cloudCover': 0.79,\n",
       "    'uvIndex': 1,\n",
       "    'visibility': 10,\n",
       "    'ozone': 255.2},\n",
       "   {'time': 1580745600,\n",
       "    'summary': 'Mostly Cloudy',\n",
       "    'icon': 'partly-cloudy-day',\n",
       "    'precipIntensity': 0,\n",
       "    'precipProbability': 0,\n",
       "    'temperature': 67.76,\n",
       "    'apparentTemperature': 67.76,\n",
       "    'dewPoint': 55.39,\n",
       "    'humidity': 0.65,\n",
       "    'pressure': 1012,\n",
       "    'windSpeed': 6.6,\n",
       "    'windGust': 16.32,\n",
       "    'windBearing': 276,\n",
       "    'cloudCover': 0.76,\n",
       "    'uvIndex': 2,\n",
       "    'visibility': 10,\n",
       "    'ozone': 255.5},\n",
       "   {'time': 1580749200,\n",
       "    'summary': 'Mostly Cloudy',\n",
       "    'icon': 'partly-cloudy-day',\n",
       "    'precipIntensity': 0.0014,\n",
       "    'precipProbability': 0.05,\n",
       "    'precipType': 'rain',\n",
       "    'temperature': 68.79,\n",
       "    'apparentTemperature': 68.79,\n",
       "    'dewPoint': 56.63,\n",
       "    'humidity': 0.65,\n",
       "    'pressure': 1011.4,\n",
       "    'windSpeed': 8.71,\n",
       "    'windGust': 20.98,\n",
       "    'windBearing': 292,\n",
       "    'cloudCover': 0.72,\n",
       "    'uvIndex': 4,\n",
       "    'visibility': 10,\n",
       "    'ozone': 256.2},\n",
       "   {'time': 1580752800,\n",
       "    'summary': 'Mostly Cloudy',\n",
       "    'icon': 'partly-cloudy-day',\n",
       "    'precipIntensity': 0.003,\n",
       "    'precipProbability': 0.05,\n",
       "    'precipType': 'rain',\n",
       "    'temperature': 72.99,\n",
       "    'apparentTemperature': 72.99,\n",
       "    'dewPoint': 54.85,\n",
       "    'humidity': 0.53,\n",
       "    'pressure': 1011.1,\n",
       "    'windSpeed': 7.42,\n",
       "    'windGust': 15.38,\n",
       "    'windBearing': 199,\n",
       "    'cloudCover': 0.85,\n",
       "    'uvIndex': 5,\n",
       "    'visibility': 10,\n",
       "    'ozone': 249},\n",
       "   {'time': 1580756400,\n",
       "    'summary': 'Mostly Cloudy',\n",
       "    'icon': 'partly-cloudy-day',\n",
       "    'precipIntensity': 0.0037,\n",
       "    'precipProbability': 0.06,\n",
       "    'precipType': 'rain',\n",
       "    'temperature': 75.13,\n",
       "    'apparentTemperature': 75.13,\n",
       "    'dewPoint': 54.35,\n",
       "    'humidity': 0.48,\n",
       "    'pressure': 1009.9,\n",
       "    'windSpeed': 7.3,\n",
       "    'windGust': 16.19,\n",
       "    'windBearing': 199,\n",
       "    'cloudCover': 0.84,\n",
       "    'uvIndex': 5,\n",
       "    'visibility': 10,\n",
       "    'ozone': 249.1},\n",
       "   {'time': 1580760000,\n",
       "    'summary': 'Mostly Cloudy',\n",
       "    'icon': 'partly-cloudy-day',\n",
       "    'precipIntensity': 0.0018,\n",
       "    'precipProbability': 0.04,\n",
       "    'precipType': 'rain',\n",
       "    'temperature': 76.56,\n",
       "    'apparentTemperature': 76.56,\n",
       "    'dewPoint': 54.13,\n",
       "    'humidity': 0.46,\n",
       "    'pressure': 1008.3,\n",
       "    'windSpeed': 7.85,\n",
       "    'windGust': 14.79,\n",
       "    'windBearing': 132,\n",
       "    'cloudCover': 0.8,\n",
       "    'uvIndex': 5,\n",
       "    'visibility': 10,\n",
       "    'ozone': 250},\n",
       "   {'time': 1580763600,\n",
       "    'summary': 'Mostly Cloudy',\n",
       "    'icon': 'partly-cloudy-day',\n",
       "    'precipIntensity': 0.002,\n",
       "    'precipProbability': 0.04,\n",
       "    'precipType': 'rain',\n",
       "    'temperature': 76.24,\n",
       "    'apparentTemperature': 76.24,\n",
       "    'dewPoint': 54.51,\n",
       "    'humidity': 0.47,\n",
       "    'pressure': 1007.4,\n",
       "    'windSpeed': 6.64,\n",
       "    'windGust': 16.37,\n",
       "    'windBearing': 142,\n",
       "    'cloudCover': 0.78,\n",
       "    'uvIndex': 4,\n",
       "    'visibility': 10,\n",
       "    'ozone': 250.9},\n",
       "   {'time': 1580767200,\n",
       "    'summary': 'Mostly Cloudy',\n",
       "    'icon': 'partly-cloudy-day',\n",
       "    'precipIntensity': 0.0014,\n",
       "    'precipProbability': 0.03,\n",
       "    'precipType': 'rain',\n",
       "    'temperature': 75.15,\n",
       "    'apparentTemperature': 75.15,\n",
       "    'dewPoint': 55.22,\n",
       "    'humidity': 0.5,\n",
       "    'pressure': 1006.9,\n",
       "    'windSpeed': 5.31,\n",
       "    'windGust': 14.74,\n",
       "    'windBearing': 158,\n",
       "    'cloudCover': 0.77,\n",
       "    'uvIndex': 2,\n",
       "    'visibility': 10,\n",
       "    'ozone': 251.7},\n",
       "   {'time': 1580770800,\n",
       "    'summary': 'Overcast',\n",
       "    'icon': 'cloudy',\n",
       "    'precipIntensity': 0.0006,\n",
       "    'precipProbability': 0.02,\n",
       "    'precipType': 'rain',\n",
       "    'temperature': 74.23,\n",
       "    'apparentTemperature': 74.23,\n",
       "    'dewPoint': 55.7,\n",
       "    'humidity': 0.52,\n",
       "    'pressure': 1006.2,\n",
       "    'windSpeed': 5,\n",
       "    'windGust': 12.76,\n",
       "    'windBearing': 125,\n",
       "    'cloudCover': 0.89,\n",
       "    'uvIndex': 1,\n",
       "    'visibility': 10,\n",
       "    'ozone': 252.5},\n",
       "   {'time': 1580774400,\n",
       "    'summary': 'Overcast',\n",
       "    'icon': 'cloudy',\n",
       "    'precipIntensity': 0.0011,\n",
       "    'precipProbability': 0.02,\n",
       "    'precipType': 'rain',\n",
       "    'temperature': 74.7,\n",
       "    'apparentTemperature': 74.7,\n",
       "    'dewPoint': 54.74,\n",
       "    'humidity': 0.5,\n",
       "    'pressure': 1006.5,\n",
       "    'windSpeed': 4.37,\n",
       "    'windGust': 11.26,\n",
       "    'windBearing': 120,\n",
       "    'cloudCover': 0.95,\n",
       "    'uvIndex': 0,\n",
       "    'visibility': 10,\n",
       "    'ozone': 253.5},\n",
       "   {'time': 1580778000,\n",
       "    'summary': 'Mostly Cloudy',\n",
       "    'icon': 'partly-cloudy-night',\n",
       "    'precipIntensity': 0.0016,\n",
       "    'precipProbability': 0.02,\n",
       "    'precipType': 'rain',\n",
       "    'temperature': 70.93,\n",
       "    'apparentTemperature': 70.93,\n",
       "    'dewPoint': 56.69,\n",
       "    'humidity': 0.61,\n",
       "    'pressure': 1007.9,\n",
       "    'windSpeed': 4.54,\n",
       "    'windGust': 9.2,\n",
       "    'windBearing': 101,\n",
       "    'cloudCover': 0.77,\n",
       "    'uvIndex': 0,\n",
       "    'visibility': 10,\n",
       "    'ozone': 258.1},\n",
       "   {'time': 1580781600,\n",
       "    'summary': 'Mostly Cloudy',\n",
       "    'icon': 'partly-cloudy-night',\n",
       "    'precipIntensity': 0,\n",
       "    'precipProbability': 0,\n",
       "    'temperature': 68.66,\n",
       "    'apparentTemperature': 68.66,\n",
       "    'dewPoint': 55.45,\n",
       "    'humidity': 0.63,\n",
       "    'pressure': 1009.8,\n",
       "    'windSpeed': 5.21,\n",
       "    'windGust': 9.52,\n",
       "    'windBearing': 278,\n",
       "    'cloudCover': 0.62,\n",
       "    'uvIndex': 0,\n",
       "    'visibility': 10,\n",
       "    'ozone': 259.2},\n",
       "   {'time': 1580785200,\n",
       "    'summary': 'Mostly Cloudy',\n",
       "    'icon': 'partly-cloudy-night',\n",
       "    'precipIntensity': 0,\n",
       "    'precipProbability': 0,\n",
       "    'temperature': 66.37,\n",
       "    'apparentTemperature': 66.37,\n",
       "    'dewPoint': 53.99,\n",
       "    'humidity': 0.64,\n",
       "    'pressure': 1010.3,\n",
       "    'windSpeed': 4.7,\n",
       "    'windGust': 10.14,\n",
       "    'windBearing': 241,\n",
       "    'cloudCover': 0.62,\n",
       "    'uvIndex': 0,\n",
       "    'visibility': 10,\n",
       "    'ozone': 260.4},\n",
       "   {'time': 1580788800,\n",
       "    'summary': 'Mostly Cloudy',\n",
       "    'icon': 'partly-cloudy-night',\n",
       "    'precipIntensity': 0,\n",
       "    'precipProbability': 0,\n",
       "    'temperature': 65.08,\n",
       "    'apparentTemperature': 65.08,\n",
       "    'dewPoint': 52.46,\n",
       "    'humidity': 0.64,\n",
       "    'pressure': 1009.3,\n",
       "    'windSpeed': 4.75,\n",
       "    'windGust': 9.22,\n",
       "    'windBearing': 255,\n",
       "    'cloudCover': 0.6,\n",
       "    'uvIndex': 0,\n",
       "    'visibility': 10,\n",
       "    'ozone': 262.1},\n",
       "   {'time': 1580792400,\n",
       "    'summary': 'Mostly Cloudy',\n",
       "    'icon': 'partly-cloudy-night',\n",
       "    'precipIntensity': 0,\n",
       "    'precipProbability': 0,\n",
       "    'temperature': 64.33,\n",
       "    'apparentTemperature': 64.33,\n",
       "    'dewPoint': 52.45,\n",
       "    'humidity': 0.65,\n",
       "    'pressure': 1008.6,\n",
       "    'windSpeed': 5.21,\n",
       "    'windGust': 9.89,\n",
       "    'windBearing': 248,\n",
       "    'cloudCover': 0.8,\n",
       "    'uvIndex': 0,\n",
       "    'visibility': 10,\n",
       "    'ozone': 264.2}]},\n",
       " 'daily': {'data': [{'time': 1580709600,\n",
       "    'summary': 'Mostly cloudy throughout the day.',\n",
       "    'icon': 'rain',\n",
       "    'sunriseTime': 1580736300,\n",
       "    'sunsetTime': 1580776020,\n",
       "    'moonPhase': 0.32,\n",
       "    'precipIntensity': 0.0014,\n",
       "    'precipIntensityMax': 0.0042,\n",
       "    'precipIntensityMaxTime': 1580730300,\n",
       "    'precipProbability': 0.29,\n",
       "    'precipType': 'rain',\n",
       "    'temperatureHigh': 77.12,\n",
       "    'temperatureHighTime': 1580760840,\n",
       "    'temperatureLow': 58.38,\n",
       "    'temperatureLowTime': 1580817180,\n",
       "    'apparentTemperatureHigh': 76.62,\n",
       "    'apparentTemperatureHighTime': 1580760840,\n",
       "    'apparentTemperatureLow': 58.87,\n",
       "    'apparentTemperatureLowTime': 1580817180,\n",
       "    'dewPoint': 53.57,\n",
       "    'humidity': 0.64,\n",
       "    'pressure': 1009.9,\n",
       "    'windSpeed': 5.04,\n",
       "    'windGust': 20.99,\n",
       "    'windGustTime': 1580749080,\n",
       "    'windBearing': 228,\n",
       "    'cloudCover': 0.74,\n",
       "    'uvIndex': 5,\n",
       "    'uvIndexTime': 1580756460,\n",
       "    'visibility': 10,\n",
       "    'ozone': 256.4,\n",
       "    'temperatureMin': 57.1,\n",
       "    'temperatureMinTime': 1580722320,\n",
       "    'temperatureMax': 77.12,\n",
       "    'temperatureMaxTime': 1580760840,\n",
       "    'apparentTemperatureMin': 57.59,\n",
       "    'apparentTemperatureMinTime': 1580722320,\n",
       "    'apparentTemperatureMax': 76.62,\n",
       "    'apparentTemperatureMaxTime': 1580760840}]},\n",
       " 'flags': {'sources': ['cmc',\n",
       "   'gfs',\n",
       "   'hrrr',\n",
       "   'icon',\n",
       "   'isd',\n",
       "   'madis',\n",
       "   'nam',\n",
       "   'sref'],\n",
       "  'nearest-station': 2.75,\n",
       "  'units': 'us'},\n",
       " 'offset': -6}"
      ]
     },
     "execution_count": 7,
     "metadata": {},
     "output_type": "execute_result"
    }
   ],
   "source": [
    "jsonResponse"
   ]
  },
  {
   "cell_type": "code",
   "execution_count": 8,
   "metadata": {
    "slideshow": {
     "slide_type": "subslide"
    }
   },
   "outputs": [],
   "source": [
    "temp = pd.DataFrame.from_dict(jsonResponse[\"daily\"][\"data\"])\n",
    "temp[\"date\"] = fecha\n",
    "temp[\"time\"] = temp.time.apply(lambda x: time.strftime(\"%D %H:%M\", time.localtime(int(x))))"
   ]
  },
  {
   "cell_type": "code",
   "execution_count": 9,
   "metadata": {
    "slideshow": {
     "slide_type": "fragment"
    }
   },
   "outputs": [
    {
     "data": {
      "text/html": [
       "<div>\n",
       "<style scoped>\n",
       "    .dataframe tbody tr th:only-of-type {\n",
       "        vertical-align: middle;\n",
       "    }\n",
       "\n",
       "    .dataframe tbody tr th {\n",
       "        vertical-align: top;\n",
       "    }\n",
       "\n",
       "    .dataframe thead th {\n",
       "        text-align: right;\n",
       "    }\n",
       "</style>\n",
       "<table border=\"1\" class=\"dataframe\">\n",
       "  <thead>\n",
       "    <tr style=\"text-align: right;\">\n",
       "      <th></th>\n",
       "      <th>time</th>\n",
       "      <th>summary</th>\n",
       "      <th>icon</th>\n",
       "      <th>sunriseTime</th>\n",
       "      <th>sunsetTime</th>\n",
       "      <th>moonPhase</th>\n",
       "      <th>precipIntensity</th>\n",
       "      <th>precipIntensityMax</th>\n",
       "      <th>precipIntensityMaxTime</th>\n",
       "      <th>precipProbability</th>\n",
       "      <th>...</th>\n",
       "      <th>ozone</th>\n",
       "      <th>temperatureMin</th>\n",
       "      <th>temperatureMinTime</th>\n",
       "      <th>temperatureMax</th>\n",
       "      <th>temperatureMaxTime</th>\n",
       "      <th>apparentTemperatureMin</th>\n",
       "      <th>apparentTemperatureMinTime</th>\n",
       "      <th>apparentTemperatureMax</th>\n",
       "      <th>apparentTemperatureMaxTime</th>\n",
       "      <th>date</th>\n",
       "    </tr>\n",
       "  </thead>\n",
       "  <tbody>\n",
       "    <tr>\n",
       "      <th>0</th>\n",
       "      <td>02/03/20 00:00</td>\n",
       "      <td>Mostly cloudy throughout the day.</td>\n",
       "      <td>rain</td>\n",
       "      <td>1580736300</td>\n",
       "      <td>1580776020</td>\n",
       "      <td>0.32</td>\n",
       "      <td>0.0014</td>\n",
       "      <td>0.0042</td>\n",
       "      <td>1580730300</td>\n",
       "      <td>0.29</td>\n",
       "      <td>...</td>\n",
       "      <td>256.4</td>\n",
       "      <td>57.1</td>\n",
       "      <td>1580722320</td>\n",
       "      <td>77.12</td>\n",
       "      <td>1580760840</td>\n",
       "      <td>57.59</td>\n",
       "      <td>1580722320</td>\n",
       "      <td>76.62</td>\n",
       "      <td>1580760840</td>\n",
       "      <td>1580774400</td>\n",
       "    </tr>\n",
       "  </tbody>\n",
       "</table>\n",
       "<p>1 rows × 40 columns</p>\n",
       "</div>"
      ],
      "text/plain": [
       "             time                            summary  icon  sunriseTime  \\\n",
       "0  02/03/20 00:00  Mostly cloudy throughout the day.  rain   1580736300   \n",
       "\n",
       "   sunsetTime  moonPhase  precipIntensity  precipIntensityMax  \\\n",
       "0  1580776020       0.32           0.0014              0.0042   \n",
       "\n",
       "   precipIntensityMaxTime  precipProbability  ...  ozone  temperatureMin  \\\n",
       "0              1580730300               0.29  ...  256.4            57.1   \n",
       "\n",
       "   temperatureMinTime  temperatureMax  temperatureMaxTime  \\\n",
       "0          1580722320           77.12          1580760840   \n",
       "\n",
       "   apparentTemperatureMin  apparentTemperatureMinTime  apparentTemperatureMax  \\\n",
       "0                   57.59                  1580722320                   76.62   \n",
       "\n",
       "   apparentTemperatureMaxTime        date  \n",
       "0                  1580760840  1580774400  \n",
       "\n",
       "[1 rows x 40 columns]"
      ]
     },
     "execution_count": 9,
     "metadata": {},
     "output_type": "execute_result"
    }
   ],
   "source": [
    "temp"
   ]
  },
  {
   "cell_type": "markdown",
   "metadata": {
    "slideshow": {
     "slide_type": "slide"
    }
   },
   "source": [
    "## Ejercicios en clase\n",
    "\n",
    "1. Del archivo coordenadas.csv descargar los datos de clima para las fechas \"01-01-2010\" a \"02-01-2010\". Sugerencia: realizar una función para hacerlo.\n",
    "\n",
    "2. La compañía Krispy Kreme quiere saber como se relaciona el clima con sus ventas de donas (imagina que tu tienes estas ventas). Tu tarea será descargar el clima para cada una de las sucursales de Krispy Kreme en México para el día 31-12-2015.\n"
   ]
  },
  {
   "cell_type": "markdown",
   "metadata": {
    "slideshow": {
     "slide_type": "fragment"
    }
   },
   "source": [
    "### Sugerencias:"
   ]
  },
  {
   "cell_type": "markdown",
   "metadata": {
    "slideshow": {
     "slide_type": "fragment"
    }
   },
   "source": [
    "1. Realiza un scraper de la página de Krispy Kreme para obtener los datos geograficos. Para este caso te sugerimos https://srome.github.io/Parsing-HTML-Tables-in-Python-with-BeautifulSoup-and-pandas/ y https://mappinggis.com/2018/11/geocodificacion-con-geopy/\n",
    "\n",
    "2. Usa la función del ejercicio 1 para descargar el clima."
   ]
  },
  {
   "cell_type": "markdown",
   "metadata": {
    "slideshow": {
     "slide_type": "slide"
    }
   },
   "source": [
    "# Soluciones"
   ]
  },
  {
   "cell_type": "markdown",
   "metadata": {
    "slideshow": {
     "slide_type": "subslide"
    }
   },
   "source": [
    "## Ejercicio 1. \n",
    "##### Función para hacer la descarga mas general"
   ]
  },
  {
   "cell_type": "code",
   "execution_count": 10,
   "metadata": {
    "slideshow": {
     "slide_type": "fragment"
    }
   },
   "outputs": [],
   "source": [
    "    #----------------------------------------------------------\n",
    "    ## Función para descargar el clima historico de un conjunto\n",
    "    ## de lugares con coordenadas geograficas.\n",
    "    #\n",
    "    #\n",
    "    # Parametros\n",
    "    # - coor:       es un datafram con columnas: state, lat, lon.\n",
    "    # - begin_date: es la fecha de inicio para descargar.\n",
    "    # - end_date:   es la fecha final para descargar.\n",
    "    # - key:        clave de usuario"
   ]
  },
  {
   "cell_type": "code",
   "execution_count": 11,
   "metadata": {
    "slideshow": {
     "slide_type": "subslide"
    }
   },
   "outputs": [],
   "source": [
    "def api_dark_ski(coor, begin_date, end_date, key):\n",
    "    # creamos el vector de las fechas.\n",
    "    fechas = pd.date_range(start=pd.to_datetime(begin_date), end=pd.to_datetime(end_date), freq=\"D\")\n",
    "    fechas_unix= (fechas-pd.to_datetime(\"1970-01-01\")).total_seconds().astype(\"int\") # formato especifico de la API.\n",
    "    \n",
    "    # inicializamos los dataframe\n",
    "    clima = pd.DataFrame() \n",
    "    \n",
    "    # iteramos por cada estado\n",
    "    for num, i in enumerate(coor[\"state\"]):\n",
    "        print(i) # imprimimos el estado descargando.\n",
    "        for date in fechas_unix:   \n",
    "            print(date)\n",
    "            x = coor[\"lat\"][num]\n",
    "            y = coor[\"log\"][num]\n",
    "            weather = \"https://api.darksky.net/forecast/{}/{},{},{}?exclude=[currently,minutely,hourly,alerts,flags]\".format(key, x, y, date)\n",
    "            page = urllib.request.urlopen(weather).read()\n",
    "            jsonResponse = json.loads(page.decode('utf-8'))\n",
    "            if \"daily\" in jsonResponse.keys():\n",
    "                temp = pd.DataFrame.from_dict(jsonResponse[\"daily\"][\"data\"])\n",
    "                temp[\"state\"] = i\n",
    "                temp[\"time\"] = temp.time.apply(lambda x: time.strftime(\"%D %H:%M\", time.localtime(int(x))))\n",
    "                clima = pd.concat([clima,temp])\n",
    "\n",
    "    print(\"------------------------------------------------------------\")\n",
    "    print(\"Descarga finalizada\")\n",
    "    return clima"
   ]
  },
  {
   "cell_type": "markdown",
   "metadata": {
    "slideshow": {
     "slide_type": "subslide"
    }
   },
   "source": [
    "## Ejemplo:"
   ]
  },
  {
   "cell_type": "markdown",
   "metadata": {
    "slideshow": {
     "slide_type": "fragment"
    }
   },
   "source": [
    "### Parametros para la función"
   ]
  },
  {
   "cell_type": "code",
   "execution_count": 12,
   "metadata": {
    "slideshow": {
     "slide_type": "fragment"
    }
   },
   "outputs": [
    {
     "data": {
      "text/html": [
       "<div>\n",
       "<style scoped>\n",
       "    .dataframe tbody tr th:only-of-type {\n",
       "        vertical-align: middle;\n",
       "    }\n",
       "\n",
       "    .dataframe tbody tr th {\n",
       "        vertical-align: top;\n",
       "    }\n",
       "\n",
       "    .dataframe thead th {\n",
       "        text-align: right;\n",
       "    }\n",
       "</style>\n",
       "<table border=\"1\" class=\"dataframe\">\n",
       "  <thead>\n",
       "    <tr style=\"text-align: right;\">\n",
       "      <th></th>\n",
       "      <th>state</th>\n",
       "      <th>lat</th>\n",
       "      <th>log</th>\n",
       "    </tr>\n",
       "  </thead>\n",
       "  <tbody>\n",
       "    <tr>\n",
       "      <th>0</th>\n",
       "      <td>Culiacán</td>\n",
       "      <td>24.791140</td>\n",
       "      <td>-107.393059</td>\n",
       "    </tr>\n",
       "    <tr>\n",
       "      <th>1</th>\n",
       "      <td>Mexicali</td>\n",
       "      <td>32.636004</td>\n",
       "      <td>-115.472609</td>\n",
       "    </tr>\n",
       "    <tr>\n",
       "      <th>2</th>\n",
       "      <td>Zapopan</td>\n",
       "      <td>20.675532</td>\n",
       "      <td>-103.350425</td>\n",
       "    </tr>\n",
       "    <tr>\n",
       "      <th>3</th>\n",
       "      <td>Cd. Juárez</td>\n",
       "      <td>25.491446</td>\n",
       "      <td>-103.593103</td>\n",
       "    </tr>\n",
       "    <tr>\n",
       "      <th>4</th>\n",
       "      <td>Guadiana</td>\n",
       "      <td>21.787660</td>\n",
       "      <td>-101.004431</td>\n",
       "    </tr>\n",
       "    <tr>\n",
       "      <th>5</th>\n",
       "      <td>Monterrey</td>\n",
       "      <td>25.679673</td>\n",
       "      <td>-100.316839</td>\n",
       "    </tr>\n",
       "  </tbody>\n",
       "</table>\n",
       "</div>"
      ],
      "text/plain": [
       "        state        lat         log\n",
       "0    Culiacán  24.791140 -107.393059\n",
       "1    Mexicali  32.636004 -115.472609\n",
       "2     Zapopan  20.675532 -103.350425\n",
       "3  Cd. Juárez  25.491446 -103.593103\n",
       "4    Guadiana  21.787660 -101.004431\n",
       "5   Monterrey  25.679673 -100.316839"
      ]
     },
     "execution_count": 12,
     "metadata": {},
     "output_type": "execute_result"
    }
   ],
   "source": [
    "# leemos los datos de las coordenados.\n",
    "coor_lugares = pd.read_csv(\"../data/coordenadas.csv\")\n",
    "coor_lugares.head(6)"
   ]
  },
  {
   "cell_type": "code",
   "execution_count": 13,
   "metadata": {
    "slideshow": {
     "slide_type": "fragment"
    }
   },
   "outputs": [],
   "source": [
    "coor_lugares = coor_lugares.head(1) # para no hacer muchas descargas cortamos los datos\n",
    "\n",
    "# definimos las fechas de descarga\n",
    "begin_date = \"2020-04-28\"\n",
    "end_date = \"2020-04-30\"\n",
    "\n",
    "# llave\n",
    "key = \"93a3ab8136ea441147c4702bc5bdabc3\""
   ]
  },
  {
   "cell_type": "code",
   "execution_count": 14,
   "metadata": {
    "scrolled": true,
    "slideshow": {
     "slide_type": "subslide"
    }
   },
   "outputs": [
    {
     "name": "stdout",
     "output_type": "stream",
     "text": [
      "Culiacán\n",
      "1588032000\n",
      "1588118400\n",
      "1588204800\n",
      "------------------------------------------------------------\n",
      "Descarga finalizada\n"
     ]
    }
   ],
   "source": [
    "clima = api_dark_ski(coor_lugares, begin_date, end_date, key)"
   ]
  },
  {
   "cell_type": "code",
   "execution_count": 15,
   "metadata": {
    "scrolled": true,
    "slideshow": {
     "slide_type": "fragment"
    }
   },
   "outputs": [
    {
     "data": {
      "text/html": [
       "<div>\n",
       "<style scoped>\n",
       "    .dataframe tbody tr th:only-of-type {\n",
       "        vertical-align: middle;\n",
       "    }\n",
       "\n",
       "    .dataframe tbody tr th {\n",
       "        vertical-align: top;\n",
       "    }\n",
       "\n",
       "    .dataframe thead th {\n",
       "        text-align: right;\n",
       "    }\n",
       "</style>\n",
       "<table border=\"1\" class=\"dataframe\">\n",
       "  <thead>\n",
       "    <tr style=\"text-align: right;\">\n",
       "      <th></th>\n",
       "      <th>time</th>\n",
       "      <th>summary</th>\n",
       "      <th>icon</th>\n",
       "      <th>sunriseTime</th>\n",
       "      <th>sunsetTime</th>\n",
       "      <th>moonPhase</th>\n",
       "      <th>precipIntensity</th>\n",
       "      <th>precipIntensityMax</th>\n",
       "      <th>precipIntensityMaxTime</th>\n",
       "      <th>precipProbability</th>\n",
       "      <th>...</th>\n",
       "      <th>ozone</th>\n",
       "      <th>temperatureMin</th>\n",
       "      <th>temperatureMinTime</th>\n",
       "      <th>temperatureMax</th>\n",
       "      <th>temperatureMaxTime</th>\n",
       "      <th>apparentTemperatureMin</th>\n",
       "      <th>apparentTemperatureMinTime</th>\n",
       "      <th>apparentTemperatureMax</th>\n",
       "      <th>apparentTemperatureMaxTime</th>\n",
       "      <th>state</th>\n",
       "    </tr>\n",
       "  </thead>\n",
       "  <tbody>\n",
       "    <tr>\n",
       "      <th>0</th>\n",
       "      <td>04/27/20 01:00</td>\n",
       "      <td>Clear throughout the day.</td>\n",
       "      <td>clear-day</td>\n",
       "      <td>1587991080</td>\n",
       "      <td>1588037940</td>\n",
       "      <td>0.16</td>\n",
       "      <td>0.0005</td>\n",
       "      <td>0.0022</td>\n",
       "      <td>1587970740</td>\n",
       "      <td>0.01</td>\n",
       "      <td>...</td>\n",
       "      <td>289.7</td>\n",
       "      <td>63.58</td>\n",
       "      <td>1587981720</td>\n",
       "      <td>99.45</td>\n",
       "      <td>1588020060</td>\n",
       "      <td>64.07</td>\n",
       "      <td>1587981720</td>\n",
       "      <td>98.95</td>\n",
       "      <td>1588020060</td>\n",
       "      <td>Culiacán</td>\n",
       "    </tr>\n",
       "    <tr>\n",
       "      <th>0</th>\n",
       "      <td>04/28/20 01:00</td>\n",
       "      <td>Clear throughout the day.</td>\n",
       "      <td>clear-day</td>\n",
       "      <td>1588077420</td>\n",
       "      <td>1588124340</td>\n",
       "      <td>0.19</td>\n",
       "      <td>0.0009</td>\n",
       "      <td>0.0023</td>\n",
       "      <td>1588101300</td>\n",
       "      <td>0.01</td>\n",
       "      <td>...</td>\n",
       "      <td>293.1</td>\n",
       "      <td>62.64</td>\n",
       "      <td>1588068060</td>\n",
       "      <td>97.20</td>\n",
       "      <td>1588103580</td>\n",
       "      <td>63.13</td>\n",
       "      <td>1588068060</td>\n",
       "      <td>96.70</td>\n",
       "      <td>1588103580</td>\n",
       "      <td>Culiacán</td>\n",
       "    </tr>\n",
       "    <tr>\n",
       "      <th>0</th>\n",
       "      <td>04/29/20 01:00</td>\n",
       "      <td>Clear throughout the day.</td>\n",
       "      <td>clear-day</td>\n",
       "      <td>1588163760</td>\n",
       "      <td>1588210800</td>\n",
       "      <td>0.22</td>\n",
       "      <td>0.0009</td>\n",
       "      <td>0.0023</td>\n",
       "      <td>1588150980</td>\n",
       "      <td>0.04</td>\n",
       "      <td>...</td>\n",
       "      <td>323.3</td>\n",
       "      <td>64.16</td>\n",
       "      <td>1588154580</td>\n",
       "      <td>97.30</td>\n",
       "      <td>1588190760</td>\n",
       "      <td>64.65</td>\n",
       "      <td>1588154580</td>\n",
       "      <td>96.80</td>\n",
       "      <td>1588190760</td>\n",
       "      <td>Culiacán</td>\n",
       "    </tr>\n",
       "  </tbody>\n",
       "</table>\n",
       "<p>3 rows × 40 columns</p>\n",
       "</div>"
      ],
      "text/plain": [
       "             time                    summary       icon  sunriseTime  \\\n",
       "0  04/27/20 01:00  Clear throughout the day.  clear-day   1587991080   \n",
       "0  04/28/20 01:00  Clear throughout the day.  clear-day   1588077420   \n",
       "0  04/29/20 01:00  Clear throughout the day.  clear-day   1588163760   \n",
       "\n",
       "   sunsetTime  moonPhase  precipIntensity  precipIntensityMax  \\\n",
       "0  1588037940       0.16           0.0005              0.0022   \n",
       "0  1588124340       0.19           0.0009              0.0023   \n",
       "0  1588210800       0.22           0.0009              0.0023   \n",
       "\n",
       "   precipIntensityMaxTime  precipProbability  ...  ozone  temperatureMin  \\\n",
       "0              1587970740               0.01  ...  289.7           63.58   \n",
       "0              1588101300               0.01  ...  293.1           62.64   \n",
       "0              1588150980               0.04  ...  323.3           64.16   \n",
       "\n",
       "   temperatureMinTime  temperatureMax  temperatureMaxTime  \\\n",
       "0          1587981720           99.45          1588020060   \n",
       "0          1588068060           97.20          1588103580   \n",
       "0          1588154580           97.30          1588190760   \n",
       "\n",
       "   apparentTemperatureMin  apparentTemperatureMinTime  apparentTemperatureMax  \\\n",
       "0                   64.07                  1587981720                   98.95   \n",
       "0                   63.13                  1588068060                   96.70   \n",
       "0                   64.65                  1588154580                   96.80   \n",
       "\n",
       "   apparentTemperatureMaxTime     state  \n",
       "0                  1588020060  Culiacán  \n",
       "0                  1588103580  Culiacán  \n",
       "0                  1588190760  Culiacán  \n",
       "\n",
       "[3 rows x 40 columns]"
      ]
     },
     "execution_count": 15,
     "metadata": {},
     "output_type": "execute_result"
    }
   ],
   "source": [
    "clima.head(3)"
   ]
  },
  {
   "cell_type": "code",
   "execution_count": 16,
   "metadata": {
    "slideshow": {
     "slide_type": "fragment"
    }
   },
   "outputs": [],
   "source": [
    "clima.to_csv(\"../data/clima_dark_sky.csv\") # guardamos los datos"
   ]
  },
  {
   "cell_type": "markdown",
   "metadata": {
    "slideshow": {
     "slide_type": "subslide"
    }
   },
   "source": [
    "### Ejercicio 2 (solución)\n",
    "###### Descarga del clima para las sucursales de Krispy Kream"
   ]
  },
  {
   "cell_type": "markdown",
   "metadata": {
    "slideshow": {
     "slide_type": "subslide"
    }
   },
   "source": [
    "### Le pegamos a la API de Krispy Kream\n",
    "![kryspy](kryspykreme.png)"
   ]
  },
  {
   "cell_type": "code",
   "execution_count": 17,
   "metadata": {
    "slideshow": {
     "slide_type": "subslide"
    }
   },
   "outputs": [],
   "source": [
    "from bs4 import BeautifulSoup\n",
    "import requests\n",
    "\n",
    "url_kripy = \"https://www.krispykreme.mx/directorio-tiendas/\"\n",
    "\n",
    "page = requests.get(url_kripy) #solicitud a url\n",
    "# print(page.text)"
   ]
  },
  {
   "cell_type": "code",
   "execution_count": 18,
   "metadata": {
    "slideshow": {
     "slide_type": "fragment"
    }
   },
   "outputs": [],
   "source": [
    "sopa = BeautifulSoup(page.text, 'lxml') # transformamos el formato\n",
    "# print(sopa.prettify())"
   ]
  },
  {
   "cell_type": "code",
   "execution_count": 19,
   "metadata": {
    "slideshow": {
     "slide_type": "fragment"
    }
   },
   "outputs": [],
   "source": [
    "table = sopa.find('table') # buscamos la tabla\n",
    "# print(table.prettify())"
   ]
  },
  {
   "cell_type": "code",
   "execution_count": 20,
   "metadata": {
    "slideshow": {
     "slide_type": "subslide"
    }
   },
   "outputs": [
    {
     "data": {
      "text/plain": [
       "<tr>\n",
       "<td class=\"textoTabla\" style=\"text-align: left;\">KK Angeles C. Londres</td>\n",
       "<td class=\"textoTabla\" style=\"text-align: left;\">kiosco</td>\n",
       "<td class=\"textoTabla\" style=\"text-align: left;\">Durango 50</td>\n",
       "<td class=\"textoTabla\" style=\"text-align: left;\">Roma</td>\n",
       "<td class=\"textoTabla\" style=\"text-align: left;\">6760</td>\n",
       "<td class=\"textoTabla\" style=\"text-align: left;\">Cuauhtémoc</td>\n",
       "<td class=\"textoTabla\" style=\"text-align: left;\">Ciudad de México</td>\n",
       "<td class=\"textoTabla\" style=\"text-align: left;\"><a href=\"tel:5552074432\">5552074432</a></td>\n",
       "<td class=\"textoTabla\" style=\"text-align: left;\">Abierto</td>\n",
       "</tr>"
      ]
     },
     "execution_count": 20,
     "metadata": {},
     "output_type": "execute_result"
    }
   ],
   "source": [
    "table.find_all(\"tr\")[1]"
   ]
  },
  {
   "cell_type": "code",
   "execution_count": 21,
   "metadata": {
    "slideshow": {
     "slide_type": "fragment"
    }
   },
   "outputs": [
    {
     "data": {
      "text/plain": [
       "<td class=\"textoTabla\" style=\"text-align: left;\">kiosco</td>"
      ]
     },
     "execution_count": 21,
     "metadata": {},
     "output_type": "execute_result"
    }
   ],
   "source": [
    "table.find_all(\"tr\")[1].find_all(\"td\")[1]"
   ]
  },
  {
   "cell_type": "code",
   "execution_count": 22,
   "metadata": {
    "slideshow": {
     "slide_type": "fragment"
    }
   },
   "outputs": [
    {
     "data": {
      "text/plain": [
       "'kiosco'"
      ]
     },
     "execution_count": 22,
     "metadata": {},
     "output_type": "execute_result"
    }
   ],
   "source": [
    "table.find_all(\"tr\")[1].find_all(\"td\")[1].get_text()"
   ]
  },
  {
   "cell_type": "code",
   "execution_count": 23,
   "metadata": {
    "slideshow": {
     "slide_type": "subslide"
    }
   },
   "outputs": [],
   "source": [
    "# inicializamos dos datafrme.\n",
    "aux = pd.DataFrame(columns=range(0,9), index = [0])\n",
    "krispy_kreme_sucursales = pd.DataFrame()\n",
    "\n",
    "row_marker = 0\n",
    "for row in table.find_all('tr'): # iteramos por todos las registros\n",
    "    column_marker = 0\n",
    "    columns = row.find_all('td') # iteramos por todas las columnas\n",
    "    for column in columns:\n",
    "        aux.iat[row_marker,column_marker] = column.get_text() # asignamos el valor al dataframe\n",
    "        column_marker += 1\n",
    "    krispy_kreme_sucursales = pd.concat([krispy_kreme_sucursales, aux]) # concatenamos al df final"
   ]
  },
  {
   "cell_type": "code",
   "execution_count": 24,
   "metadata": {
    "slideshow": {
     "slide_type": "subslide"
    }
   },
   "outputs": [
    {
     "data": {
      "text/html": [
       "<div>\n",
       "<style scoped>\n",
       "    .dataframe tbody tr th:only-of-type {\n",
       "        vertical-align: middle;\n",
       "    }\n",
       "\n",
       "    .dataframe tbody tr th {\n",
       "        vertical-align: top;\n",
       "    }\n",
       "\n",
       "    .dataframe thead th {\n",
       "        text-align: right;\n",
       "    }\n",
       "</style>\n",
       "<table border=\"1\" class=\"dataframe\">\n",
       "  <thead>\n",
       "    <tr style=\"text-align: right;\">\n",
       "      <th></th>\n",
       "      <th>0</th>\n",
       "      <th>1</th>\n",
       "      <th>2</th>\n",
       "      <th>3</th>\n",
       "      <th>4</th>\n",
       "      <th>5</th>\n",
       "      <th>6</th>\n",
       "      <th>7</th>\n",
       "      <th>8</th>\n",
       "    </tr>\n",
       "  </thead>\n",
       "  <tbody>\n",
       "    <tr>\n",
       "      <th>0</th>\n",
       "      <td>NaN</td>\n",
       "      <td>NaN</td>\n",
       "      <td>NaN</td>\n",
       "      <td>NaN</td>\n",
       "      <td>NaN</td>\n",
       "      <td>NaN</td>\n",
       "      <td>NaN</td>\n",
       "      <td>NaN</td>\n",
       "      <td>NaN</td>\n",
       "    </tr>\n",
       "    <tr>\n",
       "      <th>0</th>\n",
       "      <td>KK Angeles C. Londres</td>\n",
       "      <td>kiosco</td>\n",
       "      <td>Durango 50</td>\n",
       "      <td>Roma</td>\n",
       "      <td>6760</td>\n",
       "      <td>Cuauhtémoc</td>\n",
       "      <td>Ciudad de México</td>\n",
       "      <td>5552074432</td>\n",
       "      <td>Abierto</td>\n",
       "    </tr>\n",
       "    <tr>\n",
       "      <th>0</th>\n",
       "      <td>KK Angeles Pedregal</td>\n",
       "      <td>kiosco</td>\n",
       "      <td>Camino a Santa Teresa 1055</td>\n",
       "      <td>Héroes de Padierna</td>\n",
       "      <td>10700</td>\n",
       "      <td>Magdalena Contreras</td>\n",
       "      <td>Ciudad de México</td>\n",
       "      <td>5551355937</td>\n",
       "      <td>Abierto</td>\n",
       "    </tr>\n",
       "    <tr>\n",
       "      <th>0</th>\n",
       "      <td>KK Angeles Guadalajara</td>\n",
       "      <td>kiosco</td>\n",
       "      <td>Tarascos 3435</td>\n",
       "      <td>Fracc. Monraz</td>\n",
       "      <td>44670</td>\n",
       "      <td>Guadalajara</td>\n",
       "      <td>Jalisco</td>\n",
       "      <td>3338130128</td>\n",
       "      <td>Abierto</td>\n",
       "    </tr>\n",
       "    <tr>\n",
       "      <th>0</th>\n",
       "      <td>KK Angeles Interlomas</td>\n",
       "      <td>kiosco</td>\n",
       "      <td>Vialidad de la Barranca 22</td>\n",
       "      <td>Valle de las Palmas</td>\n",
       "      <td>52763</td>\n",
       "      <td>Huixquilucan</td>\n",
       "      <td>Estado de México</td>\n",
       "      <td>5552472292</td>\n",
       "      <td>Abierto</td>\n",
       "    </tr>\n",
       "    <tr>\n",
       "      <th>0</th>\n",
       "      <td>KK Angeles León</td>\n",
       "      <td>kiosco</td>\n",
       "      <td>Av. Cerro Gordo 311</td>\n",
       "      <td>Lomas de Campestre</td>\n",
       "      <td>37150</td>\n",
       "      <td>León</td>\n",
       "      <td>Guanajuato</td>\n",
       "      <td>4777171051</td>\n",
       "      <td>Abierto</td>\n",
       "    </tr>\n",
       "    <tr>\n",
       "      <th>0</th>\n",
       "      <td>KK Angeles Lindavista</td>\n",
       "      <td>kiosco</td>\n",
       "      <td>Rio Bamba 639</td>\n",
       "      <td>Magdalena de las Salinas</td>\n",
       "      <td>7760</td>\n",
       "      <td>Gustavo A. Madero</td>\n",
       "      <td>Ciudad de México</td>\n",
       "      <td>5555863349</td>\n",
       "      <td>Abierto</td>\n",
       "    </tr>\n",
       "    <tr>\n",
       "      <th>0</th>\n",
       "      <td>KK Angeles Metropolitano</td>\n",
       "      <td>kiosco</td>\n",
       "      <td>Tlacotalpan 59</td>\n",
       "      <td>Roma</td>\n",
       "      <td>6760</td>\n",
       "      <td>Cuauhtémoc</td>\n",
       "      <td>Ciudad de México</td>\n",
       "      <td>5552641659</td>\n",
       "      <td>Abierto</td>\n",
       "    </tr>\n",
       "    <tr>\n",
       "      <th>0</th>\n",
       "      <td>KK Angeles Mexico</td>\n",
       "      <td>kiosco</td>\n",
       "      <td>Agrarismo 208</td>\n",
       "      <td>Escandón</td>\n",
       "      <td>11800</td>\n",
       "      <td>Miguel Hidalgo</td>\n",
       "      <td>Ciudad de México</td>\n",
       "      <td>5526147824</td>\n",
       "      <td>Abierto</td>\n",
       "    </tr>\n",
       "    <tr>\n",
       "      <th>0</th>\n",
       "      <td>KK Angeles Mocel</td>\n",
       "      <td>kiosco</td>\n",
       "      <td>Gregorio V. Gelati 29</td>\n",
       "      <td>San Miguel Chapultepec</td>\n",
       "      <td>11850</td>\n",
       "      <td>Miguel Hidalgo</td>\n",
       "      <td>Ciudad de México</td>\n",
       "      <td>5552727000</td>\n",
       "      <td>Abierto</td>\n",
       "    </tr>\n",
       "  </tbody>\n",
       "</table>\n",
       "</div>"
      ],
      "text/plain": [
       "                          0       1                           2  \\\n",
       "0                       NaN     NaN                         NaN   \n",
       "0     KK Angeles C. Londres  kiosco                  Durango 50   \n",
       "0       KK Angeles Pedregal  kiosco  Camino a Santa Teresa 1055   \n",
       "0    KK Angeles Guadalajara  kiosco               Tarascos 3435   \n",
       "0     KK Angeles Interlomas  kiosco  Vialidad de la Barranca 22   \n",
       "0           KK Angeles León  kiosco         Av. Cerro Gordo 311   \n",
       "0     KK Angeles Lindavista  kiosco               Rio Bamba 639   \n",
       "0  KK Angeles Metropolitano  kiosco              Tlacotalpan 59   \n",
       "0         KK Angeles Mexico  kiosco               Agrarismo 208   \n",
       "0          KK Angeles Mocel  kiosco       Gregorio V. Gelati 29   \n",
       "\n",
       "                          3      4                    5                 6  \\\n",
       "0                       NaN    NaN                  NaN               NaN   \n",
       "0                      Roma   6760           Cuauhtémoc  Ciudad de México   \n",
       "0        Héroes de Padierna  10700  Magdalena Contreras  Ciudad de México   \n",
       "0             Fracc. Monraz  44670          Guadalajara           Jalisco   \n",
       "0       Valle de las Palmas  52763         Huixquilucan  Estado de México   \n",
       "0        Lomas de Campestre  37150                 León        Guanajuato   \n",
       "0  Magdalena de las Salinas   7760    Gustavo A. Madero  Ciudad de México   \n",
       "0                      Roma   6760           Cuauhtémoc  Ciudad de México   \n",
       "0                  Escandón  11800       Miguel Hidalgo  Ciudad de México   \n",
       "0    San Miguel Chapultepec  11850       Miguel Hidalgo  Ciudad de México   \n",
       "\n",
       "            7        8  \n",
       "0         NaN      NaN  \n",
       "0  5552074432  Abierto  \n",
       "0  5551355937  Abierto  \n",
       "0  3338130128  Abierto  \n",
       "0  5552472292  Abierto  \n",
       "0  4777171051  Abierto  \n",
       "0  5555863349  Abierto  \n",
       "0  5552641659  Abierto  \n",
       "0  5526147824  Abierto  \n",
       "0  5552727000  Abierto  "
      ]
     },
     "execution_count": 24,
     "metadata": {},
     "output_type": "execute_result"
    }
   ],
   "source": [
    "krispy_kreme_sucursales.head(10)"
   ]
  },
  {
   "cell_type": "code",
   "execution_count": 25,
   "metadata": {
    "slideshow": {
     "slide_type": "subslide"
    }
   },
   "outputs": [],
   "source": [
    "krispy_kreme_sucursales.dropna(inplace=True)\n",
    "\n",
    "krispy_kreme_sucursales = krispy_kreme_sucursales.rename(columns={0:\"tienda\", 1:\"tipo_tienda\", 2:\"direccion\", \n",
    "                                                                  3:\"colonia\", 4:\"cp\", 5:\"delegacion\", 6:\"estado\", \n",
    "                                                                  7:\"telefono\", 8:\"status\"})\n",
    "\n",
    "krispy_kreme_sucursales = krispy_kreme_sucursales[krispy_kreme_sucursales.cp!=\"\"]\n",
    "\n",
    "krispy_kreme_sucursales = krispy_kreme_sucursales.reset_index().drop(columns=\"index\")"
   ]
  },
  {
   "cell_type": "code",
   "execution_count": 27,
   "metadata": {
    "slideshow": {
     "slide_type": "fragment"
    }
   },
   "outputs": [
    {
     "data": {
      "text/html": [
       "<div>\n",
       "<style scoped>\n",
       "    .dataframe tbody tr th:only-of-type {\n",
       "        vertical-align: middle;\n",
       "    }\n",
       "\n",
       "    .dataframe tbody tr th {\n",
       "        vertical-align: top;\n",
       "    }\n",
       "\n",
       "    .dataframe thead th {\n",
       "        text-align: right;\n",
       "    }\n",
       "</style>\n",
       "<table border=\"1\" class=\"dataframe\">\n",
       "  <thead>\n",
       "    <tr style=\"text-align: right;\">\n",
       "      <th></th>\n",
       "      <th>tienda</th>\n",
       "      <th>tipo_tienda</th>\n",
       "      <th>direccion</th>\n",
       "      <th>colonia</th>\n",
       "      <th>cp</th>\n",
       "      <th>delegacion</th>\n",
       "      <th>estado</th>\n",
       "      <th>telefono</th>\n",
       "      <th>status</th>\n",
       "    </tr>\n",
       "  </thead>\n",
       "  <tbody>\n",
       "    <tr>\n",
       "      <th>0</th>\n",
       "      <td>KK Angeles C. Londres</td>\n",
       "      <td>kiosco</td>\n",
       "      <td>Durango 50</td>\n",
       "      <td>Roma</td>\n",
       "      <td>6760</td>\n",
       "      <td>Cuauhtémoc</td>\n",
       "      <td>Ciudad de México</td>\n",
       "      <td>5552074432</td>\n",
       "      <td>Abierto</td>\n",
       "    </tr>\n",
       "    <tr>\n",
       "      <th>1</th>\n",
       "      <td>KK Angeles Pedregal</td>\n",
       "      <td>kiosco</td>\n",
       "      <td>Camino a Santa Teresa 1055</td>\n",
       "      <td>Héroes de Padierna</td>\n",
       "      <td>10700</td>\n",
       "      <td>Magdalena Contreras</td>\n",
       "      <td>Ciudad de México</td>\n",
       "      <td>5551355937</td>\n",
       "      <td>Abierto</td>\n",
       "    </tr>\n",
       "    <tr>\n",
       "      <th>2</th>\n",
       "      <td>KK Angeles Guadalajara</td>\n",
       "      <td>kiosco</td>\n",
       "      <td>Tarascos 3435</td>\n",
       "      <td>Fracc. Monraz</td>\n",
       "      <td>44670</td>\n",
       "      <td>Guadalajara</td>\n",
       "      <td>Jalisco</td>\n",
       "      <td>3338130128</td>\n",
       "      <td>Abierto</td>\n",
       "    </tr>\n",
       "    <tr>\n",
       "      <th>3</th>\n",
       "      <td>KK Angeles Interlomas</td>\n",
       "      <td>kiosco</td>\n",
       "      <td>Vialidad de la Barranca 22</td>\n",
       "      <td>Valle de las Palmas</td>\n",
       "      <td>52763</td>\n",
       "      <td>Huixquilucan</td>\n",
       "      <td>Estado de México</td>\n",
       "      <td>5552472292</td>\n",
       "      <td>Abierto</td>\n",
       "    </tr>\n",
       "    <tr>\n",
       "      <th>4</th>\n",
       "      <td>KK Angeles León</td>\n",
       "      <td>kiosco</td>\n",
       "      <td>Av. Cerro Gordo 311</td>\n",
       "      <td>Lomas de Campestre</td>\n",
       "      <td>37150</td>\n",
       "      <td>León</td>\n",
       "      <td>Guanajuato</td>\n",
       "      <td>4777171051</td>\n",
       "      <td>Abierto</td>\n",
       "    </tr>\n",
       "  </tbody>\n",
       "</table>\n",
       "</div>"
      ],
      "text/plain": [
       "                   tienda tipo_tienda                   direccion  \\\n",
       "0   KK Angeles C. Londres      kiosco                  Durango 50   \n",
       "1     KK Angeles Pedregal      kiosco  Camino a Santa Teresa 1055   \n",
       "2  KK Angeles Guadalajara      kiosco               Tarascos 3435   \n",
       "3   KK Angeles Interlomas      kiosco  Vialidad de la Barranca 22   \n",
       "4         KK Angeles León      kiosco         Av. Cerro Gordo 311   \n",
       "\n",
       "               colonia     cp           delegacion            estado  \\\n",
       "0                 Roma   6760           Cuauhtémoc  Ciudad de México   \n",
       "1   Héroes de Padierna  10700  Magdalena Contreras  Ciudad de México   \n",
       "2        Fracc. Monraz  44670          Guadalajara           Jalisco   \n",
       "3  Valle de las Palmas  52763         Huixquilucan  Estado de México   \n",
       "4   Lomas de Campestre  37150                 León        Guanajuato   \n",
       "\n",
       "     telefono   status  \n",
       "0  5552074432  Abierto  \n",
       "1  5551355937  Abierto  \n",
       "2  3338130128  Abierto  \n",
       "3  5552472292  Abierto  \n",
       "4  4777171051  Abierto  "
      ]
     },
     "execution_count": 27,
     "metadata": {},
     "output_type": "execute_result"
    }
   ],
   "source": [
    "krispy_kreme_sucursales.head(5)"
   ]
  },
  {
   "cell_type": "code",
   "execution_count": 28,
   "metadata": {
    "slideshow": {
     "slide_type": "fragment"
    }
   },
   "outputs": [],
   "source": [
    "from geopy.geocoders import Nominatim\n",
    "geolocator = Nominatim(user_agent=\"prueba-kryspy\")\n",
    "\n",
    "for num, i in enumerate(krispy_kreme_sucursales[\"cp\"]):\n",
    "    localization = geolocator.geocode(i)\n",
    "    krispy_kreme_sucursales.loc[krispy_kreme_sucursales.cp==i, \"lat\"] = localization.latitude\n",
    "    krispy_kreme_sucursales.loc[krispy_kreme_sucursales.cp==i, \"log\"] = localization.longitude"
   ]
  },
  {
   "cell_type": "code",
   "execution_count": 29,
   "metadata": {
    "slideshow": {
     "slide_type": "subslide"
    }
   },
   "outputs": [],
   "source": [
    "def api_dark_ski(coor, begin_date, end_date, key):\n",
    "    # creamos el vector de las fechas.\n",
    "    fechas = pd.date_range(start=pd.to_datetime(begin_date), end=pd.to_datetime(end_date), freq=\"D\")\n",
    "    fechas_unix= (fechas-pd.to_datetime(\"1970-01-01\")).total_seconds().astype(\"int\") # formato especifico de la API.\n",
    "    \n",
    "    # inicializamos los dataframe\n",
    "    clima = pd.DataFrame() \n",
    "    \n",
    "    # iteramos por cada estado\n",
    "    for num, i in enumerate(coor[\"tienda\"]):\n",
    "        print(i) # imprimimos el estado descargando.\n",
    "        for date in fechas_unix:   \n",
    "            print(date)\n",
    "            x = coor[\"lat\"][num]\n",
    "            y = coor[\"log\"][num]\n",
    "            weather = \"https://api.darksky.net/forecast/{}/{},{},{}?exclude=[currently,minutely,hourly,alerts,flags]\".format(key, x, y, date)\n",
    "            page = urllib.request.urlopen(weather).read()\n",
    "            jsonResponse = json.loads(page.decode('utf-8'))\n",
    "            if \"daily\" in jsonResponse.keys():\n",
    "                temp = pd.DataFrame.from_dict(jsonResponse[\"daily\"][\"data\"])\n",
    "                temp[\"tienda\"] = i\n",
    "                temp[\"time\"] = temp.time.apply(lambda x: time.strftime(\"%D %H:%M\", time.localtime(int(x))))\n",
    "                clima = pd.concat([clima,temp])\n",
    "\n",
    "    print(\"------------------------------------------------------------\")\n",
    "    print(\"Descarga finalizada\")\n",
    "    return clima"
   ]
  },
  {
   "cell_type": "code",
   "execution_count": 30,
   "metadata": {
    "slideshow": {
     "slide_type": "subslide"
    }
   },
   "outputs": [
    {
     "name": "stdout",
     "output_type": "stream",
     "text": [
      "KK Angeles C. Londres\n",
      "1588032000\n",
      "1588118400\n",
      "1588204800\n",
      "------------------------------------------------------------\n",
      "Descarga finalizada\n"
     ]
    }
   ],
   "source": [
    "coor_krispy_kreme = krispy_kreme_sucursales.head(1) # para no hacer muchas descargas cortamos los datos\n",
    "\n",
    "# definimos las fechas de descarga\n",
    "begin_date = \"2020-04-28\"\n",
    "end_date = \"2020-04-30\"\n",
    "\n",
    "# llave\n",
    "key = \"93a3ab8136ea441147c4702bc5bdabc3\"\n",
    "\n",
    "clima_krispy = api_dark_ski(coor_krispy_kreme, begin_date, end_date, key)"
   ]
  },
  {
   "cell_type": "code",
   "execution_count": 31,
   "metadata": {
    "slideshow": {
     "slide_type": "fragment"
    }
   },
   "outputs": [
    {
     "data": {
      "text/html": [
       "<div>\n",
       "<style scoped>\n",
       "    .dataframe tbody tr th:only-of-type {\n",
       "        vertical-align: middle;\n",
       "    }\n",
       "\n",
       "    .dataframe tbody tr th {\n",
       "        vertical-align: top;\n",
       "    }\n",
       "\n",
       "    .dataframe thead th {\n",
       "        text-align: right;\n",
       "    }\n",
       "</style>\n",
       "<table border=\"1\" class=\"dataframe\">\n",
       "  <thead>\n",
       "    <tr style=\"text-align: right;\">\n",
       "      <th></th>\n",
       "      <th>time</th>\n",
       "      <th>summary</th>\n",
       "      <th>icon</th>\n",
       "      <th>sunriseTime</th>\n",
       "      <th>sunsetTime</th>\n",
       "      <th>moonPhase</th>\n",
       "      <th>precipIntensity</th>\n",
       "      <th>precipIntensityMax</th>\n",
       "      <th>precipIntensityMaxTime</th>\n",
       "      <th>precipProbability</th>\n",
       "      <th>...</th>\n",
       "      <th>ozone</th>\n",
       "      <th>temperatureMin</th>\n",
       "      <th>temperatureMinTime</th>\n",
       "      <th>temperatureMax</th>\n",
       "      <th>temperatureMaxTime</th>\n",
       "      <th>apparentTemperatureMin</th>\n",
       "      <th>apparentTemperatureMinTime</th>\n",
       "      <th>apparentTemperatureMax</th>\n",
       "      <th>apparentTemperatureMaxTime</th>\n",
       "      <th>tienda</th>\n",
       "    </tr>\n",
       "  </thead>\n",
       "  <tbody>\n",
       "    <tr>\n",
       "      <th>0</th>\n",
       "      <td>04/27/20 17:00</td>\n",
       "      <td>Rain in the morning and afternoon.</td>\n",
       "      <td>rain</td>\n",
       "      <td>1588047660</td>\n",
       "      <td>1588099920</td>\n",
       "      <td>0.18</td>\n",
       "      <td>0.0198</td>\n",
       "      <td>0.1000</td>\n",
       "      <td>1588063440</td>\n",
       "      <td>0.92</td>\n",
       "      <td>...</td>\n",
       "      <td>356.2</td>\n",
       "      <td>52.29</td>\n",
       "      <td>1588039020</td>\n",
       "      <td>61.51</td>\n",
       "      <td>1588087200</td>\n",
       "      <td>52.78</td>\n",
       "      <td>1588039020</td>\n",
       "      <td>61.01</td>\n",
       "      <td>1588087200</td>\n",
       "      <td>KK Angeles C. Londres</td>\n",
       "    </tr>\n",
       "    <tr>\n",
       "      <th>0</th>\n",
       "      <td>04/28/20 17:00</td>\n",
       "      <td>Rain starting in the afternoon.</td>\n",
       "      <td>rain</td>\n",
       "      <td>1588133940</td>\n",
       "      <td>1588186380</td>\n",
       "      <td>0.21</td>\n",
       "      <td>0.0056</td>\n",
       "      <td>0.0200</td>\n",
       "      <td>1588194000</td>\n",
       "      <td>0.85</td>\n",
       "      <td>...</td>\n",
       "      <td>358.4</td>\n",
       "      <td>48.98</td>\n",
       "      <td>1588136880</td>\n",
       "      <td>59.19</td>\n",
       "      <td>1588174560</td>\n",
       "      <td>44.34</td>\n",
       "      <td>1588137960</td>\n",
       "      <td>58.69</td>\n",
       "      <td>1588174560</td>\n",
       "      <td>KK Angeles C. Londres</td>\n",
       "    </tr>\n",
       "    <tr>\n",
       "      <th>0</th>\n",
       "      <td>04/29/20 17:00</td>\n",
       "      <td>Rain throughout the day.</td>\n",
       "      <td>rain</td>\n",
       "      <td>1588220220</td>\n",
       "      <td>1588272900</td>\n",
       "      <td>0.25</td>\n",
       "      <td>0.0276</td>\n",
       "      <td>0.0706</td>\n",
       "      <td>1588280400</td>\n",
       "      <td>0.99</td>\n",
       "      <td>...</td>\n",
       "      <td>381.7</td>\n",
       "      <td>47.04</td>\n",
       "      <td>1588280400</td>\n",
       "      <td>53.00</td>\n",
       "      <td>1588197600</td>\n",
       "      <td>41.62</td>\n",
       "      <td>1588280400</td>\n",
       "      <td>52.50</td>\n",
       "      <td>1588197600</td>\n",
       "      <td>KK Angeles C. Londres</td>\n",
       "    </tr>\n",
       "  </tbody>\n",
       "</table>\n",
       "<p>3 rows × 40 columns</p>\n",
       "</div>"
      ],
      "text/plain": [
       "             time                             summary  icon  sunriseTime  \\\n",
       "0  04/27/20 17:00  Rain in the morning and afternoon.  rain   1588047660   \n",
       "0  04/28/20 17:00     Rain starting in the afternoon.  rain   1588133940   \n",
       "0  04/29/20 17:00            Rain throughout the day.  rain   1588220220   \n",
       "\n",
       "   sunsetTime  moonPhase  precipIntensity  precipIntensityMax  \\\n",
       "0  1588099920       0.18           0.0198              0.1000   \n",
       "0  1588186380       0.21           0.0056              0.0200   \n",
       "0  1588272900       0.25           0.0276              0.0706   \n",
       "\n",
       "   precipIntensityMaxTime  precipProbability  ...  ozone  temperatureMin  \\\n",
       "0              1588063440               0.92  ...  356.2           52.29   \n",
       "0              1588194000               0.85  ...  358.4           48.98   \n",
       "0              1588280400               0.99  ...  381.7           47.04   \n",
       "\n",
       "   temperatureMinTime  temperatureMax  temperatureMaxTime  \\\n",
       "0          1588039020           61.51          1588087200   \n",
       "0          1588136880           59.19          1588174560   \n",
       "0          1588280400           53.00          1588197600   \n",
       "\n",
       "   apparentTemperatureMin  apparentTemperatureMinTime  apparentTemperatureMax  \\\n",
       "0                   52.78                  1588039020                   61.01   \n",
       "0                   44.34                  1588137960                   58.69   \n",
       "0                   41.62                  1588280400                   52.50   \n",
       "\n",
       "   apparentTemperatureMaxTime                 tienda  \n",
       "0                  1588087200  KK Angeles C. Londres  \n",
       "0                  1588174560  KK Angeles C. Londres  \n",
       "0                  1588197600  KK Angeles C. Londres  \n",
       "\n",
       "[3 rows x 40 columns]"
      ]
     },
     "execution_count": 31,
     "metadata": {},
     "output_type": "execute_result"
    }
   ],
   "source": [
    "clima_krispy"
   ]
  },
  {
   "cell_type": "markdown",
   "metadata": {
    "slideshow": {
     "slide_type": "subslide"
    }
   },
   "source": [
    "### Usando Wrapper Library de Angel Hernandez III\n",
    "\n",
    "https://github.com/bitpixdigital/forecastiopy3\n",
    "\n",
    "#!pip install forecastiopy\n"
   ]
  },
  {
   "cell_type": "code",
   "execution_count": 32,
   "metadata": {
    "slideshow": {
     "slide_type": "subslide"
    }
   },
   "outputs": [
    {
     "name": "stdout",
     "output_type": "stream",
     "text": [
      "Daily\n",
      "Summary: Possible light rain on Wednesday.\n",
      "Icon: rain\n",
      "Day 1\n",
      "time : 1612504800\n",
      "summary : Clear throughout the day.\n",
      "icon : clear-day\n",
      "sunriseTime : 1612531440\n",
      "sunsetTime : 1612571340\n",
      "moonPhase : 0.8\n",
      "precipIntensity : 0.0127\n",
      "precipIntensityMax : 0.0469\n",
      "precipIntensityMaxTime : 1612526400\n",
      "precipProbability : 0.09\n",
      "precipType : rain\n",
      "temperatureHigh : 28.35\n",
      "temperatureHighTime : 1612558440\n",
      "temperatureLow : 11.51\n",
      "temperatureLowTime : 1612610520\n",
      "apparentTemperatureHigh : 28.07\n",
      "apparentTemperatureHighTime : 1612558440\n",
      "apparentTemperatureLow : 11.78\n",
      "apparentTemperatureLowTime : 1612610520\n",
      "dewPoint : 5.7\n",
      "humidity : 0.4\n",
      "pressure : 1009.4\n",
      "windSpeed : 3.22\n",
      "windGust : 7.68\n",
      "windGustTime : 1612537620\n",
      "windBearing : 5\n",
      "cloudCover : 0.03\n",
      "uvIndex : 7\n",
      "uvIndexTime : 1612551360\n",
      "visibility : 16.093\n",
      "ozone : 258.8\n",
      "temperatureMin : 13.57\n",
      "temperatureMinTime : 1612591200\n",
      "temperatureMax : 28.35\n",
      "temperatureMaxTime : 1612558440\n",
      "apparentTemperatureMin : 13.84\n",
      "apparentTemperatureMinTime : 1612591200\n",
      "apparentTemperatureMax : 28.07\n",
      "apparentTemperatureMaxTime : 1612558440\n",
      "1612936800\n",
      "Day 2\n",
      "time : 1612591200\n",
      "summary : Clear throughout the day.\n",
      "icon : clear-day\n",
      "sunriseTime : 1612617780\n",
      "sunsetTime : 1612657800\n",
      "moonPhase : 0.84\n",
      "precipIntensity : 0.0017\n",
      "precipIntensityMax : 0.0052\n",
      "precipIntensityMaxTime : 1612591920\n",
      "precipProbability : 0.05\n",
      "precipType : rain\n",
      "temperatureHigh : 28.87\n",
      "temperatureHighTime : 1612642260\n",
      "temperatureLow : 10.74\n",
      "temperatureLowTime : 1612702080\n",
      "apparentTemperatureHigh : 28.59\n",
      "apparentTemperatureHighTime : 1612642260\n",
      "apparentTemperatureLow : 11.01\n",
      "apparentTemperatureLowTime : 1612702080\n",
      "dewPoint : 2.56\n",
      "humidity : 0.4\n",
      "pressure : 1011.3\n",
      "windSpeed : 2.66\n",
      "windGust : 5.81\n",
      "windGustTime : 1612641780\n",
      "windBearing : 5\n",
      "cloudCover : 0.06\n",
      "uvIndex : 7\n",
      "uvIndexTime : 1612637700\n",
      "visibility : 16.093\n",
      "ozone : 267.3\n",
      "temperatureMin : 11.51\n",
      "temperatureMinTime : 1612610520\n",
      "temperatureMax : 28.87\n",
      "temperatureMaxTime : 1612642260\n",
      "apparentTemperatureMin : 11.78\n",
      "apparentTemperatureMinTime : 1612610520\n",
      "apparentTemperatureMax : 28.59\n",
      "apparentTemperatureMaxTime : 1612642260\n",
      "1612936800\n",
      "Day 3\n",
      "time : 1612677600\n",
      "summary : Partly cloudy throughout the day.\n",
      "icon : partly-cloudy-day\n",
      "sunriseTime : 1612704180\n",
      "sunsetTime : 1612744260\n",
      "moonPhase : 0.87\n",
      "precipIntensity : 0.0034\n",
      "precipIntensityMax : 0.0064\n",
      "precipIntensityMaxTime : 1612751640\n",
      "precipProbability : 0.03\n",
      "precipType : rain\n",
      "temperatureHigh : 23.79\n",
      "temperatureHighTime : 1612733640\n",
      "temperatureLow : 12.19\n",
      "temperatureLowTime : 1612780680\n",
      "apparentTemperatureHigh : 23.51\n",
      "apparentTemperatureHighTime : 1612733640\n",
      "apparentTemperatureLow : 12.46\n",
      "apparentTemperatureLowTime : 1612780680\n",
      "dewPoint : 3.22\n",
      "humidity : 0.43\n",
      "pressure : 1014.8\n",
      "windSpeed : 3.16\n",
      "windGust : 6.56\n",
      "windGustTime : 1612746540\n",
      "windBearing : 115\n",
      "cloudCover : 0.27\n",
      "uvIndex : 6\n",
      "uvIndexTime : 1612722900\n",
      "visibility : 16.093\n",
      "ozone : 277.6\n",
      "temperatureMin : 10.71\n",
      "temperatureMinTime : 1612704660\n",
      "temperatureMax : 23.79\n",
      "temperatureMaxTime : 1612733640\n",
      "apparentTemperatureMin : 10.98\n",
      "apparentTemperatureMinTime : 1612704660\n",
      "apparentTemperatureMax : 23.51\n",
      "apparentTemperatureMaxTime : 1612733640\n",
      "1612936800\n",
      "Day 4\n",
      "time : 1612764000\n",
      "summary : Partly cloudy throughout the day.\n",
      "icon : partly-cloudy-day\n",
      "sunriseTime : 1612790520\n",
      "sunsetTime : 1612830720\n",
      "moonPhase : 0.91\n",
      "precipIntensity : 0.0028\n",
      "precipIntensityMax : 0.0087\n",
      "precipIntensityMaxTime : 1612821480\n",
      "precipProbability : 0.05\n",
      "precipType : rain\n",
      "temperatureHigh : 27.99\n",
      "temperatureHighTime : 1612818300\n",
      "temperatureLow : 14.92\n",
      "temperatureLowTime : 1612871280\n",
      "apparentTemperatureHigh : 27.71\n",
      "apparentTemperatureHighTime : 1612818300\n",
      "apparentTemperatureLow : 15.19\n",
      "apparentTemperatureLowTime : 1612871280\n",
      "dewPoint : 8.13\n",
      "humidity : 0.53\n",
      "pressure : 1011.3\n",
      "windSpeed : 2.03\n",
      "windGust : 4.59\n",
      "windGustTime : 1612829220\n",
      "windBearing : 94\n",
      "cloudCover : 0.35\n",
      "uvIndex : 5\n",
      "uvIndexTime : 1612808640\n",
      "visibility : 16.093\n",
      "ozone : 280.9\n",
      "temperatureMin : 12.19\n",
      "temperatureMinTime : 1612780680\n",
      "temperatureMax : 27.99\n",
      "temperatureMaxTime : 1612818300\n",
      "apparentTemperatureMin : 12.46\n",
      "apparentTemperatureMinTime : 1612780680\n",
      "apparentTemperatureMax : 27.71\n",
      "apparentTemperatureMaxTime : 1612818300\n",
      "1612936800\n",
      "Day 5\n",
      "time : 1612850400\n",
      "summary : Clear throughout the day.\n",
      "icon : clear-day\n",
      "sunriseTime : 1612876860\n",
      "sunsetTime : 1612917120\n",
      "moonPhase : 0.94\n",
      "precipIntensity : 0.0013\n",
      "precipIntensityMax : 0.0069\n",
      "precipIntensityMaxTime : 1612936800\n",
      "precipProbability : 0.03\n",
      "precipType : rain\n",
      "temperatureHigh : 28.04\n",
      "temperatureHighTime : 1612906560\n",
      "temperatureLow : 15.8\n",
      "temperatureLowTime : 1612955400\n",
      "apparentTemperatureHigh : 27.76\n",
      "apparentTemperatureHighTime : 1612906560\n",
      "apparentTemperatureLow : 16.07\n",
      "apparentTemperatureLowTime : 1612955400\n",
      "dewPoint : 9.12\n",
      "humidity : 0.48\n",
      "pressure : 1012.5\n",
      "windSpeed : 1.75\n",
      "windGust : 4.79\n",
      "windGustTime : 1612915920\n",
      "windBearing : 112\n",
      "cloudCover : 0.06\n",
      "uvIndex : 7\n",
      "uvIndexTime : 1612897020\n",
      "visibility : 16.093\n",
      "ozone : 288.9\n",
      "temperatureMin : 14.92\n",
      "temperatureMinTime : 1612871280\n",
      "temperatureMax : 28.04\n",
      "temperatureMaxTime : 1612906560\n",
      "apparentTemperatureMin : 15.19\n",
      "apparentTemperatureMinTime : 1612871280\n",
      "apparentTemperatureMax : 27.76\n",
      "apparentTemperatureMaxTime : 1612906560\n",
      "1612936800\n",
      "Day 6\n",
      "time : 1612936800\n",
      "summary : Clear throughout the day.\n",
      "icon : rain\n",
      "sunriseTime : 1612963260\n",
      "sunsetTime : 1613003580\n",
      "moonPhase : 0.98\n",
      "precipIntensity : 0.1406\n",
      "precipIntensityMax : 0.2336\n",
      "precipIntensityMaxTime : 1613012820\n",
      "precipProbability : 0.41\n",
      "precipType : rain\n",
      "temperatureHigh : 25.52\n",
      "temperatureHighTime : 1612990020\n",
      "temperatureLow : 11.11\n",
      "temperatureLowTime : 1613045820\n",
      "apparentTemperatureHigh : 25.24\n",
      "apparentTemperatureHighTime : 1612990020\n",
      "apparentTemperatureLow : 11.38\n",
      "apparentTemperatureLowTime : 1613045820\n",
      "dewPoint : 14.16\n",
      "humidity : 0.73\n",
      "pressure : 1013.7\n",
      "windSpeed : 1.84\n",
      "windGust : 4.46\n",
      "windGustTime : 1613006700\n",
      "windBearing : 91\n",
      "cloudCover : 0\n",
      "uvIndex : 7\n",
      "uvIndexTime : 1612983360\n",
      "visibility : 16.093\n",
      "ozone : 285.9\n",
      "temperatureMin : 13.89\n",
      "temperatureMinTime : 1613023200\n",
      "temperatureMax : 25.52\n",
      "temperatureMaxTime : 1612990020\n",
      "apparentTemperatureMin : 14.16\n",
      "apparentTemperatureMinTime : 1613023200\n",
      "apparentTemperatureMax : 25.24\n",
      "apparentTemperatureMaxTime : 1612990020\n",
      "1612936800\n",
      "Day 7\n",
      "time : 1613023200\n",
      "summary : Clear throughout the day.\n",
      "icon : clear-day\n",
      "sunriseTime : 1613049600\n",
      "sunsetTime : 1613090040\n",
      "moonPhase : 0.01\n",
      "precipIntensity : 0.0759\n",
      "precipIntensityMax : 0.1957\n",
      "precipIntensityMaxTime : 1613023200\n",
      "precipProbability : 0.29\n",
      "precipType : rain\n",
      "temperatureHigh : 20.6\n",
      "temperatureHighTime : 1613075760\n",
      "temperatureLow : 5.09\n",
      "temperatureLowTime : 1613134800\n",
      "apparentTemperatureHigh : 20.32\n",
      "apparentTemperatureHighTime : 1613075760\n",
      "apparentTemperatureLow : 3.29\n",
      "apparentTemperatureLowTime : 1613134800\n",
      "dewPoint : 6.45\n",
      "humidity : 0.63\n",
      "pressure : 1016.9\n",
      "windSpeed : 2.05\n",
      "windGust : 5.01\n",
      "windGustTime : 1613075580\n",
      "windBearing : 352\n",
      "cloudCover : 0.04\n",
      "uvIndex : 7\n",
      "uvIndexTime : 1613069760\n",
      "visibility : 16.093\n",
      "ozone : 279\n",
      "temperatureMin : 10.31\n",
      "temperatureMinTime : 1613109600\n",
      "temperatureMax : 20.6\n",
      "temperatureMaxTime : 1613075760\n",
      "apparentTemperatureMin : 10.58\n",
      "apparentTemperatureMinTime : 1613109600\n",
      "apparentTemperatureMax : 20.32\n",
      "apparentTemperatureMaxTime : 1613075760\n",
      "1612936800\n",
      "Day 8\n",
      "time : 1613109600\n",
      "summary : Partly cloudy throughout the day.\n",
      "icon : partly-cloudy-day\n",
      "sunriseTime : 1613135940\n",
      "sunsetTime : 1613176440\n",
      "moonPhase : 0.04\n",
      "precipIntensity : 0.0532\n",
      "precipIntensityMax : 0.1212\n",
      "precipIntensityMaxTime : 1613141940\n",
      "precipProbability : 0.37\n",
      "precipType : rain\n",
      "temperatureHigh : 5.64\n",
      "temperatureHighTime : 1613134800\n",
      "temperatureLow : -2.47\n",
      "temperatureLowTime : 1613221200\n",
      "apparentTemperatureHigh : 3.29\n",
      "apparentTemperatureHighTime : 1613134800\n",
      "apparentTemperatureLow : -3.81\n",
      "apparentTemperatureLowTime : 1613205480\n",
      "dewPoint : -1.49\n",
      "humidity : 0.67\n",
      "pressure : 1029.1\n",
      "windSpeed : 2.61\n",
      "windGust : 5.58\n",
      "windGustTime : 1613163660\n",
      "windBearing : 7\n",
      "cloudCover : 0.33\n",
      "uvIndex : 6\n",
      "uvIndexTime : 1613154300\n",
      "visibility : 16.093\n",
      "ozone : 274.7\n",
      "temperatureMin : -1.09\n",
      "temperatureMinTime : 1613196000\n",
      "temperatureMax : 10.86\n",
      "temperatureMaxTime : 1613109600\n",
      "apparentTemperatureMin : -3.18\n",
      "apparentTemperatureMinTime : 1613196000\n",
      "apparentTemperatureMax : 10.58\n",
      "apparentTemperatureMaxTime : 1613109600\n",
      "1612936800\n"
     ]
    }
   ],
   "source": [
    "from forecastiopy import *\n",
    "\n",
    "key = \"93a3ab8136ea441147c4702bc5bdabc3\"\n",
    "# Monterrey\n",
    "latitude = \"25.679673\"\n",
    "longitude = \"-100.316839\"\n",
    "\n",
    "fio = ForecastIO.ForecastIO(key, latitude=latitude, longitude=longitude)\n",
    "\n",
    "if fio.has_daily() is True:\n",
    "    daily = FIODaily.FIODaily(fio)\n",
    "    print('Daily')\n",
    "    print('Summary:', daily.summary)\n",
    "    print('Icon:', daily.icon)\n",
    "\n",
    "    for day in range(0, daily.days()):\n",
    "        print('Day', day+1)\n",
    "        for item in daily.get_day(day).keys():\n",
    "            print(item + ' : ' + str(daily.get_day(day)[item]))\n",
    "        print(daily.day_5_time)\n",
    "else:\n",
    "    print('No Daily data')"
   ]
  },
  {
   "cell_type": "markdown",
   "metadata": {
    "slideshow": {
     "slide_type": "slide"
    }
   },
   "source": [
    "![A](gracias.jpg)"
   ]
  }
 ],
 "metadata": {
  "celltoolbar": "Slideshow",
  "kernelspec": {
   "display_name": "Python 3",
   "language": "python",
   "name": "python3"
  },
  "language_info": {
   "codemirror_mode": {
    "name": "ipython",
    "version": 3
   },
   "file_extension": ".py",
   "mimetype": "text/x-python",
   "name": "python",
   "nbconvert_exporter": "python",
   "pygments_lexer": "ipython3",
   "version": "3.7.6"
  }
 },
 "nbformat": 4,
 "nbformat_minor": 2
}
