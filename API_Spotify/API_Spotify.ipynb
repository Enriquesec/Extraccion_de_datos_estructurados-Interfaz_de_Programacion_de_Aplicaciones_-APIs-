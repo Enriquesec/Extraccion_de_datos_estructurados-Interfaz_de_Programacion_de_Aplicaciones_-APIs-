{
 "cells": [
  {
   "cell_type": "markdown",
   "metadata": {
    "slideshow": {
     "slide_type": "slide"
    }
   },
   "source": [
    "# Ejemplo del uso de la API de Spotify"
   ]
  },
  {
   "cell_type": "markdown",
   "metadata": {
    "slideshow": {
     "slide_type": "slide"
    }
   },
   "source": [
    "En este notebooks se extraeran informacion relevante a las canciones usando la API de Spotify y la libreria Spotipy."
   ]
  },
  {
   "cell_type": "markdown",
   "metadata": {
    "slideshow": {
     "slide_type": "slide"
    }
   },
   "source": [
    "## Obtenemos acceso a la API"
   ]
  },
  {
   "cell_type": "markdown",
   "metadata": {
    "slideshow": {
     "slide_type": "subslide"
    }
   },
   "source": [
    "Conectando nuestra cuenta de spotify con Spotify Developer [aqui](https://developer.spotify.com/dashboard/)  \n",
    "\n",
    "Una vez que estemos en el dashboard, damos clic en el boton \"Create a Client ID\" para llevar la forma de creación de una app."
   ]
  },
  {
   "cell_type": "markdown",
   "metadata": {
    "slideshow": {
     "slide_type": "subslide"
    }
   },
   "source": [
    "Si deseamos acceder a datos relacionados a los usuarios (perfiles,playlists) debemos de [registar](https://developer.spotify.com/documentation/general/guides/app-settings/#register-your-app) la app. Si no la registramos podemos acceder solo a los siguientes datos:  \n",
    "\n",
    "| Grupos de datos | Metodos | Data Endpoints |\n",
    "|-------|------|------|\n",
    "|Albums | Get albums. Get album's tracks| Album,Name, Album type|\n",
    "| Artists | Get an artist, get artist's albums, get artist's top tracks | Artist Name, Genres, Popularity Score, Followers|\n",
    "| Browse | Get Availabe, Genre Seeds, Get a Browse Category, Get a Category's Playlists | Genre Seeds, Search Seeds, Category's Playslists New Release Track Information |\n",
    "| Tracks | Get a Track or Several Tracks, Get Audio Analysis for a track, Get Audio Features for Several Tracks, Get Audio Features for a track | Album info, artist info, available markets, popularity, track number, explicit, ISRC, Spotify URi, Spotify ID |"
   ]
  },
  {
   "cell_type": "markdown",
   "metadata": {
    "slideshow": {
     "slide_type": "subslide"
    }
   },
   "source": [
    "Podemos usar la [Spotify Web API Console](https://developer.spotify.com/console/) para probar varios metodos y ver su output en JSON."
   ]
  },
  {
   "cell_type": "markdown",
   "metadata": {
    "slideshow": {
     "slide_type": "slide"
    }
   },
   "source": [
    "## Usaremos Spotipy, una libreria para la API de Spotify"
   ]
  },
  {
   "cell_type": "markdown",
   "metadata": {
    "slideshow": {
     "slide_type": "fragment"
    }
   },
   "source": [
    "[Documentacion de la libreria](https://spotipy.readthedocs.io/en/latest/#)"
   ]
  },
  {
   "cell_type": "code",
   "execution_count": 2,
   "metadata": {
    "slideshow": {
     "slide_type": "slide"
    }
   },
   "outputs": [],
   "source": [
    "#pip install spotipy\n",
    "import spotipy\n",
    "from spotipy.oauth2 import SpotifyClientCredentials\n",
    "\n",
    "cid=\"ba769ad5ef5c4081b86660038a1fffcf\"\n",
    "secret=\"aa364ad8a78243db908111a8cdc595e7\"\n",
    "\n",
    "client_credentials_manager=SpotifyClientCredentials(\n",
    "    client_id=cid,client_secret=secret)\n",
    "sp=spotipy.Spotify(client_credentials_manager=client_credentials_manager)"
   ]
  },
  {
   "cell_type": "markdown",
   "metadata": {
    "slideshow": {
     "slide_type": "slide"
    }
   },
   "source": [
    "## Obtenemos los ID de las canciones"
   ]
  },
  {
   "cell_type": "markdown",
   "metadata": {
    "slideshow": {
     "slide_type": "subslide"
    }
   },
   "source": [
    "Recopilamos 2000 canciones de la API.  \n",
    "El endpoint de busqueda tiene algunas limitaciones:\n",
    "* limit: se regresa un maximo de 50 resultados por query.\n",
    "* offset: Estes es el index del primer resultado a regresar."
   ]
  },
  {
   "cell_type": "code",
   "execution_count": 3,
   "metadata": {
    "slideshow": {
     "slide_type": "subslide"
    }
   },
   "outputs": [],
   "source": [
    "#creamos las listas donde almacenaremos los resultados\n",
    "artist_name = []\n",
    "track_name = []\n",
    "popularity = []\n",
    "track_id = []\n",
    "\n",
    "for i in range(0,2000,50):\n",
    "    track_results = sp.search(q='year:2020', type='track', limit=50,offset=i)\n",
    "    for i, t in enumerate(track_results['tracks']['items']):\n",
    "        artist_name.append(t['artists'][0]['name'])\n",
    "        track_name.append(t['name'])\n",
    "        track_id.append(t['id'])\n",
    "        popularity.append(t['popularity'])"
   ]
  },
  {
   "cell_type": "markdown",
   "metadata": {
    "slideshow": {
     "slide_type": "subslide"
    }
   },
   "source": [
    "Exploramos de los datos."
   ]
  },
  {
   "cell_type": "code",
   "execution_count": 4,
   "metadata": {
    "slideshow": {
     "slide_type": "subslide"
    }
   },
   "outputs": [
    {
     "name": "stdout",
     "output_type": "stream",
     "text": [
      "numero de elementos 2000\n"
     ]
    }
   ],
   "source": [
    "print(\"numero de elementos\",len(track_id))"
   ]
  },
  {
   "cell_type": "markdown",
   "metadata": {
    "slideshow": {
     "slide_type": "subslide"
    }
   },
   "source": [
    "Creamos un dataframe"
   ]
  },
  {
   "cell_type": "code",
   "execution_count": 5,
   "metadata": {
    "slideshow": {
     "slide_type": "subslide"
    }
   },
   "outputs": [
    {
     "name": "stdout",
     "output_type": "stream",
     "text": [
      "(2000, 4)\n"
     ]
    },
    {
     "data": {
      "text/html": [
       "<div>\n",
       "<style scoped>\n",
       "    .dataframe tbody tr th:only-of-type {\n",
       "        vertical-align: middle;\n",
       "    }\n",
       "\n",
       "    .dataframe tbody tr th {\n",
       "        vertical-align: top;\n",
       "    }\n",
       "\n",
       "    .dataframe thead th {\n",
       "        text-align: right;\n",
       "    }\n",
       "</style>\n",
       "<table border=\"1\" class=\"dataframe\">\n",
       "  <thead>\n",
       "    <tr style=\"text-align: right;\">\n",
       "      <th></th>\n",
       "      <th>artist_name</th>\n",
       "      <th>track_name</th>\n",
       "      <th>track_id</th>\n",
       "      <th>popularity</th>\n",
       "    </tr>\n",
       "  </thead>\n",
       "  <tbody>\n",
       "    <tr>\n",
       "      <td>0</td>\n",
       "      <td>SZA</td>\n",
       "      <td>Good Days</td>\n",
       "      <td>3YJJjQPAbDT7mGpX3WtQ9A</td>\n",
       "      <td>92</td>\n",
       "    </tr>\n",
       "    <tr>\n",
       "      <td>1</td>\n",
       "      <td>Hammock</td>\n",
       "      <td>Longest Year - 2020</td>\n",
       "      <td>51TAp7p7B3xboCl5HWmEkF</td>\n",
       "      <td>35</td>\n",
       "    </tr>\n",
       "    <tr>\n",
       "      <td>2</td>\n",
       "      <td>24kGoldn</td>\n",
       "      <td>Mood (feat. iann dior)</td>\n",
       "      <td>3tjFYV6RSFtuktYl3ZtYcq</td>\n",
       "      <td>95</td>\n",
       "    </tr>\n",
       "    <tr>\n",
       "      <td>3</td>\n",
       "      <td>Hammock</td>\n",
       "      <td>Dark Beyond the Blue - 2020</td>\n",
       "      <td>79hqdNpnWPVVxmZiDfKaIL</td>\n",
       "      <td>40</td>\n",
       "    </tr>\n",
       "    <tr>\n",
       "      <td>4</td>\n",
       "      <td>CJ</td>\n",
       "      <td>Whoopty</td>\n",
       "      <td>5vGLcdRuSbUhD8ScwsGSdA</td>\n",
       "      <td>93</td>\n",
       "    </tr>\n",
       "  </tbody>\n",
       "</table>\n",
       "</div>"
      ],
      "text/plain": [
       "  artist_name                   track_name                track_id  popularity\n",
       "0         SZA                    Good Days  3YJJjQPAbDT7mGpX3WtQ9A          92\n",
       "1     Hammock          Longest Year - 2020  51TAp7p7B3xboCl5HWmEkF          35\n",
       "2    24kGoldn       Mood (feat. iann dior)  3tjFYV6RSFtuktYl3ZtYcq          95\n",
       "3     Hammock  Dark Beyond the Blue - 2020  79hqdNpnWPVVxmZiDfKaIL          40\n",
       "4          CJ                      Whoopty  5vGLcdRuSbUhD8ScwsGSdA          93"
      ]
     },
     "execution_count": 5,
     "metadata": {},
     "output_type": "execute_result"
    }
   ],
   "source": [
    "import pandas as pd\n",
    "\n",
    "df_tracks = pd.DataFrame({'artist_name':artist_name,'track_name':track_name,'track_id':track_id,'popularity':popularity})\n",
    "print(df_tracks.shape)\n",
    "df_tracks.head()"
   ]
  },
  {
   "cell_type": "markdown",
   "metadata": {
    "slideshow": {
     "slide_type": "subslide"
    }
   },
   "source": [
    "En ocasiones, se devuelve la misma canción bajo diferentes tracks IDs (single, como parte de un album, etc.)  \n",
    "\n",
    "Eliminamos los duplicados."
   ]
  },
  {
   "cell_type": "code",
   "execution_count": 6,
   "metadata": {
    "slideshow": {
     "slide_type": "subslide"
    }
   },
   "outputs": [
    {
     "data": {
      "text/plain": [
       "54"
      ]
     },
     "execution_count": 6,
     "metadata": {},
     "output_type": "execute_result"
    }
   ],
   "source": [
    "#Agrupamos las entradas por artist_name, track_name y checamos duplicados.\n",
    "grouped = df_tracks.groupby(['artist_name','track_name'], as_index=True).size()\n",
    "grouped[grouped > 1].count()"
   ]
  },
  {
   "cell_type": "markdown",
   "metadata": {
    "slideshow": {
     "slide_type": "subslide"
    }
   },
   "source": [
    "Tenemos 54 duplicados."
   ]
  },
  {
   "cell_type": "code",
   "execution_count": 7,
   "metadata": {
    "slideshow": {
     "slide_type": "skip"
    }
   },
   "outputs": [],
   "source": [
    "df_tracks.drop_duplicates(subset=['artist_name','track_name'], inplace=True)"
   ]
  },
  {
   "cell_type": "code",
   "execution_count": 8,
   "metadata": {
    "slideshow": {
     "slide_type": "skip"
    }
   },
   "outputs": [
    {
     "data": {
      "text/plain": [
       "0"
      ]
     },
     "execution_count": 8,
     "metadata": {},
     "output_type": "execute_result"
    }
   ],
   "source": [
    "# Volvemos a agrpar para verificar que no se tienen duplicados\n",
    "grouped_after_dropping = df_tracks.groupby(['artist_name','track_name'], as_index=True).size()\n",
    "grouped_after_dropping[grouped_after_dropping > 1].count()"
   ]
  },
  {
   "cell_type": "code",
   "execution_count": 9,
   "metadata": {
    "slideshow": {
     "slide_type": "skip"
    }
   },
   "outputs": [
    {
     "data": {
      "text/plain": [
       "(1944, 4)"
      ]
     },
     "execution_count": 9,
     "metadata": {},
     "output_type": "execute_result"
    }
   ],
   "source": [
    "df_tracks.shape"
   ]
  },
  {
   "cell_type": "markdown",
   "metadata": {
    "slideshow": {
     "slide_type": "slide"
    }
   },
   "source": [
    "## Obtenemos las caracteristicas del audio"
   ]
  },
  {
   "cell_type": "markdown",
   "metadata": {
    "slideshow": {
     "slide_type": "fragment"
    }
   },
   "source": [
    "Con el endpoint de caracteristicas de audio obtendremos las caracteristicas para todas las canciones."
   ]
  },
  {
   "cell_type": "code",
   "execution_count": 10,
   "metadata": {
    "slideshow": {
     "slide_type": "slide"
    }
   },
   "outputs": [
    {
     "name": "stdout",
     "output_type": "stream",
     "text": [
      "Numero de canciones que no tuvieron caracteristicas disponibles: 0\n"
     ]
    }
   ],
   "source": [
    "rows = []\n",
    "batchsize = 100\n",
    "None_counter = 0\n",
    "\n",
    "for i in range(0,len(df_tracks['track_id']),batchsize):\n",
    "    batch = df_tracks['track_id'][i:i+batchsize]\n",
    "    feature_results = sp.audio_features(batch)\n",
    "    for i, t in enumerate(feature_results):\n",
    "        if t == None:\n",
    "            None_counter = None_counter + 1\n",
    "        else:\n",
    "            rows.append(t)\n",
    "            \n",
    "print('Numero de canciones que no tuvieron caracteristicas disponibles:',None_counter)"
   ]
  },
  {
   "cell_type": "markdown",
   "metadata": {
    "slideshow": {
     "slide_type": "subslide"
    }
   },
   "source": [
    "Cargamos las caracteristicas en un dataframe"
   ]
  },
  {
   "cell_type": "code",
   "execution_count": 11,
   "metadata": {
    "scrolled": false,
    "slideshow": {
     "slide_type": "subslide"
    }
   },
   "outputs": [
    {
     "name": "stdout",
     "output_type": "stream",
     "text": [
      "Tamaño de los datos (1944, 18)\n"
     ]
    },
    {
     "data": {
      "text/html": [
       "<div>\n",
       "<style scoped>\n",
       "    .dataframe tbody tr th:only-of-type {\n",
       "        vertical-align: middle;\n",
       "    }\n",
       "\n",
       "    .dataframe tbody tr th {\n",
       "        vertical-align: top;\n",
       "    }\n",
       "\n",
       "    .dataframe thead th {\n",
       "        text-align: right;\n",
       "    }\n",
       "</style>\n",
       "<table border=\"1\" class=\"dataframe\">\n",
       "  <thead>\n",
       "    <tr style=\"text-align: right;\">\n",
       "      <th></th>\n",
       "      <th>danceability</th>\n",
       "      <th>energy</th>\n",
       "      <th>key</th>\n",
       "      <th>loudness</th>\n",
       "      <th>mode</th>\n",
       "      <th>speechiness</th>\n",
       "      <th>acousticness</th>\n",
       "      <th>instrumentalness</th>\n",
       "      <th>liveness</th>\n",
       "      <th>valence</th>\n",
       "      <th>tempo</th>\n",
       "      <th>type</th>\n",
       "      <th>id</th>\n",
       "      <th>uri</th>\n",
       "      <th>track_href</th>\n",
       "      <th>analysis_url</th>\n",
       "      <th>duration_ms</th>\n",
       "      <th>time_signature</th>\n",
       "    </tr>\n",
       "  </thead>\n",
       "  <tbody>\n",
       "    <tr>\n",
       "      <td>0</td>\n",
       "      <td>0.4360</td>\n",
       "      <td>0.655</td>\n",
       "      <td>1</td>\n",
       "      <td>-8.370</td>\n",
       "      <td>0</td>\n",
       "      <td>0.0583</td>\n",
       "      <td>0.499</td>\n",
       "      <td>0.000008</td>\n",
       "      <td>0.6880</td>\n",
       "      <td>0.4120</td>\n",
       "      <td>121.002</td>\n",
       "      <td>audio_features</td>\n",
       "      <td>3YJJjQPAbDT7mGpX3WtQ9A</td>\n",
       "      <td>spotify:track:3YJJjQPAbDT7mGpX3WtQ9A</td>\n",
       "      <td>https://api.spotify.com/v1/tracks/3YJJjQPAbDT7...</td>\n",
       "      <td>https://api.spotify.com/v1/audio-analysis/3YJJ...</td>\n",
       "      <td>279204</td>\n",
       "      <td>4</td>\n",
       "    </tr>\n",
       "    <tr>\n",
       "      <td>1</td>\n",
       "      <td>0.0692</td>\n",
       "      <td>0.285</td>\n",
       "      <td>2</td>\n",
       "      <td>-14.854</td>\n",
       "      <td>1</td>\n",
       "      <td>0.0482</td>\n",
       "      <td>0.700</td>\n",
       "      <td>0.673000</td>\n",
       "      <td>0.1990</td>\n",
       "      <td>0.0312</td>\n",
       "      <td>78.572</td>\n",
       "      <td>audio_features</td>\n",
       "      <td>51TAp7p7B3xboCl5HWmEkF</td>\n",
       "      <td>spotify:track:51TAp7p7B3xboCl5HWmEkF</td>\n",
       "      <td>https://api.spotify.com/v1/tracks/51TAp7p7B3xb...</td>\n",
       "      <td>https://api.spotify.com/v1/audio-analysis/51TA...</td>\n",
       "      <td>533707</td>\n",
       "      <td>4</td>\n",
       "    </tr>\n",
       "    <tr>\n",
       "      <td>2</td>\n",
       "      <td>0.7000</td>\n",
       "      <td>0.722</td>\n",
       "      <td>7</td>\n",
       "      <td>-3.558</td>\n",
       "      <td>0</td>\n",
       "      <td>0.0369</td>\n",
       "      <td>0.221</td>\n",
       "      <td>0.000000</td>\n",
       "      <td>0.2720</td>\n",
       "      <td>0.7560</td>\n",
       "      <td>90.989</td>\n",
       "      <td>audio_features</td>\n",
       "      <td>3tjFYV6RSFtuktYl3ZtYcq</td>\n",
       "      <td>spotify:track:3tjFYV6RSFtuktYl3ZtYcq</td>\n",
       "      <td>https://api.spotify.com/v1/tracks/3tjFYV6RSFtu...</td>\n",
       "      <td>https://api.spotify.com/v1/audio-analysis/3tjF...</td>\n",
       "      <td>140526</td>\n",
       "      <td>4</td>\n",
       "    </tr>\n",
       "    <tr>\n",
       "      <td>3</td>\n",
       "      <td>0.2000</td>\n",
       "      <td>0.282</td>\n",
       "      <td>2</td>\n",
       "      <td>-19.803</td>\n",
       "      <td>0</td>\n",
       "      <td>0.0468</td>\n",
       "      <td>0.729</td>\n",
       "      <td>0.887000</td>\n",
       "      <td>0.0837</td>\n",
       "      <td>0.0372</td>\n",
       "      <td>74.381</td>\n",
       "      <td>audio_features</td>\n",
       "      <td>79hqdNpnWPVVxmZiDfKaIL</td>\n",
       "      <td>spotify:track:79hqdNpnWPVVxmZiDfKaIL</td>\n",
       "      <td>https://api.spotify.com/v1/tracks/79hqdNpnWPVV...</td>\n",
       "      <td>https://api.spotify.com/v1/audio-analysis/79hq...</td>\n",
       "      <td>325680</td>\n",
       "      <td>3</td>\n",
       "    </tr>\n",
       "    <tr>\n",
       "      <td>4</td>\n",
       "      <td>0.7110</td>\n",
       "      <td>0.598</td>\n",
       "      <td>3</td>\n",
       "      <td>-7.621</td>\n",
       "      <td>0</td>\n",
       "      <td>0.1820</td>\n",
       "      <td>0.190</td>\n",
       "      <td>0.000000</td>\n",
       "      <td>0.1500</td>\n",
       "      <td>0.7370</td>\n",
       "      <td>140.175</td>\n",
       "      <td>audio_features</td>\n",
       "      <td>5vGLcdRuSbUhD8ScwsGSdA</td>\n",
       "      <td>spotify:track:5vGLcdRuSbUhD8ScwsGSdA</td>\n",
       "      <td>https://api.spotify.com/v1/tracks/5vGLcdRuSbUh...</td>\n",
       "      <td>https://api.spotify.com/v1/audio-analysis/5vGL...</td>\n",
       "      <td>123429</td>\n",
       "      <td>4</td>\n",
       "    </tr>\n",
       "  </tbody>\n",
       "</table>\n",
       "</div>"
      ],
      "text/plain": [
       "   danceability  energy  key  loudness  mode  speechiness  acousticness  \\\n",
       "0        0.4360   0.655    1    -8.370     0       0.0583         0.499   \n",
       "1        0.0692   0.285    2   -14.854     1       0.0482         0.700   \n",
       "2        0.7000   0.722    7    -3.558     0       0.0369         0.221   \n",
       "3        0.2000   0.282    2   -19.803     0       0.0468         0.729   \n",
       "4        0.7110   0.598    3    -7.621     0       0.1820         0.190   \n",
       "\n",
       "   instrumentalness  liveness  valence    tempo            type  \\\n",
       "0          0.000008    0.6880   0.4120  121.002  audio_features   \n",
       "1          0.673000    0.1990   0.0312   78.572  audio_features   \n",
       "2          0.000000    0.2720   0.7560   90.989  audio_features   \n",
       "3          0.887000    0.0837   0.0372   74.381  audio_features   \n",
       "4          0.000000    0.1500   0.7370  140.175  audio_features   \n",
       "\n",
       "                       id                                   uri  \\\n",
       "0  3YJJjQPAbDT7mGpX3WtQ9A  spotify:track:3YJJjQPAbDT7mGpX3WtQ9A   \n",
       "1  51TAp7p7B3xboCl5HWmEkF  spotify:track:51TAp7p7B3xboCl5HWmEkF   \n",
       "2  3tjFYV6RSFtuktYl3ZtYcq  spotify:track:3tjFYV6RSFtuktYl3ZtYcq   \n",
       "3  79hqdNpnWPVVxmZiDfKaIL  spotify:track:79hqdNpnWPVVxmZiDfKaIL   \n",
       "4  5vGLcdRuSbUhD8ScwsGSdA  spotify:track:5vGLcdRuSbUhD8ScwsGSdA   \n",
       "\n",
       "                                          track_href  \\\n",
       "0  https://api.spotify.com/v1/tracks/3YJJjQPAbDT7...   \n",
       "1  https://api.spotify.com/v1/tracks/51TAp7p7B3xb...   \n",
       "2  https://api.spotify.com/v1/tracks/3tjFYV6RSFtu...   \n",
       "3  https://api.spotify.com/v1/tracks/79hqdNpnWPVV...   \n",
       "4  https://api.spotify.com/v1/tracks/5vGLcdRuSbUh...   \n",
       "\n",
       "                                        analysis_url  duration_ms  \\\n",
       "0  https://api.spotify.com/v1/audio-analysis/3YJJ...       279204   \n",
       "1  https://api.spotify.com/v1/audio-analysis/51TA...       533707   \n",
       "2  https://api.spotify.com/v1/audio-analysis/3tjF...       140526   \n",
       "3  https://api.spotify.com/v1/audio-analysis/79hq...       325680   \n",
       "4  https://api.spotify.com/v1/audio-analysis/5vGL...       123429   \n",
       "\n",
       "   time_signature  \n",
       "0               4  \n",
       "1               4  \n",
       "2               4  \n",
       "3               3  \n",
       "4               4  "
      ]
     },
     "execution_count": 11,
     "metadata": {},
     "output_type": "execute_result"
    }
   ],
   "source": [
    "df_audio_features = pd.DataFrame.from_dict(rows,orient='columns')\n",
    "print(\"Tamaño de los datos\", df_audio_features.shape)\n",
    "df_audio_features.head()"
   ]
  },
  {
   "cell_type": "code",
   "execution_count": 12,
   "metadata": {
    "slideshow": {
     "slide_type": "subslide"
    }
   },
   "outputs": [
    {
     "name": "stdout",
     "output_type": "stream",
     "text": [
      "Tamaño de los datos: (1944, 18)\n"
     ]
    },
    {
     "data": {
      "text/html": [
       "<div>\n",
       "<style scoped>\n",
       "    .dataframe tbody tr th:only-of-type {\n",
       "        vertical-align: middle;\n",
       "    }\n",
       "\n",
       "    .dataframe tbody tr th {\n",
       "        vertical-align: top;\n",
       "    }\n",
       "\n",
       "    .dataframe thead th {\n",
       "        text-align: right;\n",
       "    }\n",
       "</style>\n",
       "<table border=\"1\" class=\"dataframe\">\n",
       "  <thead>\n",
       "    <tr style=\"text-align: right;\">\n",
       "      <th></th>\n",
       "      <th>artist_name</th>\n",
       "      <th>track_name</th>\n",
       "      <th>track_id</th>\n",
       "      <th>popularity</th>\n",
       "      <th>danceability</th>\n",
       "      <th>energy</th>\n",
       "      <th>key</th>\n",
       "      <th>loudness</th>\n",
       "      <th>mode</th>\n",
       "      <th>speechiness</th>\n",
       "      <th>...</th>\n",
       "      <th>instrumentalness</th>\n",
       "      <th>liveness</th>\n",
       "      <th>valence</th>\n",
       "      <th>tempo</th>\n",
       "      <th>type</th>\n",
       "      <th>uri</th>\n",
       "      <th>track_href</th>\n",
       "      <th>analysis_url</th>\n",
       "      <th>duration_ms</th>\n",
       "      <th>time_signature</th>\n",
       "    </tr>\n",
       "  </thead>\n",
       "  <tbody>\n",
       "    <tr>\n",
       "      <td>0</td>\n",
       "      <td>SZA</td>\n",
       "      <td>Good Days</td>\n",
       "      <td>3YJJjQPAbDT7mGpX3WtQ9A</td>\n",
       "      <td>92</td>\n",
       "      <td>0.4360</td>\n",
       "      <td>0.655</td>\n",
       "      <td>1</td>\n",
       "      <td>-8.370</td>\n",
       "      <td>0</td>\n",
       "      <td>0.0583</td>\n",
       "      <td>...</td>\n",
       "      <td>0.000008</td>\n",
       "      <td>0.6880</td>\n",
       "      <td>0.4120</td>\n",
       "      <td>121.002</td>\n",
       "      <td>audio_features</td>\n",
       "      <td>spotify:track:3YJJjQPAbDT7mGpX3WtQ9A</td>\n",
       "      <td>https://api.spotify.com/v1/tracks/3YJJjQPAbDT7...</td>\n",
       "      <td>https://api.spotify.com/v1/audio-analysis/3YJJ...</td>\n",
       "      <td>279204</td>\n",
       "      <td>4</td>\n",
       "    </tr>\n",
       "    <tr>\n",
       "      <td>1</td>\n",
       "      <td>Hammock</td>\n",
       "      <td>Longest Year - 2020</td>\n",
       "      <td>51TAp7p7B3xboCl5HWmEkF</td>\n",
       "      <td>35</td>\n",
       "      <td>0.0692</td>\n",
       "      <td>0.285</td>\n",
       "      <td>2</td>\n",
       "      <td>-14.854</td>\n",
       "      <td>1</td>\n",
       "      <td>0.0482</td>\n",
       "      <td>...</td>\n",
       "      <td>0.673000</td>\n",
       "      <td>0.1990</td>\n",
       "      <td>0.0312</td>\n",
       "      <td>78.572</td>\n",
       "      <td>audio_features</td>\n",
       "      <td>spotify:track:51TAp7p7B3xboCl5HWmEkF</td>\n",
       "      <td>https://api.spotify.com/v1/tracks/51TAp7p7B3xb...</td>\n",
       "      <td>https://api.spotify.com/v1/audio-analysis/51TA...</td>\n",
       "      <td>533707</td>\n",
       "      <td>4</td>\n",
       "    </tr>\n",
       "    <tr>\n",
       "      <td>2</td>\n",
       "      <td>24kGoldn</td>\n",
       "      <td>Mood (feat. iann dior)</td>\n",
       "      <td>3tjFYV6RSFtuktYl3ZtYcq</td>\n",
       "      <td>95</td>\n",
       "      <td>0.7000</td>\n",
       "      <td>0.722</td>\n",
       "      <td>7</td>\n",
       "      <td>-3.558</td>\n",
       "      <td>0</td>\n",
       "      <td>0.0369</td>\n",
       "      <td>...</td>\n",
       "      <td>0.000000</td>\n",
       "      <td>0.2720</td>\n",
       "      <td>0.7560</td>\n",
       "      <td>90.989</td>\n",
       "      <td>audio_features</td>\n",
       "      <td>spotify:track:3tjFYV6RSFtuktYl3ZtYcq</td>\n",
       "      <td>https://api.spotify.com/v1/tracks/3tjFYV6RSFtu...</td>\n",
       "      <td>https://api.spotify.com/v1/audio-analysis/3tjF...</td>\n",
       "      <td>140526</td>\n",
       "      <td>4</td>\n",
       "    </tr>\n",
       "    <tr>\n",
       "      <td>3</td>\n",
       "      <td>Hammock</td>\n",
       "      <td>Dark Beyond the Blue - 2020</td>\n",
       "      <td>79hqdNpnWPVVxmZiDfKaIL</td>\n",
       "      <td>40</td>\n",
       "      <td>0.2000</td>\n",
       "      <td>0.282</td>\n",
       "      <td>2</td>\n",
       "      <td>-19.803</td>\n",
       "      <td>0</td>\n",
       "      <td>0.0468</td>\n",
       "      <td>...</td>\n",
       "      <td>0.887000</td>\n",
       "      <td>0.0837</td>\n",
       "      <td>0.0372</td>\n",
       "      <td>74.381</td>\n",
       "      <td>audio_features</td>\n",
       "      <td>spotify:track:79hqdNpnWPVVxmZiDfKaIL</td>\n",
       "      <td>https://api.spotify.com/v1/tracks/79hqdNpnWPVV...</td>\n",
       "      <td>https://api.spotify.com/v1/audio-analysis/79hq...</td>\n",
       "      <td>325680</td>\n",
       "      <td>3</td>\n",
       "    </tr>\n",
       "    <tr>\n",
       "      <td>4</td>\n",
       "      <td>CJ</td>\n",
       "      <td>Whoopty</td>\n",
       "      <td>5vGLcdRuSbUhD8ScwsGSdA</td>\n",
       "      <td>93</td>\n",
       "      <td>0.7110</td>\n",
       "      <td>0.598</td>\n",
       "      <td>3</td>\n",
       "      <td>-7.621</td>\n",
       "      <td>0</td>\n",
       "      <td>0.1820</td>\n",
       "      <td>...</td>\n",
       "      <td>0.000000</td>\n",
       "      <td>0.1500</td>\n",
       "      <td>0.7370</td>\n",
       "      <td>140.175</td>\n",
       "      <td>audio_features</td>\n",
       "      <td>spotify:track:5vGLcdRuSbUhD8ScwsGSdA</td>\n",
       "      <td>https://api.spotify.com/v1/tracks/5vGLcdRuSbUh...</td>\n",
       "      <td>https://api.spotify.com/v1/audio-analysis/5vGL...</td>\n",
       "      <td>123429</td>\n",
       "      <td>4</td>\n",
       "    </tr>\n",
       "  </tbody>\n",
       "</table>\n",
       "<p>5 rows × 21 columns</p>\n",
       "</div>"
      ],
      "text/plain": [
       "  artist_name                   track_name                track_id  \\\n",
       "0         SZA                    Good Days  3YJJjQPAbDT7mGpX3WtQ9A   \n",
       "1     Hammock          Longest Year - 2020  51TAp7p7B3xboCl5HWmEkF   \n",
       "2    24kGoldn       Mood (feat. iann dior)  3tjFYV6RSFtuktYl3ZtYcq   \n",
       "3     Hammock  Dark Beyond the Blue - 2020  79hqdNpnWPVVxmZiDfKaIL   \n",
       "4          CJ                      Whoopty  5vGLcdRuSbUhD8ScwsGSdA   \n",
       "\n",
       "   popularity  danceability  energy  key  loudness  mode  speechiness  ...  \\\n",
       "0          92        0.4360   0.655    1    -8.370     0       0.0583  ...   \n",
       "1          35        0.0692   0.285    2   -14.854     1       0.0482  ...   \n",
       "2          95        0.7000   0.722    7    -3.558     0       0.0369  ...   \n",
       "3          40        0.2000   0.282    2   -19.803     0       0.0468  ...   \n",
       "4          93        0.7110   0.598    3    -7.621     0       0.1820  ...   \n",
       "\n",
       "   instrumentalness  liveness  valence    tempo            type  \\\n",
       "0          0.000008    0.6880   0.4120  121.002  audio_features   \n",
       "1          0.673000    0.1990   0.0312   78.572  audio_features   \n",
       "2          0.000000    0.2720   0.7560   90.989  audio_features   \n",
       "3          0.887000    0.0837   0.0372   74.381  audio_features   \n",
       "4          0.000000    0.1500   0.7370  140.175  audio_features   \n",
       "\n",
       "                                    uri  \\\n",
       "0  spotify:track:3YJJjQPAbDT7mGpX3WtQ9A   \n",
       "1  spotify:track:51TAp7p7B3xboCl5HWmEkF   \n",
       "2  spotify:track:3tjFYV6RSFtuktYl3ZtYcq   \n",
       "3  spotify:track:79hqdNpnWPVVxmZiDfKaIL   \n",
       "4  spotify:track:5vGLcdRuSbUhD8ScwsGSdA   \n",
       "\n",
       "                                          track_href  \\\n",
       "0  https://api.spotify.com/v1/tracks/3YJJjQPAbDT7...   \n",
       "1  https://api.spotify.com/v1/tracks/51TAp7p7B3xb...   \n",
       "2  https://api.spotify.com/v1/tracks/3tjFYV6RSFtu...   \n",
       "3  https://api.spotify.com/v1/tracks/79hqdNpnWPVV...   \n",
       "4  https://api.spotify.com/v1/tracks/5vGLcdRuSbUh...   \n",
       "\n",
       "                                        analysis_url duration_ms  \\\n",
       "0  https://api.spotify.com/v1/audio-analysis/3YJJ...      279204   \n",
       "1  https://api.spotify.com/v1/audio-analysis/51TA...      533707   \n",
       "2  https://api.spotify.com/v1/audio-analysis/3tjF...      140526   \n",
       "3  https://api.spotify.com/v1/audio-analysis/79hq...      325680   \n",
       "4  https://api.spotify.com/v1/audio-analysis/5vGL...      123429   \n",
       "\n",
       "   time_signature  \n",
       "0               4  \n",
       "1               4  \n",
       "2               4  \n",
       "3               3  \n",
       "4               4  \n",
       "\n",
       "[5 rows x 21 columns]"
      ]
     },
     "execution_count": 12,
     "metadata": {},
     "output_type": "execute_result"
    }
   ],
   "source": [
    "#Unimos ambos dataframes\n",
    "df_audio_features.rename(columns={'id': 'track_id'}, inplace=True)\n",
    "df = pd.merge(df_tracks,df_audio_features,on='track_id',how='inner')\n",
    "print(\"Tamaño de los datos:\", df_audio_features.shape)\n",
    "df.head()"
   ]
  },
  {
   "cell_type": "markdown",
   "metadata": {
    "slideshow": {
     "slide_type": "subslide"
    }
   },
   "source": [
    "Guardamos el dataframe en un archivo csv."
   ]
  },
  {
   "cell_type": "code",
   "execution_count": 13,
   "metadata": {
    "slideshow": {
     "slide_type": "subslide"
    }
   },
   "outputs": [],
   "source": [
    "df.to_csv('SpotifyAudioFeatures2020.csv')"
   ]
  }
 ],
 "metadata": {
  "celltoolbar": "Slideshow",
  "kernelspec": {
   "display_name": "Python 3",
   "language": "python",
   "name": "python3"
  },
  "language_info": {
   "codemirror_mode": {
    "name": "ipython",
    "version": 3
   },
   "file_extension": ".py",
   "mimetype": "text/x-python",
   "name": "python",
   "nbconvert_exporter": "python",
   "pygments_lexer": "ipython3",
   "version": "3.7.4"
  }
 },
 "nbformat": 4,
 "nbformat_minor": 2
}
