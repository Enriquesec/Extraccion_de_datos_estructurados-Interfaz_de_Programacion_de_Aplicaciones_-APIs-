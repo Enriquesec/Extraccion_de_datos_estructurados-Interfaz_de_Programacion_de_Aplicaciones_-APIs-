{
 "cells": [
  {
   "cell_type": "markdown",
   "metadata": {
    "slideshow": {
     "slide_type": "slide"
    }
   },
   "source": [
    "# Ejemplo de extracción de datos estructurados: Clima. \n",
    "![A](introduccion.jpg)"
   ]
  },
  {
   "cell_type": "markdown",
   "metadata": {
    "slideshow": {
     "slide_type": "subslide"
    }
   },
   "source": [
    "#### Existen una gran variedad de API's para el clima*"
   ]
  },
  {
   "cell_type": "markdown",
   "metadata": {
    "slideshow": {
     "slide_type": "fragment"
    }
   },
   "source": [
    "1. ClimaCell Weather API \n",
    "2. OpenWeatherMap\n",
    "3. Weather trends\n",
    "4. AccuWeather\n",
    "5. Dark Sky\n",
    "6. etc.\n",
    "\n",
    "*https://superdevresources.com/weather-forecast-api-for-developing-apps/"
   ]
  },
  {
   "cell_type": "markdown",
   "metadata": {
    "slideshow": {
     "slide_type": "subslide"
    }
   },
   "source": [
    "## [Dark Sky API](https://darksky.net/forecast/40.7127,-74.0059/us12/es)\n",
    "![A](dark_sky_page.png)"
   ]
  },
  {
   "cell_type": "markdown",
   "metadata": {
    "slideshow": {
     "slide_type": "subslide"
    }
   },
   "source": [
    "La API de Dark Sky le permite buscar el clima en cualquier parte del mundo, regresando (donde esté disponible):\n",
    "\n",
    "- Condiciones meteorológicas actuales\n",
    "- Pronósticos minuto a minuto hasta una hora\n",
    "- Pronósticos hora a hora y día a día hasta siete días\n",
    "- Observaciones hora a hora y día a día que se remontan a décadas\n",
    "- Alertas de clima severo en los Estados Unidos, Canadá, países miembros de la Unión Europea e Israel"
   ]
  },
  {
   "cell_type": "markdown",
   "metadata": {
    "slideshow": {
     "slide_type": "subslide"
    }
   },
   "source": [
    "### Las condiciones climáticas\n",
    "\n",
    "La API de Dark Sky ofrece una colección completa de condiciones meteorológicas en 39 idiomas diferentes, que incluyen:\n",
    "\n",
    "- Temperatura aparente (se siente como)\n",
    "- Presión atmosférica\n",
    "- Cubierto de nubes\n",
    "- Punto de rocío\n",
    "- Humedad\n",
    "- Tasa de precipitación líquida\n",
    "- Fase lunar\n",
    "- Distancia de tormenta más cercana\n",
    "- Dirección de tormenta más cercana\n",
    "- Ozono\n",
    "- etc"
   ]
  },
  {
   "cell_type": "markdown",
   "metadata": {
    "slideshow": {
     "slide_type": "fragment"
    }
   },
   "source": [
    "### Precios \n",
    "- Las primeras 1.000 solicitudes de API que realice todos los días son gratuitas .\n",
    "- Cada solicitud de API por encima del límite diario gratuito cuesta $ 0,0001 (aprox 0.002 MXN)."
   ]
  },
  {
   "cell_type": "markdown",
   "metadata": {
    "slideshow": {
     "slide_type": "subslide"
    }
   },
   "source": [
    "### Tipos de llamadas a la API meteorológica\n",
    "Existen dos tipos de solicitudes de API para recuperar el clima en cualquier parte del mundo:\n",
    "\n",
    "- La solicitud de pronóstico devuelve el pronóstico del tiempo actual para la próxima semana.\n",
    "- La solicitud de Time Machine devuelve las condiciones meteorológicas observadas o previstas para una fecha pasada o futura.\n"
   ]
  },
  {
   "cell_type": "markdown",
   "metadata": {
    "slideshow": {
     "slide_type": "fragment"
    }
   },
   "source": [
    "### Solicitud de Time Machine\n",
    "\n",
    "**https://api.darksky.net/forecast/[key]/[latitude],[longitude],[time]**\n",
    "        \n",
    "Una solicitud de Time Machine devuelve el tiempo observado (en el pasado) o pronosticado (en el futuro) hora por hora y las condiciones meteorológicas diarias para una fecha en particular. "
   ]
  },
  {
   "cell_type": "markdown",
   "metadata": {
    "slideshow": {
     "slide_type": "subslide"
    }
   },
   "source": [
    "### Ejemplo de solicitud.\n",
    "\n",
    "GET https://api.darksky.net/forecast/93a3ab8136ea441147c4702bc5bdabc3/42.3601,-71.0589,255657600?exclude=currently,flags "
   ]
  },
  {
   "cell_type": "markdown",
   "metadata": {
    "slideshow": {
     "slide_type": "fragment"
    }
   },
   "source": [
    "      {\n",
    "        \"latitude\": 42.3601,\n",
    "        \"longitude\": -71.0589,\n",
    "        \"timezone\": \"America/New_York\",\n",
    "        \"hourly\": {\n",
    "          \"summary\": \"Snow (6–9 in.) and windy starting in the afternoon.\",\n",
    "          \"icon\": \"snow\",\n",
    "          \"data\": [\n",
    "            {\n",
    "              \"time\": 255589200,\n",
    "              \"summary\": \"Mostly Cloudy\",\n",
    "              \"icon\": \"partly-cloudy-night\",\n",
    "              \"precipIntensity\": 0,\n",
    "              \"precipProbability\": 0,\n",
    "              \"temperature\": 22.8,\n",
    "              \"apparentTemperature\": 16.46,\n",
    "              \"dewPoint\": 15.51,\n",
    "              \"humidity\": 0.73,\n",
    "              \"pressure\": 1026.78,\n",
    "              \"windSpeed\": 4.83,\n",
    "              \"windBearing\": 354,\n",
    "              \"cloudCover\": 0.78,\n",
    "              \"uvIndex\": 0,\n",
    "              \"visibility\": 9.62\n",
    "            },\n",
    "            ...\n",
    "          ]\n",
    "        },\n",
    "        \"daily\": {\n",
    "          \"data\": [\n",
    "            {\n",
    "              \"time\": 255589200,\n",
    "              \"summary\": \"Snow (9–14 in.) and windy starting in the afternoon.\",\n",
    "              \"icon\": \"snow\",\n",
    "              \"sunriseTime\": 255613996,\n",
    "              \"sunsetTime\": 255650764,\n",
    "              \"moonPhase\": 0.97,\n",
    "              \"precipIntensity\": 0.0354,\n",
    "              \"precipIntensityMax\": 0.1731,\n",
    "              \"precipIntensityMaxTime\": 255657600,\n",
    "              \"precipProbability\": 1,\n",
    "              \"precipAccumulation\": 7.337,\n",
    "              \"precipType\": \"snow\",\n",
    "              \"temperatureHigh\": 31.84,\n",
    "              \"temperatureHighTime\": 255632400,\n",
    "              \"temperatureLow\": 28.63,\n",
    "              \"temperatureLowTime\": 255697200,\n",
    "              \"apparentTemperatureHigh\": 20.47,\n",
    "              \"apparentTemperatureHighTime\": 255625200,\n",
    "              \"apparentTemperatureLow\": 13.03,\n",
    "              \"apparentTemperatureLowTime\": 255697200,\n",
    "              \"dewPoint\": 24.72,\n",
    "              \"humidity\": 0.86,\n",
    "              \"pressure\": 1016.41,\n",
    "              \"windSpeed\": 22.93,\n",
    "              \"windBearing\": 56,\n",
    "              \"cloudCover\": 0.95,\n",
    "              \"uvIndex\": 1,\n",
    "              \"uvIndexTime\": 255621600,\n",
    "              \"visibility\": 4.83,\n",
    "              \"temperatureMin\": 22.72,\n",
    "              \"temperatureMinTime\": 255596400,\n",
    "              \"temperatureMax\": 32.04,\n",
    "              \"temperatureMaxTime\": 255672000,\n",
    "              \"apparentTemperatureMin\": 11.13,\n",
    "              \"apparentTemperatureMinTime\": 255650400,\n",
    "              \"apparentTemperatureMax\": 20.47,\n",
    "              \"apparentTemperatureMaxTime\": 255625200\n",
    "            }\n",
    "          ]\n",
    "        },\n",
    "        \"offset\": -5\n",
    "      }"
   ]
  },
  {
   "cell_type": "markdown",
   "metadata": {
    "slideshow": {
     "slide_type": "subslide"
    }
   },
   "source": [
    "## Mas información en la documentación de la API: \n",
    "### https://darksky.net/dev/docs"
   ]
  },
  {
   "cell_type": "markdown",
   "metadata": {
    "slideshow": {
     "slide_type": "slide"
    }
   },
   "source": [
    "### Existe varias formas de conectarse a la API:\n",
    "1. Creando un scrapper.\n",
    "2. [Librerias que se conectan a la API](https://darksky.net/dev/docs/libraries)"
   ]
  },
  {
   "cell_type": "markdown",
   "metadata": {
    "slideshow": {
     "slide_type": "subslide"
    }
   },
   "source": [
    "### Creamos el scrapper"
   ]
  },
  {
   "cell_type": "code",
   "execution_count": 1,
   "metadata": {
    "slideshow": {
     "slide_type": "fragment"
    }
   },
   "outputs": [],
   "source": [
    "# cargamos las librerias\n",
    "import pandas as pd # manipulacion de dataframe\n",
    "import urllib.request # manipulacion de url\n",
    "import json # manipulación json\n",
    "import time # manipulación de fechas"
   ]
  },
  {
   "cell_type": "markdown",
   "metadata": {
    "slideshow": {
     "slide_type": "subslide"
    }
   },
   "source": [
    "#### Recordemos el formato de url:\n",
    "**https://api.darksky.net/forecast/[key]/[latitude],[longitude],[time]**"
   ]
  },
  {
   "cell_type": "code",
   "execution_count": 2,
   "metadata": {
    "slideshow": {
     "slide_type": "fragment"
    }
   },
   "outputs": [],
   "source": [
    "# definimos los parametros de la url\n",
    "key = \"93a3ab8136ea441147c4702bc5bdabc3\"\n",
    "latitude = \"25.679673\"\n",
    "longitude = \"-100.316839\"\n",
    "fecha = int((pd.to_datetime(\"2020-02-04\")-pd.to_datetime(\"1970-01-01\")).total_seconds())"
   ]
  },
  {
   "cell_type": "code",
   "execution_count": 3,
   "metadata": {
    "slideshow": {
     "slide_type": "fragment"
    }
   },
   "outputs": [
    {
     "name": "stdout",
     "output_type": "stream",
     "text": [
      "https://api.darksky.net/forecast/93a3ab8136ea441147c4702bc5bdabc3/25.679673,-100.316839,1580774400\n",
      "<class 'str'>\n"
     ]
    }
   ],
   "source": [
    "# creamos el link\n",
    "url_weather = \"https://api.darksky.net/forecast/{}/{},{},{}\".format(key,latitude, longitude, fecha)\n",
    "print(url_weather)\n",
    "print(type(url_weather))"
   ]
  },
  {
   "cell_type": "code",
   "execution_count": 4,
   "metadata": {
    "scrolled": true,
    "slideshow": {
     "slide_type": "fragment"
    }
   },
   "outputs": [
    {
     "name": "stdout",
     "output_type": "stream",
     "text": [
      "<class 'str'>\n"
     ]
    }
   ],
   "source": [
    "# abrimos el url\n",
    "page = urllib.request.urlopen(url_weather).read()\n",
    "print(type(page.decode('utf-8')))"
   ]
  },
  {
   "cell_type": "code",
   "execution_count": 5,
   "metadata": {
    "scrolled": true,
    "slideshow": {
     "slide_type": "subslide"
    }
   },
   "outputs": [
    {
     "data": {
      "text/plain": [
       "'{\"latitude\":25.679673,\"longitude\":-100.316839,\"timezone\":\"America/Monterrey\",\"currently\":{\"time\":1580774400,\"summary\":\"Overcast\",\"icon\":\"cloudy\",\"precipIntensity\":0.0011,\"precipProbability\":0.02,\"precipType\":\"rain\",\"temperature\":74.7,\"apparentTemperature\":74.7,\"dewPoint\":54.74,\"humidity\":0.5,\"pressure\":1006.7,\"windSpeed\":4.37,\"windGust\":11.26,\"windBearing\":120,\"cloudCover\":0.95,\"uvIndex\":0,\"visibility\":10,\"ozone\":253.5},\"hourly\":{\"summary\":\"Mostly cloudy throughout the day.\",\"icon\":\"partly-cloudy-day\",\"data\":[{\"time\":1580709600,\"summary\":\"Partly Cloudy\",\"icon\":\"partly-cloudy-night\",\"precipIntensity\":0.001,\"precipProbability\":0.02,\"precipType\":\"rain\",\"temperature\":59.49,\"apparentTemperature\":59.49,\"dewPoint\":51.26,\"humidity\":0.74,\"pressure\":1013,\"windSpeed\":3.55,\"windGust\":6.3,\"windBearing\":158,\"cloudCover\":0.52,\"uvIndex\":0,\"visibility\":10,\"ozone\":261.3},{\"time\":1580713200,\"summary\":\"Partly Cloudy\",\"icon\":\"partly-cloudy-night\",\"precipIntensity\":0,\"precipProbability\":0,\"temperature\":58.81,\"apparentTemperature\":58.81,\"dewPoint\":51.26,\"humidity\":0.76,\"pressure\":1012.7,\"windSpeed\":3.88,\"windGust\":6.83,\"windBearing\":196,\"cloudCover\":0.56,\"uvIndex\":0,\"visibility\":10,\"ozone\":261.2},{\"time\":1580716800,\"summary\":\"Partly Cloudy\",\"icon\":\"partly-cloudy-night\",\"precipIntensity\":0,\"precipProbability\":0,\"temperature\":58.07,\"apparentTemperature\":58.07,\"dewPoint\":51.09,\"humidity\":0.78,\"pressure\":1012.1,\"windSpeed\":3.52,\"windGust\":6.34,\"windBearing\":245,\"cloudCover\":0.57,\"uvIndex\":0,\"visibility\":10,\"ozone\":260.9},{\"time\":1580720400,\"summary\":\"Mostly Cloudy\",\"icon\":\"partly-cloudy-night\",\"precipIntensity\":0,\"precipProbability\":0,\"temperature\":57.65,\"apparentTemperature\":57.65,\"dewPoint\":51.18,\"humidity\":0.79,\"pressure\":1011.3,\"windSpeed\":3.41,\"windGust\":5.89,\"windBearing\":268,\"cloudCover\":0.62,\"uvIndex\":0,\"visibility\":10,\"ozone\":260.5},{\"time\":1580724000,\"summary\":\"Mostly Cloudy\",\"icon\":\"partly-cloudy-night\",\"precipIntensity\":0.0004,\"precipProbability\":0.02,\"precipType\":\"rain\",\"temperature\":57.65,\"apparentTemperature\":57.65,\"dewPoint\":51.17,\"humidity\":0.79,\"pressure\":1010.2,\"windSpeed\":3.56,\"windGust\":5.8,\"windBearing\":258,\"cloudCover\":0.71,\"uvIndex\":0,\"visibility\":10,\"ozone\":259.9},{\"time\":1580727600,\"summary\":\"Mostly Cloudy\",\"icon\":\"partly-cloudy-night\",\"precipIntensity\":0.0037,\"precipProbability\":0.04,\"precipType\":\"rain\",\"temperature\":58.14,\"apparentTemperature\":58.14,\"dewPoint\":51.46,\"humidity\":0.78,\"pressure\":1009.8,\"windSpeed\":3.44,\"windGust\":6.53,\"windBearing\":263,\"cloudCover\":0.8,\"uvIndex\":0,\"visibility\":10,\"ozone\":259.1},{\"time\":1580731200,\"summary\":\"Mostly Cloudy\",\"icon\":\"partly-cloudy-night\",\"precipIntensity\":0.0042,\"precipProbability\":0.05,\"precipType\":\"rain\",\"temperature\":59.93,\"apparentTemperature\":59.93,\"dewPoint\":51.78,\"humidity\":0.74,\"pressure\":1010.1,\"windSpeed\":3.33,\"windGust\":5.77,\"windBearing\":256,\"cloudCover\":0.83,\"uvIndex\":0,\"visibility\":10,\"ozone\":257.3},{\"time\":1580734800,\"summary\":\"Mostly Cloudy\",\"icon\":\"partly-cloudy-night\",\"precipIntensity\":0.0035,\"precipProbability\":0.04,\"precipType\":\"rain\",\"temperature\":60.57,\"apparentTemperature\":60.57,\"dewPoint\":52.25,\"humidity\":0.74,\"pressure\":1010.4,\"windSpeed\":3.85,\"windGust\":6.04,\"windBearing\":235,\"cloudCover\":0.77,\"uvIndex\":0,\"visibility\":10,\"ozone\":256.4},{\"time\":1580738400,\"summary\":\"Mostly Cloudy\",\"icon\":\"partly-cloudy-day\",\"precipIntensity\":0.0005,\"precipProbability\":0.03,\"precipType\":\"rain\",\"temperature\":61.1,\"apparentTemperature\":61.1,\"dewPoint\":52.25,\"humidity\":0.73,\"pressure\":1011.4,\"windSpeed\":3.63,\"windGust\":7.14,\"windBearing\":291,\"cloudCover\":0.81,\"uvIndex\":0,\"visibility\":10,\"ozone\":255.6},{\"time\":1580742000,\"summary\":\"Mostly Cloudy\",\"icon\":\"partly-cloudy-day\",\"precipIntensity\":0.001,\"precipProbability\":0.04,\"precipType\":\"rain\",\"temperature\":64.04,\"apparentTemperature\":64.04,\"dewPoint\":53.59,\"humidity\":0.69,\"pressure\":1011.7,\"windSpeed\":4.55,\"windGust\":8.78,\"windBearing\":277,\"cloudCover\":0.79,\"uvIndex\":1,\"visibility\":10,\"ozone\":255.2},{\"time\":1580745600,\"summary\":\"Mostly Cloudy\",\"icon\":\"partly-cloudy-day\",\"precipIntensity\":0,\"precipProbability\":0,\"temperature\":67.76,\"apparentTemperature\":67.76,\"dewPoint\":55.39,\"humidity\":0.65,\"pressure\":1012,\"windSpeed\":6.6,\"windGust\":16.32,\"windBearing\":276,\"cloudCover\":0.76,\"uvIndex\":2,\"visibility\":10,\"ozone\":255.5},{\"time\":1580749200,\"summary\":\"Mostly Cloudy\",\"icon\":\"partly-cloudy-day\",\"precipIntensity\":0.0014,\"precipProbability\":0.05,\"precipType\":\"rain\",\"temperature\":68.79,\"apparentTemperature\":68.79,\"dewPoint\":56.63,\"humidity\":0.65,\"pressure\":1011.6,\"windSpeed\":8.71,\"windGust\":20.98,\"windBearing\":292,\"cloudCover\":0.72,\"uvIndex\":4,\"visibility\":10,\"ozone\":256.2},{\"time\":1580752800,\"summary\":\"Mostly Cloudy\",\"icon\":\"partly-cloudy-day\",\"precipIntensity\":0.003,\"precipProbability\":0.05,\"precipType\":\"rain\",\"temperature\":72.99,\"apparentTemperature\":72.99,\"dewPoint\":54.85,\"humidity\":0.53,\"pressure\":1011.4,\"windSpeed\":7.42,\"windGust\":15.38,\"windBearing\":199,\"cloudCover\":0.85,\"uvIndex\":5,\"visibility\":10,\"ozone\":249},{\"time\":1580756400,\"summary\":\"Mostly Cloudy\",\"icon\":\"partly-cloudy-day\",\"precipIntensity\":0.0037,\"precipProbability\":0.06,\"precipType\":\"rain\",\"temperature\":75.13,\"apparentTemperature\":75.13,\"dewPoint\":54.35,\"humidity\":0.48,\"pressure\":1010.2,\"windSpeed\":7.3,\"windGust\":16.19,\"windBearing\":199,\"cloudCover\":0.84,\"uvIndex\":5,\"visibility\":10,\"ozone\":249.1},{\"time\":1580760000,\"summary\":\"Mostly Cloudy\",\"icon\":\"partly-cloudy-day\",\"precipIntensity\":0.0018,\"precipProbability\":0.04,\"precipType\":\"rain\",\"temperature\":76.56,\"apparentTemperature\":76.56,\"dewPoint\":54.13,\"humidity\":0.46,\"pressure\":1008.8,\"windSpeed\":7.85,\"windGust\":14.79,\"windBearing\":132,\"cloudCover\":0.8,\"uvIndex\":5,\"visibility\":10,\"ozone\":250},{\"time\":1580763600,\"summary\":\"Mostly Cloudy\",\"icon\":\"partly-cloudy-day\",\"precipIntensity\":0.002,\"precipProbability\":0.04,\"precipType\":\"rain\",\"temperature\":76.24,\"apparentTemperature\":76.24,\"dewPoint\":54.51,\"humidity\":0.47,\"pressure\":1007.9,\"windSpeed\":6.64,\"windGust\":16.37,\"windBearing\":142,\"cloudCover\":0.78,\"uvIndex\":4,\"visibility\":10,\"ozone\":250.9},{\"time\":1580767200,\"summary\":\"Mostly Cloudy\",\"icon\":\"partly-cloudy-day\",\"precipIntensity\":0.0014,\"precipProbability\":0.03,\"precipType\":\"rain\",\"temperature\":75.15,\"apparentTemperature\":75.15,\"dewPoint\":55.22,\"humidity\":0.5,\"pressure\":1007.2,\"windSpeed\":5.31,\"windGust\":14.74,\"windBearing\":158,\"cloudCover\":0.77,\"uvIndex\":2,\"visibility\":10,\"ozone\":251.7},{\"time\":1580770800,\"summary\":\"Overcast\",\"icon\":\"cloudy\",\"precipIntensity\":0.0006,\"precipProbability\":0.02,\"precipType\":\"rain\",\"temperature\":74.23,\"apparentTemperature\":74.23,\"dewPoint\":55.7,\"humidity\":0.52,\"pressure\":1006.4,\"windSpeed\":5,\"windGust\":12.76,\"windBearing\":125,\"cloudCover\":0.89,\"uvIndex\":1,\"visibility\":10,\"ozone\":252.5},{\"time\":1580774400,\"summary\":\"Overcast\",\"icon\":\"cloudy\",\"precipIntensity\":0.0011,\"precipProbability\":0.02,\"precipType\":\"rain\",\"temperature\":74.7,\"apparentTemperature\":74.7,\"dewPoint\":54.74,\"humidity\":0.5,\"pressure\":1006.7,\"windSpeed\":4.37,\"windGust\":11.26,\"windBearing\":120,\"cloudCover\":0.95,\"uvIndex\":0,\"visibility\":10,\"ozone\":253.5},{\"time\":1580778000,\"summary\":\"Mostly Cloudy\",\"icon\":\"partly-cloudy-night\",\"precipIntensity\":0.0016,\"precipProbability\":0.02,\"precipType\":\"rain\",\"temperature\":70.93,\"apparentTemperature\":70.93,\"dewPoint\":56.69,\"humidity\":0.61,\"pressure\":1007.9,\"windSpeed\":4.54,\"windGust\":9.2,\"windBearing\":101,\"cloudCover\":0.77,\"uvIndex\":0,\"visibility\":10,\"ozone\":258.1},{\"time\":1580781600,\"summary\":\"Mostly Cloudy\",\"icon\":\"partly-cloudy-night\",\"precipIntensity\":0,\"precipProbability\":0,\"temperature\":68.66,\"apparentTemperature\":68.66,\"dewPoint\":55.45,\"humidity\":0.63,\"pressure\":1009.5,\"windSpeed\":5.21,\"windGust\":9.52,\"windBearing\":278,\"cloudCover\":0.62,\"uvIndex\":0,\"visibility\":10,\"ozone\":259.2},{\"time\":1580785200,\"summary\":\"Mostly Cloudy\",\"icon\":\"partly-cloudy-night\",\"precipIntensity\":0,\"precipProbability\":0,\"temperature\":66.37,\"apparentTemperature\":66.37,\"dewPoint\":53.99,\"humidity\":0.64,\"pressure\":1010,\"windSpeed\":4.7,\"windGust\":10.14,\"windBearing\":241,\"cloudCover\":0.62,\"uvIndex\":0,\"visibility\":10,\"ozone\":260.4},{\"time\":1580788800,\"summary\":\"Mostly Cloudy\",\"icon\":\"partly-cloudy-night\",\"precipIntensity\":0,\"precipProbability\":0,\"temperature\":65.08,\"apparentTemperature\":65.08,\"dewPoint\":52.46,\"humidity\":0.64,\"pressure\":1009.3,\"windSpeed\":4.75,\"windGust\":9.22,\"windBearing\":255,\"cloudCover\":0.6,\"uvIndex\":0,\"visibility\":10,\"ozone\":262.1},{\"time\":1580792400,\"summary\":\"Mostly Cloudy\",\"icon\":\"partly-cloudy-night\",\"precipIntensity\":0,\"precipProbability\":0,\"temperature\":64.33,\"apparentTemperature\":64.33,\"dewPoint\":52.45,\"humidity\":0.65,\"pressure\":1008.6,\"windSpeed\":5.21,\"windGust\":9.89,\"windBearing\":248,\"cloudCover\":0.8,\"uvIndex\":0,\"visibility\":10,\"ozone\":264.2}]},\"daily\":{\"data\":[{\"time\":1580709600,\"summary\":\"Mostly cloudy throughout the day.\",\"icon\":\"rain\",\"sunriseTime\":1580736300,\"sunsetTime\":1580776020,\"moonPhase\":0.32,\"precipIntensity\":0.0014,\"precipIntensityMax\":0.0042,\"precipIntensityMaxTime\":1580730300,\"precipProbability\":0.29,\"precipType\":\"rain\",\"temperatureHigh\":77.12,\"temperatureHighTime\":1580760840,\"temperatureLow\":58.38,\"temperatureLowTime\":1580817180,\"apparentTemperatureHigh\":76.62,\"apparentTemperatureHighTime\":1580760840,\"apparentTemperatureLow\":58.87,\"apparentTemperatureLowTime\":1580817180,\"dewPoint\":53.57,\"humidity\":0.64,\"pressure\":1010,\"windSpeed\":5.04,\"windGust\":20.99,\"windGustTime\":1580749080,\"windBearing\":228,\"cloudCover\":0.74,\"uvIndex\":5,\"uvIndexTime\":1580756460,\"visibility\":10,\"ozone\":256.4,\"temperatureMin\":57.1,\"temperatureMinTime\":1580722320,\"temperatureMax\":77.12,\"temperatureMaxTime\":1580760840,\"apparentTemperatureMin\":57.59,\"apparentTemperatureMinTime\":1580722320,\"apparentTemperatureMax\":76.62,\"apparentTemperatureMaxTime\":1580760840}]},\"flags\":{\"sources\":[\"cmc\",\"gfs\",\"hrrr\",\"icon\",\"isd\",\"madis\",\"nam\",\"sref\"],\"nearest-station\":2.75,\"units\":\"us\"},\"offset\":-6}\\n'"
      ]
     },
     "execution_count": 5,
     "metadata": {},
     "output_type": "execute_result"
    }
   ],
   "source": [
    "page.decode('utf-8')"
   ]
  },
  {
   "cell_type": "code",
   "execution_count": 6,
   "metadata": {
    "scrolled": true,
    "slideshow": {
     "slide_type": "subslide"
    }
   },
   "outputs": [
    {
     "name": "stdout",
     "output_type": "stream",
     "text": [
      "<class 'dict'>\n"
     ]
    }
   ],
   "source": [
    "jsonResponse = json.loads(page.decode('utf-8'))\n",
    "print(type(jsonResponse))"
   ]
  },
  {
   "cell_type": "code",
   "execution_count": 7,
   "metadata": {
    "slideshow": {
     "slide_type": "subslide"
    }
   },
   "outputs": [
    {
     "data": {
      "text/plain": [
       "{'latitude': 25.679673,\n",
       " 'longitude': -100.316839,\n",
       " 'timezone': 'America/Monterrey',\n",
       " 'currently': {'time': 1580774400,\n",
       "  'summary': 'Overcast',\n",
       "  'icon': 'cloudy',\n",
       "  'precipIntensity': 0.0011,\n",
       "  'precipProbability': 0.02,\n",
       "  'precipType': 'rain',\n",
       "  'temperature': 74.7,\n",
       "  'apparentTemperature': 74.7,\n",
       "  'dewPoint': 54.74,\n",
       "  'humidity': 0.5,\n",
       "  'pressure': 1006.7,\n",
       "  'windSpeed': 4.37,\n",
       "  'windGust': 11.26,\n",
       "  'windBearing': 120,\n",
       "  'cloudCover': 0.95,\n",
       "  'uvIndex': 0,\n",
       "  'visibility': 10,\n",
       "  'ozone': 253.5},\n",
       " 'hourly': {'summary': 'Mostly cloudy throughout the day.',\n",
       "  'icon': 'partly-cloudy-day',\n",
       "  'data': [{'time': 1580709600,\n",
       "    'summary': 'Partly Cloudy',\n",
       "    'icon': 'partly-cloudy-night',\n",
       "    'precipIntensity': 0.001,\n",
       "    'precipProbability': 0.02,\n",
       "    'precipType': 'rain',\n",
       "    'temperature': 59.49,\n",
       "    'apparentTemperature': 59.49,\n",
       "    'dewPoint': 51.26,\n",
       "    'humidity': 0.74,\n",
       "    'pressure': 1013,\n",
       "    'windSpeed': 3.55,\n",
       "    'windGust': 6.3,\n",
       "    'windBearing': 158,\n",
       "    'cloudCover': 0.52,\n",
       "    'uvIndex': 0,\n",
       "    'visibility': 10,\n",
       "    'ozone': 261.3},\n",
       "   {'time': 1580713200,\n",
       "    'summary': 'Partly Cloudy',\n",
       "    'icon': 'partly-cloudy-night',\n",
       "    'precipIntensity': 0,\n",
       "    'precipProbability': 0,\n",
       "    'temperature': 58.81,\n",
       "    'apparentTemperature': 58.81,\n",
       "    'dewPoint': 51.26,\n",
       "    'humidity': 0.76,\n",
       "    'pressure': 1012.7,\n",
       "    'windSpeed': 3.88,\n",
       "    'windGust': 6.83,\n",
       "    'windBearing': 196,\n",
       "    'cloudCover': 0.56,\n",
       "    'uvIndex': 0,\n",
       "    'visibility': 10,\n",
       "    'ozone': 261.2},\n",
       "   {'time': 1580716800,\n",
       "    'summary': 'Partly Cloudy',\n",
       "    'icon': 'partly-cloudy-night',\n",
       "    'precipIntensity': 0,\n",
       "    'precipProbability': 0,\n",
       "    'temperature': 58.07,\n",
       "    'apparentTemperature': 58.07,\n",
       "    'dewPoint': 51.09,\n",
       "    'humidity': 0.78,\n",
       "    'pressure': 1012.1,\n",
       "    'windSpeed': 3.52,\n",
       "    'windGust': 6.34,\n",
       "    'windBearing': 245,\n",
       "    'cloudCover': 0.57,\n",
       "    'uvIndex': 0,\n",
       "    'visibility': 10,\n",
       "    'ozone': 260.9},\n",
       "   {'time': 1580720400,\n",
       "    'summary': 'Mostly Cloudy',\n",
       "    'icon': 'partly-cloudy-night',\n",
       "    'precipIntensity': 0,\n",
       "    'precipProbability': 0,\n",
       "    'temperature': 57.65,\n",
       "    'apparentTemperature': 57.65,\n",
       "    'dewPoint': 51.18,\n",
       "    'humidity': 0.79,\n",
       "    'pressure': 1011.3,\n",
       "    'windSpeed': 3.41,\n",
       "    'windGust': 5.89,\n",
       "    'windBearing': 268,\n",
       "    'cloudCover': 0.62,\n",
       "    'uvIndex': 0,\n",
       "    'visibility': 10,\n",
       "    'ozone': 260.5},\n",
       "   {'time': 1580724000,\n",
       "    'summary': 'Mostly Cloudy',\n",
       "    'icon': 'partly-cloudy-night',\n",
       "    'precipIntensity': 0.0004,\n",
       "    'precipProbability': 0.02,\n",
       "    'precipType': 'rain',\n",
       "    'temperature': 57.65,\n",
       "    'apparentTemperature': 57.65,\n",
       "    'dewPoint': 51.17,\n",
       "    'humidity': 0.79,\n",
       "    'pressure': 1010.2,\n",
       "    'windSpeed': 3.56,\n",
       "    'windGust': 5.8,\n",
       "    'windBearing': 258,\n",
       "    'cloudCover': 0.71,\n",
       "    'uvIndex': 0,\n",
       "    'visibility': 10,\n",
       "    'ozone': 259.9},\n",
       "   {'time': 1580727600,\n",
       "    'summary': 'Mostly Cloudy',\n",
       "    'icon': 'partly-cloudy-night',\n",
       "    'precipIntensity': 0.0037,\n",
       "    'precipProbability': 0.04,\n",
       "    'precipType': 'rain',\n",
       "    'temperature': 58.14,\n",
       "    'apparentTemperature': 58.14,\n",
       "    'dewPoint': 51.46,\n",
       "    'humidity': 0.78,\n",
       "    'pressure': 1009.8,\n",
       "    'windSpeed': 3.44,\n",
       "    'windGust': 6.53,\n",
       "    'windBearing': 263,\n",
       "    'cloudCover': 0.8,\n",
       "    'uvIndex': 0,\n",
       "    'visibility': 10,\n",
       "    'ozone': 259.1},\n",
       "   {'time': 1580731200,\n",
       "    'summary': 'Mostly Cloudy',\n",
       "    'icon': 'partly-cloudy-night',\n",
       "    'precipIntensity': 0.0042,\n",
       "    'precipProbability': 0.05,\n",
       "    'precipType': 'rain',\n",
       "    'temperature': 59.93,\n",
       "    'apparentTemperature': 59.93,\n",
       "    'dewPoint': 51.78,\n",
       "    'humidity': 0.74,\n",
       "    'pressure': 1010.1,\n",
       "    'windSpeed': 3.33,\n",
       "    'windGust': 5.77,\n",
       "    'windBearing': 256,\n",
       "    'cloudCover': 0.83,\n",
       "    'uvIndex': 0,\n",
       "    'visibility': 10,\n",
       "    'ozone': 257.3},\n",
       "   {'time': 1580734800,\n",
       "    'summary': 'Mostly Cloudy',\n",
       "    'icon': 'partly-cloudy-night',\n",
       "    'precipIntensity': 0.0035,\n",
       "    'precipProbability': 0.04,\n",
       "    'precipType': 'rain',\n",
       "    'temperature': 60.57,\n",
       "    'apparentTemperature': 60.57,\n",
       "    'dewPoint': 52.25,\n",
       "    'humidity': 0.74,\n",
       "    'pressure': 1010.4,\n",
       "    'windSpeed': 3.85,\n",
       "    'windGust': 6.04,\n",
       "    'windBearing': 235,\n",
       "    'cloudCover': 0.77,\n",
       "    'uvIndex': 0,\n",
       "    'visibility': 10,\n",
       "    'ozone': 256.4},\n",
       "   {'time': 1580738400,\n",
       "    'summary': 'Mostly Cloudy',\n",
       "    'icon': 'partly-cloudy-day',\n",
       "    'precipIntensity': 0.0005,\n",
       "    'precipProbability': 0.03,\n",
       "    'precipType': 'rain',\n",
       "    'temperature': 61.1,\n",
       "    'apparentTemperature': 61.1,\n",
       "    'dewPoint': 52.25,\n",
       "    'humidity': 0.73,\n",
       "    'pressure': 1011.4,\n",
       "    'windSpeed': 3.63,\n",
       "    'windGust': 7.14,\n",
       "    'windBearing': 291,\n",
       "    'cloudCover': 0.81,\n",
       "    'uvIndex': 0,\n",
       "    'visibility': 10,\n",
       "    'ozone': 255.6},\n",
       "   {'time': 1580742000,\n",
       "    'summary': 'Mostly Cloudy',\n",
       "    'icon': 'partly-cloudy-day',\n",
       "    'precipIntensity': 0.001,\n",
       "    'precipProbability': 0.04,\n",
       "    'precipType': 'rain',\n",
       "    'temperature': 64.04,\n",
       "    'apparentTemperature': 64.04,\n",
       "    'dewPoint': 53.59,\n",
       "    'humidity': 0.69,\n",
       "    'pressure': 1011.7,\n",
       "    'windSpeed': 4.55,\n",
       "    'windGust': 8.78,\n",
       "    'windBearing': 277,\n",
       "    'cloudCover': 0.79,\n",
       "    'uvIndex': 1,\n",
       "    'visibility': 10,\n",
       "    'ozone': 255.2},\n",
       "   {'time': 1580745600,\n",
       "    'summary': 'Mostly Cloudy',\n",
       "    'icon': 'partly-cloudy-day',\n",
       "    'precipIntensity': 0,\n",
       "    'precipProbability': 0,\n",
       "    'temperature': 67.76,\n",
       "    'apparentTemperature': 67.76,\n",
       "    'dewPoint': 55.39,\n",
       "    'humidity': 0.65,\n",
       "    'pressure': 1012,\n",
       "    'windSpeed': 6.6,\n",
       "    'windGust': 16.32,\n",
       "    'windBearing': 276,\n",
       "    'cloudCover': 0.76,\n",
       "    'uvIndex': 2,\n",
       "    'visibility': 10,\n",
       "    'ozone': 255.5},\n",
       "   {'time': 1580749200,\n",
       "    'summary': 'Mostly Cloudy',\n",
       "    'icon': 'partly-cloudy-day',\n",
       "    'precipIntensity': 0.0014,\n",
       "    'precipProbability': 0.05,\n",
       "    'precipType': 'rain',\n",
       "    'temperature': 68.79,\n",
       "    'apparentTemperature': 68.79,\n",
       "    'dewPoint': 56.63,\n",
       "    'humidity': 0.65,\n",
       "    'pressure': 1011.6,\n",
       "    'windSpeed': 8.71,\n",
       "    'windGust': 20.98,\n",
       "    'windBearing': 292,\n",
       "    'cloudCover': 0.72,\n",
       "    'uvIndex': 4,\n",
       "    'visibility': 10,\n",
       "    'ozone': 256.2},\n",
       "   {'time': 1580752800,\n",
       "    'summary': 'Mostly Cloudy',\n",
       "    'icon': 'partly-cloudy-day',\n",
       "    'precipIntensity': 0.003,\n",
       "    'precipProbability': 0.05,\n",
       "    'precipType': 'rain',\n",
       "    'temperature': 72.99,\n",
       "    'apparentTemperature': 72.99,\n",
       "    'dewPoint': 54.85,\n",
       "    'humidity': 0.53,\n",
       "    'pressure': 1011.4,\n",
       "    'windSpeed': 7.42,\n",
       "    'windGust': 15.38,\n",
       "    'windBearing': 199,\n",
       "    'cloudCover': 0.85,\n",
       "    'uvIndex': 5,\n",
       "    'visibility': 10,\n",
       "    'ozone': 249},\n",
       "   {'time': 1580756400,\n",
       "    'summary': 'Mostly Cloudy',\n",
       "    'icon': 'partly-cloudy-day',\n",
       "    'precipIntensity': 0.0037,\n",
       "    'precipProbability': 0.06,\n",
       "    'precipType': 'rain',\n",
       "    'temperature': 75.13,\n",
       "    'apparentTemperature': 75.13,\n",
       "    'dewPoint': 54.35,\n",
       "    'humidity': 0.48,\n",
       "    'pressure': 1010.2,\n",
       "    'windSpeed': 7.3,\n",
       "    'windGust': 16.19,\n",
       "    'windBearing': 199,\n",
       "    'cloudCover': 0.84,\n",
       "    'uvIndex': 5,\n",
       "    'visibility': 10,\n",
       "    'ozone': 249.1},\n",
       "   {'time': 1580760000,\n",
       "    'summary': 'Mostly Cloudy',\n",
       "    'icon': 'partly-cloudy-day',\n",
       "    'precipIntensity': 0.0018,\n",
       "    'precipProbability': 0.04,\n",
       "    'precipType': 'rain',\n",
       "    'temperature': 76.56,\n",
       "    'apparentTemperature': 76.56,\n",
       "    'dewPoint': 54.13,\n",
       "    'humidity': 0.46,\n",
       "    'pressure': 1008.8,\n",
       "    'windSpeed': 7.85,\n",
       "    'windGust': 14.79,\n",
       "    'windBearing': 132,\n",
       "    'cloudCover': 0.8,\n",
       "    'uvIndex': 5,\n",
       "    'visibility': 10,\n",
       "    'ozone': 250},\n",
       "   {'time': 1580763600,\n",
       "    'summary': 'Mostly Cloudy',\n",
       "    'icon': 'partly-cloudy-day',\n",
       "    'precipIntensity': 0.002,\n",
       "    'precipProbability': 0.04,\n",
       "    'precipType': 'rain',\n",
       "    'temperature': 76.24,\n",
       "    'apparentTemperature': 76.24,\n",
       "    'dewPoint': 54.51,\n",
       "    'humidity': 0.47,\n",
       "    'pressure': 1007.9,\n",
       "    'windSpeed': 6.64,\n",
       "    'windGust': 16.37,\n",
       "    'windBearing': 142,\n",
       "    'cloudCover': 0.78,\n",
       "    'uvIndex': 4,\n",
       "    'visibility': 10,\n",
       "    'ozone': 250.9},\n",
       "   {'time': 1580767200,\n",
       "    'summary': 'Mostly Cloudy',\n",
       "    'icon': 'partly-cloudy-day',\n",
       "    'precipIntensity': 0.0014,\n",
       "    'precipProbability': 0.03,\n",
       "    'precipType': 'rain',\n",
       "    'temperature': 75.15,\n",
       "    'apparentTemperature': 75.15,\n",
       "    'dewPoint': 55.22,\n",
       "    'humidity': 0.5,\n",
       "    'pressure': 1007.2,\n",
       "    'windSpeed': 5.31,\n",
       "    'windGust': 14.74,\n",
       "    'windBearing': 158,\n",
       "    'cloudCover': 0.77,\n",
       "    'uvIndex': 2,\n",
       "    'visibility': 10,\n",
       "    'ozone': 251.7},\n",
       "   {'time': 1580770800,\n",
       "    'summary': 'Overcast',\n",
       "    'icon': 'cloudy',\n",
       "    'precipIntensity': 0.0006,\n",
       "    'precipProbability': 0.02,\n",
       "    'precipType': 'rain',\n",
       "    'temperature': 74.23,\n",
       "    'apparentTemperature': 74.23,\n",
       "    'dewPoint': 55.7,\n",
       "    'humidity': 0.52,\n",
       "    'pressure': 1006.4,\n",
       "    'windSpeed': 5,\n",
       "    'windGust': 12.76,\n",
       "    'windBearing': 125,\n",
       "    'cloudCover': 0.89,\n",
       "    'uvIndex': 1,\n",
       "    'visibility': 10,\n",
       "    'ozone': 252.5},\n",
       "   {'time': 1580774400,\n",
       "    'summary': 'Overcast',\n",
       "    'icon': 'cloudy',\n",
       "    'precipIntensity': 0.0011,\n",
       "    'precipProbability': 0.02,\n",
       "    'precipType': 'rain',\n",
       "    'temperature': 74.7,\n",
       "    'apparentTemperature': 74.7,\n",
       "    'dewPoint': 54.74,\n",
       "    'humidity': 0.5,\n",
       "    'pressure': 1006.7,\n",
       "    'windSpeed': 4.37,\n",
       "    'windGust': 11.26,\n",
       "    'windBearing': 120,\n",
       "    'cloudCover': 0.95,\n",
       "    'uvIndex': 0,\n",
       "    'visibility': 10,\n",
       "    'ozone': 253.5},\n",
       "   {'time': 1580778000,\n",
       "    'summary': 'Mostly Cloudy',\n",
       "    'icon': 'partly-cloudy-night',\n",
       "    'precipIntensity': 0.0016,\n",
       "    'precipProbability': 0.02,\n",
       "    'precipType': 'rain',\n",
       "    'temperature': 70.93,\n",
       "    'apparentTemperature': 70.93,\n",
       "    'dewPoint': 56.69,\n",
       "    'humidity': 0.61,\n",
       "    'pressure': 1007.9,\n",
       "    'windSpeed': 4.54,\n",
       "    'windGust': 9.2,\n",
       "    'windBearing': 101,\n",
       "    'cloudCover': 0.77,\n",
       "    'uvIndex': 0,\n",
       "    'visibility': 10,\n",
       "    'ozone': 258.1},\n",
       "   {'time': 1580781600,\n",
       "    'summary': 'Mostly Cloudy',\n",
       "    'icon': 'partly-cloudy-night',\n",
       "    'precipIntensity': 0,\n",
       "    'precipProbability': 0,\n",
       "    'temperature': 68.66,\n",
       "    'apparentTemperature': 68.66,\n",
       "    'dewPoint': 55.45,\n",
       "    'humidity': 0.63,\n",
       "    'pressure': 1009.5,\n",
       "    'windSpeed': 5.21,\n",
       "    'windGust': 9.52,\n",
       "    'windBearing': 278,\n",
       "    'cloudCover': 0.62,\n",
       "    'uvIndex': 0,\n",
       "    'visibility': 10,\n",
       "    'ozone': 259.2},\n",
       "   {'time': 1580785200,\n",
       "    'summary': 'Mostly Cloudy',\n",
       "    'icon': 'partly-cloudy-night',\n",
       "    'precipIntensity': 0,\n",
       "    'precipProbability': 0,\n",
       "    'temperature': 66.37,\n",
       "    'apparentTemperature': 66.37,\n",
       "    'dewPoint': 53.99,\n",
       "    'humidity': 0.64,\n",
       "    'pressure': 1010,\n",
       "    'windSpeed': 4.7,\n",
       "    'windGust': 10.14,\n",
       "    'windBearing': 241,\n",
       "    'cloudCover': 0.62,\n",
       "    'uvIndex': 0,\n",
       "    'visibility': 10,\n",
       "    'ozone': 260.4},\n",
       "   {'time': 1580788800,\n",
       "    'summary': 'Mostly Cloudy',\n",
       "    'icon': 'partly-cloudy-night',\n",
       "    'precipIntensity': 0,\n",
       "    'precipProbability': 0,\n",
       "    'temperature': 65.08,\n",
       "    'apparentTemperature': 65.08,\n",
       "    'dewPoint': 52.46,\n",
       "    'humidity': 0.64,\n",
       "    'pressure': 1009.3,\n",
       "    'windSpeed': 4.75,\n",
       "    'windGust': 9.22,\n",
       "    'windBearing': 255,\n",
       "    'cloudCover': 0.6,\n",
       "    'uvIndex': 0,\n",
       "    'visibility': 10,\n",
       "    'ozone': 262.1},\n",
       "   {'time': 1580792400,\n",
       "    'summary': 'Mostly Cloudy',\n",
       "    'icon': 'partly-cloudy-night',\n",
       "    'precipIntensity': 0,\n",
       "    'precipProbability': 0,\n",
       "    'temperature': 64.33,\n",
       "    'apparentTemperature': 64.33,\n",
       "    'dewPoint': 52.45,\n",
       "    'humidity': 0.65,\n",
       "    'pressure': 1008.6,\n",
       "    'windSpeed': 5.21,\n",
       "    'windGust': 9.89,\n",
       "    'windBearing': 248,\n",
       "    'cloudCover': 0.8,\n",
       "    'uvIndex': 0,\n",
       "    'visibility': 10,\n",
       "    'ozone': 264.2}]},\n",
       " 'daily': {'data': [{'time': 1580709600,\n",
       "    'summary': 'Mostly cloudy throughout the day.',\n",
       "    'icon': 'rain',\n",
       "    'sunriseTime': 1580736300,\n",
       "    'sunsetTime': 1580776020,\n",
       "    'moonPhase': 0.32,\n",
       "    'precipIntensity': 0.0014,\n",
       "    'precipIntensityMax': 0.0042,\n",
       "    'precipIntensityMaxTime': 1580730300,\n",
       "    'precipProbability': 0.29,\n",
       "    'precipType': 'rain',\n",
       "    'temperatureHigh': 77.12,\n",
       "    'temperatureHighTime': 1580760840,\n",
       "    'temperatureLow': 58.38,\n",
       "    'temperatureLowTime': 1580817180,\n",
       "    'apparentTemperatureHigh': 76.62,\n",
       "    'apparentTemperatureHighTime': 1580760840,\n",
       "    'apparentTemperatureLow': 58.87,\n",
       "    'apparentTemperatureLowTime': 1580817180,\n",
       "    'dewPoint': 53.57,\n",
       "    'humidity': 0.64,\n",
       "    'pressure': 1010,\n",
       "    'windSpeed': 5.04,\n",
       "    'windGust': 20.99,\n",
       "    'windGustTime': 1580749080,\n",
       "    'windBearing': 228,\n",
       "    'cloudCover': 0.74,\n",
       "    'uvIndex': 5,\n",
       "    'uvIndexTime': 1580756460,\n",
       "    'visibility': 10,\n",
       "    'ozone': 256.4,\n",
       "    'temperatureMin': 57.1,\n",
       "    'temperatureMinTime': 1580722320,\n",
       "    'temperatureMax': 77.12,\n",
       "    'temperatureMaxTime': 1580760840,\n",
       "    'apparentTemperatureMin': 57.59,\n",
       "    'apparentTemperatureMinTime': 1580722320,\n",
       "    'apparentTemperatureMax': 76.62,\n",
       "    'apparentTemperatureMaxTime': 1580760840}]},\n",
       " 'flags': {'sources': ['cmc',\n",
       "   'gfs',\n",
       "   'hrrr',\n",
       "   'icon',\n",
       "   'isd',\n",
       "   'madis',\n",
       "   'nam',\n",
       "   'sref'],\n",
       "  'nearest-station': 2.75,\n",
       "  'units': 'us'},\n",
       " 'offset': -6}"
      ]
     },
     "execution_count": 7,
     "metadata": {},
     "output_type": "execute_result"
    }
   ],
   "source": [
    "jsonResponse"
   ]
  },
  {
   "cell_type": "code",
   "execution_count": 8,
   "metadata": {
    "slideshow": {
     "slide_type": "subslide"
    }
   },
   "outputs": [],
   "source": [
    "temp = pd.DataFrame.from_dict(jsonResponse[\"daily\"][\"data\"])\n",
    "temp[\"date\"] = fecha\n",
    "temp[\"time\"] = temp.time.apply(lambda x: time.strftime(\"%D %H:%M\", time.localtime(int(x))))"
   ]
  },
  {
   "cell_type": "code",
   "execution_count": 9,
   "metadata": {
    "slideshow": {
     "slide_type": "fragment"
    }
   },
   "outputs": [
    {
     "data": {
      "text/html": [
       "<div>\n",
       "<style scoped>\n",
       "    .dataframe tbody tr th:only-of-type {\n",
       "        vertical-align: middle;\n",
       "    }\n",
       "\n",
       "    .dataframe tbody tr th {\n",
       "        vertical-align: top;\n",
       "    }\n",
       "\n",
       "    .dataframe thead th {\n",
       "        text-align: right;\n",
       "    }\n",
       "</style>\n",
       "<table border=\"1\" class=\"dataframe\">\n",
       "  <thead>\n",
       "    <tr style=\"text-align: right;\">\n",
       "      <th></th>\n",
       "      <th>time</th>\n",
       "      <th>summary</th>\n",
       "      <th>icon</th>\n",
       "      <th>sunriseTime</th>\n",
       "      <th>sunsetTime</th>\n",
       "      <th>moonPhase</th>\n",
       "      <th>precipIntensity</th>\n",
       "      <th>precipIntensityMax</th>\n",
       "      <th>precipIntensityMaxTime</th>\n",
       "      <th>precipProbability</th>\n",
       "      <th>...</th>\n",
       "      <th>ozone</th>\n",
       "      <th>temperatureMin</th>\n",
       "      <th>temperatureMinTime</th>\n",
       "      <th>temperatureMax</th>\n",
       "      <th>temperatureMaxTime</th>\n",
       "      <th>apparentTemperatureMin</th>\n",
       "      <th>apparentTemperatureMinTime</th>\n",
       "      <th>apparentTemperatureMax</th>\n",
       "      <th>apparentTemperatureMaxTime</th>\n",
       "      <th>date</th>\n",
       "    </tr>\n",
       "  </thead>\n",
       "  <tbody>\n",
       "    <tr>\n",
       "      <th>0</th>\n",
       "      <td>02/03/20 00:00</td>\n",
       "      <td>Mostly cloudy throughout the day.</td>\n",
       "      <td>rain</td>\n",
       "      <td>1580736300</td>\n",
       "      <td>1580776020</td>\n",
       "      <td>0.32</td>\n",
       "      <td>0.0014</td>\n",
       "      <td>0.0042</td>\n",
       "      <td>1580730300</td>\n",
       "      <td>0.29</td>\n",
       "      <td>...</td>\n",
       "      <td>256.4</td>\n",
       "      <td>57.1</td>\n",
       "      <td>1580722320</td>\n",
       "      <td>77.12</td>\n",
       "      <td>1580760840</td>\n",
       "      <td>57.59</td>\n",
       "      <td>1580722320</td>\n",
       "      <td>76.62</td>\n",
       "      <td>1580760840</td>\n",
       "      <td>1580774400</td>\n",
       "    </tr>\n",
       "  </tbody>\n",
       "</table>\n",
       "<p>1 rows × 40 columns</p>\n",
       "</div>"
      ],
      "text/plain": [
       "             time                            summary  icon  sunriseTime  \\\n",
       "0  02/03/20 00:00  Mostly cloudy throughout the day.  rain   1580736300   \n",
       "\n",
       "   sunsetTime  moonPhase  precipIntensity  precipIntensityMax  \\\n",
       "0  1580776020       0.32           0.0014              0.0042   \n",
       "\n",
       "   precipIntensityMaxTime  precipProbability  ...  ozone  temperatureMin  \\\n",
       "0              1580730300               0.29  ...  256.4            57.1   \n",
       "\n",
       "   temperatureMinTime  temperatureMax  temperatureMaxTime  \\\n",
       "0          1580722320           77.12          1580760840   \n",
       "\n",
       "   apparentTemperatureMin  apparentTemperatureMinTime  apparentTemperatureMax  \\\n",
       "0                   57.59                  1580722320                   76.62   \n",
       "\n",
       "   apparentTemperatureMaxTime        date  \n",
       "0                  1580760840  1580774400  \n",
       "\n",
       "[1 rows x 40 columns]"
      ]
     },
     "execution_count": 9,
     "metadata": {},
     "output_type": "execute_result"
    }
   ],
   "source": [
    "temp"
   ]
  },
  {
   "cell_type": "markdown",
   "metadata": {
    "slideshow": {
     "slide_type": "subslide"
    }
   },
   "source": [
    "## Función para hacer la descarga mas general"
   ]
  },
  {
   "cell_type": "code",
   "execution_count": 10,
   "metadata": {
    "slideshow": {
     "slide_type": "fragment"
    }
   },
   "outputs": [],
   "source": [
    "    #----------------------------------------------------------\n",
    "    ## Función para descargar el clima historico de un conjunto\n",
    "    ## de lugares con coordenadas geograficas.\n",
    "    #\n",
    "    #\n",
    "    # Parametros\n",
    "    # - coor:       es un datafram con columnas: state, lat, lon.\n",
    "    # - begin_date: es la fecha de inicio para descargar.\n",
    "    # - end_date:   es la fecha final para descargar.\n",
    "    # - key:        clave de usuario"
   ]
  },
  {
   "cell_type": "code",
   "execution_count": 11,
   "metadata": {
    "slideshow": {
     "slide_type": "subslide"
    }
   },
   "outputs": [],
   "source": [
    "def api_dark_ski(coor, begin_date, end_date, key):\n",
    "    # creamos el vector de las fechas.\n",
    "    fechas = pd.date_range(start=pd.to_datetime(begin_date), end=pd.to_datetime(end_date), freq=\"D\")\n",
    "    fechas_unix= (fechas-pd.to_datetime(\"1970-01-01\")).total_seconds().astype(\"int\") # formato especifico de la API.\n",
    "    \n",
    "    # inicializamos los dataframe\n",
    "    clima = pd.DataFrame() \n",
    "    \n",
    "    # iteramos por cada estado\n",
    "    for num, i in enumerate(coor[\"state\"]):\n",
    "        print(i) # imprimimos el estado descargando.\n",
    "        for date in fechas_unix:   \n",
    "            print(date)\n",
    "            x = coor[coor.state==i][\"lat\"][num]\n",
    "            y = coor[coor.state==i][\"log\"][num]\n",
    "            weather = \"https://api.darksky.net/forecast/{}/{},{},{}?exclude=[currently,minutely,hourly,alerts,flags]\".format(key, x, y, date)\n",
    "            page = urllib.request.urlopen(weather).read()\n",
    "            jsonResponse = json.loads(page.decode('utf-8'))\n",
    "            if \"daily\" in jsonResponse.keys():\n",
    "                temp = pd.DataFrame.from_dict(jsonResponse[\"daily\"][\"data\"])\n",
    "                temp[\"state\"] = i\n",
    "                temp[\"time\"] = temp.time.apply(lambda x: time.strftime(\"%D %H:%M\", time.localtime(int(x))))\n",
    "                clima = pd.concat([clima,temp])\n",
    "\n",
    "    print(\"------------------------------------------------------------\")\n",
    "    print(\"Descarga finalizada\")\n",
    "    return clima"
   ]
  },
  {
   "cell_type": "markdown",
   "metadata": {
    "slideshow": {
     "slide_type": "subslide"
    }
   },
   "source": [
    "## Ejemplo:"
   ]
  },
  {
   "cell_type": "markdown",
   "metadata": {
    "slideshow": {
     "slide_type": "fragment"
    }
   },
   "source": [
    "### Parametros para la función"
   ]
  },
  {
   "cell_type": "code",
   "execution_count": 12,
   "metadata": {
    "slideshow": {
     "slide_type": "fragment"
    }
   },
   "outputs": [
    {
     "data": {
      "text/html": [
       "<div>\n",
       "<style scoped>\n",
       "    .dataframe tbody tr th:only-of-type {\n",
       "        vertical-align: middle;\n",
       "    }\n",
       "\n",
       "    .dataframe tbody tr th {\n",
       "        vertical-align: top;\n",
       "    }\n",
       "\n",
       "    .dataframe thead th {\n",
       "        text-align: right;\n",
       "    }\n",
       "</style>\n",
       "<table border=\"1\" class=\"dataframe\">\n",
       "  <thead>\n",
       "    <tr style=\"text-align: right;\">\n",
       "      <th></th>\n",
       "      <th>state</th>\n",
       "      <th>lat</th>\n",
       "      <th>log</th>\n",
       "    </tr>\n",
       "  </thead>\n",
       "  <tbody>\n",
       "    <tr>\n",
       "      <th>0</th>\n",
       "      <td>Culiacán</td>\n",
       "      <td>24.791140</td>\n",
       "      <td>-107.393059</td>\n",
       "    </tr>\n",
       "    <tr>\n",
       "      <th>1</th>\n",
       "      <td>Mexicali</td>\n",
       "      <td>32.636004</td>\n",
       "      <td>-115.472609</td>\n",
       "    </tr>\n",
       "    <tr>\n",
       "      <th>2</th>\n",
       "      <td>Zapopan</td>\n",
       "      <td>20.675532</td>\n",
       "      <td>-103.350425</td>\n",
       "    </tr>\n",
       "    <tr>\n",
       "      <th>3</th>\n",
       "      <td>Cd. Juárez</td>\n",
       "      <td>25.491446</td>\n",
       "      <td>-103.593103</td>\n",
       "    </tr>\n",
       "    <tr>\n",
       "      <th>4</th>\n",
       "      <td>Guadiana</td>\n",
       "      <td>21.787660</td>\n",
       "      <td>-101.004431</td>\n",
       "    </tr>\n",
       "    <tr>\n",
       "      <th>5</th>\n",
       "      <td>Monterrey</td>\n",
       "      <td>25.679673</td>\n",
       "      <td>-100.316839</td>\n",
       "    </tr>\n",
       "  </tbody>\n",
       "</table>\n",
       "</div>"
      ],
      "text/plain": [
       "        state        lat         log\n",
       "0    Culiacán  24.791140 -107.393059\n",
       "1    Mexicali  32.636004 -115.472609\n",
       "2     Zapopan  20.675532 -103.350425\n",
       "3  Cd. Juárez  25.491446 -103.593103\n",
       "4    Guadiana  21.787660 -101.004431\n",
       "5   Monterrey  25.679673 -100.316839"
      ]
     },
     "execution_count": 12,
     "metadata": {},
     "output_type": "execute_result"
    }
   ],
   "source": [
    "# leemos los datos de las coordenados.\n",
    "coor_lugares = pd.read_csv(\"../data/coordenadas.csv\")\n",
    "coor_lugares.head(6)"
   ]
  },
  {
   "cell_type": "code",
   "execution_count": 13,
   "metadata": {
    "slideshow": {
     "slide_type": "fragment"
    }
   },
   "outputs": [],
   "source": [
    "coor_lugares = coor_lugares.head(2) # para no hacer muchas descargas cortamos los datos\n",
    "\n",
    "# definimos las fechas de descarga\n",
    "begin_date = \"2020-04-28\"\n",
    "end_date = \"2020-04-30\"\n",
    "\n",
    "# llave\n",
    "key = \"93a3ab8136ea441147c4702bc5bdabc3\""
   ]
  },
  {
   "cell_type": "code",
   "execution_count": 14,
   "metadata": {
    "scrolled": true,
    "slideshow": {
     "slide_type": "subslide"
    }
   },
   "outputs": [
    {
     "name": "stdout",
     "output_type": "stream",
     "text": [
      "Culiacán\n",
      "1588032000\n",
      "1588118400\n",
      "1588204800\n",
      "Mexicali\n",
      "1588032000\n",
      "1588118400\n",
      "1588204800\n",
      "------------------------------------------------------------\n",
      "Descarga finalizada\n"
     ]
    }
   ],
   "source": [
    "clima = api_dark_ski(coor_lugares, begin_date, end_date, key)"
   ]
  },
  {
   "cell_type": "code",
   "execution_count": 15,
   "metadata": {
    "scrolled": true,
    "slideshow": {
     "slide_type": "fragment"
    }
   },
   "outputs": [
    {
     "data": {
      "text/html": [
       "<div>\n",
       "<style scoped>\n",
       "    .dataframe tbody tr th:only-of-type {\n",
       "        vertical-align: middle;\n",
       "    }\n",
       "\n",
       "    .dataframe tbody tr th {\n",
       "        vertical-align: top;\n",
       "    }\n",
       "\n",
       "    .dataframe thead th {\n",
       "        text-align: right;\n",
       "    }\n",
       "</style>\n",
       "<table border=\"1\" class=\"dataframe\">\n",
       "  <thead>\n",
       "    <tr style=\"text-align: right;\">\n",
       "      <th></th>\n",
       "      <th>time</th>\n",
       "      <th>summary</th>\n",
       "      <th>icon</th>\n",
       "      <th>sunriseTime</th>\n",
       "      <th>sunsetTime</th>\n",
       "      <th>moonPhase</th>\n",
       "      <th>precipIntensity</th>\n",
       "      <th>precipIntensityMax</th>\n",
       "      <th>precipIntensityMaxTime</th>\n",
       "      <th>precipProbability</th>\n",
       "      <th>...</th>\n",
       "      <th>ozone</th>\n",
       "      <th>temperatureMin</th>\n",
       "      <th>temperatureMinTime</th>\n",
       "      <th>temperatureMax</th>\n",
       "      <th>temperatureMaxTime</th>\n",
       "      <th>apparentTemperatureMin</th>\n",
       "      <th>apparentTemperatureMinTime</th>\n",
       "      <th>apparentTemperatureMax</th>\n",
       "      <th>apparentTemperatureMaxTime</th>\n",
       "      <th>state</th>\n",
       "    </tr>\n",
       "  </thead>\n",
       "  <tbody>\n",
       "    <tr>\n",
       "      <th>0</th>\n",
       "      <td>04/27/20 01:00</td>\n",
       "      <td>Clear throughout the day.</td>\n",
       "      <td>clear-day</td>\n",
       "      <td>1587991080</td>\n",
       "      <td>1588037940</td>\n",
       "      <td>0.16</td>\n",
       "      <td>0.0005</td>\n",
       "      <td>0.0022</td>\n",
       "      <td>1587970740</td>\n",
       "      <td>0.01</td>\n",
       "      <td>...</td>\n",
       "      <td>289.7</td>\n",
       "      <td>63.58</td>\n",
       "      <td>1587981720</td>\n",
       "      <td>99.45</td>\n",
       "      <td>1588020060</td>\n",
       "      <td>64.07</td>\n",
       "      <td>1587981720</td>\n",
       "      <td>98.95</td>\n",
       "      <td>1588020060</td>\n",
       "      <td>Culiacán</td>\n",
       "    </tr>\n",
       "    <tr>\n",
       "      <th>0</th>\n",
       "      <td>04/28/20 01:00</td>\n",
       "      <td>Clear throughout the day.</td>\n",
       "      <td>clear-day</td>\n",
       "      <td>1588077420</td>\n",
       "      <td>1588124340</td>\n",
       "      <td>0.19</td>\n",
       "      <td>0.0009</td>\n",
       "      <td>0.0023</td>\n",
       "      <td>1588101300</td>\n",
       "      <td>0.01</td>\n",
       "      <td>...</td>\n",
       "      <td>293.1</td>\n",
       "      <td>62.64</td>\n",
       "      <td>1588068060</td>\n",
       "      <td>97.20</td>\n",
       "      <td>1588103580</td>\n",
       "      <td>63.13</td>\n",
       "      <td>1588068060</td>\n",
       "      <td>96.70</td>\n",
       "      <td>1588103580</td>\n",
       "      <td>Culiacán</td>\n",
       "    </tr>\n",
       "    <tr>\n",
       "      <th>0</th>\n",
       "      <td>04/29/20 01:00</td>\n",
       "      <td>Clear throughout the day.</td>\n",
       "      <td>clear-day</td>\n",
       "      <td>1588163760</td>\n",
       "      <td>1588210800</td>\n",
       "      <td>0.22</td>\n",
       "      <td>0.0009</td>\n",
       "      <td>0.0023</td>\n",
       "      <td>1588150980</td>\n",
       "      <td>0.04</td>\n",
       "      <td>...</td>\n",
       "      <td>323.3</td>\n",
       "      <td>64.16</td>\n",
       "      <td>1588154580</td>\n",
       "      <td>97.30</td>\n",
       "      <td>1588190760</td>\n",
       "      <td>64.65</td>\n",
       "      <td>1588154580</td>\n",
       "      <td>96.80</td>\n",
       "      <td>1588190760</td>\n",
       "      <td>Culiacán</td>\n",
       "    </tr>\n",
       "  </tbody>\n",
       "</table>\n",
       "<p>3 rows × 40 columns</p>\n",
       "</div>"
      ],
      "text/plain": [
       "             time                    summary       icon  sunriseTime  \\\n",
       "0  04/27/20 01:00  Clear throughout the day.  clear-day   1587991080   \n",
       "0  04/28/20 01:00  Clear throughout the day.  clear-day   1588077420   \n",
       "0  04/29/20 01:00  Clear throughout the day.  clear-day   1588163760   \n",
       "\n",
       "   sunsetTime  moonPhase  precipIntensity  precipIntensityMax  \\\n",
       "0  1588037940       0.16           0.0005              0.0022   \n",
       "0  1588124340       0.19           0.0009              0.0023   \n",
       "0  1588210800       0.22           0.0009              0.0023   \n",
       "\n",
       "   precipIntensityMaxTime  precipProbability  ...  ozone  temperatureMin  \\\n",
       "0              1587970740               0.01  ...  289.7           63.58   \n",
       "0              1588101300               0.01  ...  293.1           62.64   \n",
       "0              1588150980               0.04  ...  323.3           64.16   \n",
       "\n",
       "   temperatureMinTime  temperatureMax  temperatureMaxTime  \\\n",
       "0          1587981720           99.45          1588020060   \n",
       "0          1588068060           97.20          1588103580   \n",
       "0          1588154580           97.30          1588190760   \n",
       "\n",
       "   apparentTemperatureMin  apparentTemperatureMinTime  apparentTemperatureMax  \\\n",
       "0                   64.07                  1587981720                   98.95   \n",
       "0                   63.13                  1588068060                   96.70   \n",
       "0                   64.65                  1588154580                   96.80   \n",
       "\n",
       "   apparentTemperatureMaxTime     state  \n",
       "0                  1588020060  Culiacán  \n",
       "0                  1588103580  Culiacán  \n",
       "0                  1588190760  Culiacán  \n",
       "\n",
       "[3 rows x 40 columns]"
      ]
     },
     "execution_count": 15,
     "metadata": {},
     "output_type": "execute_result"
    }
   ],
   "source": [
    "clima.head(3)"
   ]
  },
  {
   "cell_type": "code",
   "execution_count": 16,
   "metadata": {
    "slideshow": {
     "slide_type": "fragment"
    }
   },
   "outputs": [],
   "source": [
    "clima.to_csv(\"../data/clima_dark_sky.csv\") # guardamos los datos"
   ]
  },
  {
   "cell_type": "markdown",
   "metadata": {
    "slideshow": {
     "slide_type": "subslide"
    }
   },
   "source": [
    "### Usando Wrapper Library de Angel Hernandez III\n",
    "\n",
    "https://github.com/bitpixdigital/forecastiopy3"
   ]
  },
  {
   "cell_type": "code",
   "execution_count": 17,
   "metadata": {
    "slideshow": {
     "slide_type": "fragment"
    }
   },
   "outputs": [],
   "source": [
    "#!pip install forecastiopy"
   ]
  },
  {
   "cell_type": "code",
   "execution_count": 18,
   "metadata": {
    "slideshow": {
     "slide_type": "subslide"
    }
   },
   "outputs": [
    {
     "name": "stdout",
     "output_type": "stream",
     "text": [
      "Daily\n",
      "Summary: Possible drizzle on Wednesday and next Thursday.\n",
      "Icon: rain\n",
      "Day 1\n",
      "time : 1612418400\n",
      "summary : Clear throughout the day.\n",
      "icon : clear-day\n",
      "sunriseTime : 1612445040\n",
      "sunsetTime : 1612484940\n",
      "moonPhase : 0.76\n",
      "precipIntensity : 0.0046\n",
      "precipIntensityMax : 0.0297\n",
      "precipIntensityMaxTime : 1612486800\n",
      "precipProbability : 0.06\n",
      "precipType : rain\n",
      "temperatureHigh : 35.22\n",
      "temperatureHighTime : 1612472100\n",
      "temperatureLow : 15.17\n",
      "temperatureLowTime : 1612529940\n",
      "apparentTemperatureHigh : 34.94\n",
      "apparentTemperatureHighTime : 1612472100\n",
      "apparentTemperatureLow : 15.44\n",
      "apparentTemperatureLowTime : 1612529940\n",
      "dewPoint : 1.42\n",
      "humidity : 0.31\n",
      "pressure : 1008.7\n",
      "windSpeed : 3.02\n",
      "windGust : 8.65\n",
      "windGustTime : 1612469700\n",
      "windBearing : 301\n",
      "cloudCover : 0.06\n",
      "uvIndex : 7\n",
      "uvIndexTime : 1612464960\n",
      "visibility : 16.093\n",
      "ozone : 258.5\n",
      "temperatureMin : 14.3\n",
      "temperatureMinTime : 1612435320\n",
      "temperatureMax : 35.22\n",
      "temperatureMaxTime : 1612472100\n",
      "apparentTemperatureMin : 14.57\n",
      "apparentTemperatureMinTime : 1612435320\n",
      "apparentTemperatureMax : 34.94\n",
      "apparentTemperatureMaxTime : 1612472100\n",
      "1612850400\n",
      "Day 2\n",
      "time : 1612504800\n",
      "summary : Clear throughout the day.\n",
      "icon : clear-day\n",
      "sunriseTime : 1612531440\n",
      "sunsetTime : 1612571340\n",
      "moonPhase : 0.8\n",
      "precipIntensity : 0.0017\n",
      "precipIntensityMax : 0.0053\n",
      "precipIntensityMaxTime : 1612527900\n",
      "precipProbability : 0.04\n",
      "precipType : rain\n",
      "temperatureHigh : 27.35\n",
      "temperatureHighTime : 1612558140\n",
      "temperatureLow : 10.92\n",
      "temperatureLowTime : 1612609860\n",
      "apparentTemperatureHigh : 27.07\n",
      "apparentTemperatureHighTime : 1612558140\n",
      "apparentTemperatureLow : 11.19\n",
      "apparentTemperatureLowTime : 1612609860\n",
      "dewPoint : 4.64\n",
      "humidity : 0.39\n",
      "pressure : 1010.2\n",
      "windSpeed : 2.95\n",
      "windGust : 5.8\n",
      "windGustTime : 1612539300\n",
      "windBearing : 8\n",
      "cloudCover : 0.04\n",
      "uvIndex : 7\n",
      "uvIndexTime : 1612551300\n",
      "visibility : 16.093\n",
      "ozone : 257.6\n",
      "temperatureMin : 13.28\n",
      "temperatureMinTime : 1612591200\n",
      "temperatureMax : 27.35\n",
      "temperatureMaxTime : 1612558140\n",
      "apparentTemperatureMin : 13.55\n",
      "apparentTemperatureMinTime : 1612591200\n",
      "apparentTemperatureMax : 27.07\n",
      "apparentTemperatureMaxTime : 1612558140\n",
      "1612850400\n",
      "Day 3\n",
      "time : 1612591200\n",
      "summary : Clear throughout the day.\n",
      "icon : clear-day\n",
      "sunriseTime : 1612617780\n",
      "sunsetTime : 1612657800\n",
      "moonPhase : 0.84\n",
      "precipIntensity : 0.0031\n",
      "precipIntensityMax : 0.0063\n",
      "precipIntensityMaxTime : 1612660800\n",
      "precipProbability : 0.06\n",
      "precipType : rain\n",
      "temperatureHigh : 28.44\n",
      "temperatureHighTime : 1612643640\n",
      "temperatureLow : 11.08\n",
      "temperatureLowTime : 1612696560\n",
      "apparentTemperatureHigh : 28.16\n",
      "apparentTemperatureHighTime : 1612643640\n",
      "apparentTemperatureLow : 11.35\n",
      "apparentTemperatureLowTime : 1612696560\n",
      "dewPoint : 4.9\n",
      "humidity : 0.46\n",
      "pressure : 1011.2\n",
      "windSpeed : 2.12\n",
      "windGust : 6.09\n",
      "windGustTime : 1612640520\n",
      "windBearing : 24\n",
      "cloudCover : 0.07\n",
      "uvIndex : 7\n",
      "uvIndexTime : 1612637820\n",
      "visibility : 16.093\n",
      "ozone : 264.5\n",
      "temperatureMin : 10.92\n",
      "temperatureMinTime : 1612609860\n",
      "temperatureMax : 28.44\n",
      "temperatureMaxTime : 1612643640\n",
      "apparentTemperatureMin : 11.19\n",
      "apparentTemperatureMinTime : 1612609860\n",
      "apparentTemperatureMax : 28.16\n",
      "apparentTemperatureMaxTime : 1612643640\n",
      "1612850400\n",
      "Day 4\n",
      "time : 1612677600\n",
      "summary : Clear throughout the day.\n",
      "icon : clear-day\n",
      "sunriseTime : 1612704180\n",
      "sunsetTime : 1612744260\n",
      "moonPhase : 0.87\n",
      "precipIntensity : 0.0016\n",
      "precipIntensityMax : 0.0052\n",
      "precipIntensityMaxTime : 1612699740\n",
      "precipProbability : 0.03\n",
      "precipType : rain\n",
      "temperatureHigh : 22.14\n",
      "temperatureHighTime : 1612732980\n",
      "temperatureLow : 12.41\n",
      "temperatureLowTime : 1612781940\n",
      "apparentTemperatureHigh : 21.86\n",
      "apparentTemperatureHighTime : 1612732980\n",
      "apparentTemperatureLow : 12.68\n",
      "apparentTemperatureLowTime : 1612781940\n",
      "dewPoint : 4.5\n",
      "humidity : 0.46\n",
      "pressure : 1014.3\n",
      "windSpeed : 2.76\n",
      "windGust : 6.44\n",
      "windGustTime : 1612752360\n",
      "windBearing : 116\n",
      "cloudCover : 0.14\n",
      "uvIndex : 7\n",
      "uvIndexTime : 1612724520\n",
      "visibility : 16.093\n",
      "ozone : 275.8\n",
      "temperatureMin : 11.08\n",
      "temperatureMinTime : 1612696560\n",
      "temperatureMax : 22.14\n",
      "temperatureMaxTime : 1612732980\n",
      "apparentTemperatureMin : 11.35\n",
      "apparentTemperatureMinTime : 1612696560\n",
      "apparentTemperatureMax : 21.86\n",
      "apparentTemperatureMaxTime : 1612732980\n",
      "1612850400\n",
      "Day 5\n",
      "time : 1612764000\n",
      "summary : Clear throughout the day.\n",
      "icon : clear-day\n",
      "sunriseTime : 1612790520\n",
      "sunsetTime : 1612830720\n",
      "moonPhase : 0.91\n",
      "precipIntensity : 0.001\n",
      "precipIntensityMax : 0.0051\n",
      "precipIntensityMaxTime : 1612850400\n",
      "precipProbability : 0.03\n",
      "precipType : rain\n",
      "temperatureHigh : 31.02\n",
      "temperatureHighTime : 1612817040\n",
      "temperatureLow : 15.62\n",
      "temperatureLowTime : 1612867320\n",
      "apparentTemperatureHigh : 30.74\n",
      "apparentTemperatureHighTime : 1612817040\n",
      "apparentTemperatureLow : 15.89\n",
      "apparentTemperatureLowTime : 1612867320\n",
      "dewPoint : 5.19\n",
      "humidity : 0.44\n",
      "pressure : 1010.7\n",
      "windSpeed : 1.96\n",
      "windGust : 5.12\n",
      "windGustTime : 1612828380\n",
      "windBearing : 91\n",
      "cloudCover : 0.18\n",
      "uvIndex : 7\n",
      "uvIndexTime : 1612810800\n",
      "visibility : 16.093\n",
      "ozone : 278.2\n",
      "temperatureMin : 12.41\n",
      "temperatureMinTime : 1612781940\n",
      "temperatureMax : 31.02\n",
      "temperatureMaxTime : 1612817040\n",
      "apparentTemperatureMin : 12.68\n",
      "apparentTemperatureMinTime : 1612781940\n",
      "apparentTemperatureMax : 30.74\n",
      "apparentTemperatureMaxTime : 1612817040\n",
      "1612850400\n",
      "Day 6\n",
      "time : 1612850400\n",
      "summary : Clear throughout the day.\n",
      "icon : clear-day\n",
      "sunriseTime : 1612876860\n",
      "sunsetTime : 1612917120\n",
      "moonPhase : 0.94\n",
      "precipIntensity : 0.1395\n",
      "precipIntensityMax : 0.5874\n",
      "precipIntensityMaxTime : 1612916880\n",
      "precipProbability : 0.26\n",
      "precipType : rain\n",
      "temperatureHigh : 27.2\n",
      "temperatureHighTime : 1612903800\n",
      "temperatureLow : 11.99\n",
      "temperatureLowTime : 1612962000\n",
      "apparentTemperatureHigh : 26.92\n",
      "apparentTemperatureHighTime : 1612903800\n",
      "apparentTemperatureLow : 12.26\n",
      "apparentTemperatureLowTime : 1612962000\n",
      "dewPoint : 11.03\n",
      "humidity : 0.58\n",
      "pressure : 1014.4\n",
      "windSpeed : 1.71\n",
      "windGust : 4.13\n",
      "windGustTime : 1612915560\n",
      "windBearing : 109\n",
      "cloudCover : 0.43\n",
      "uvIndex : 6\n",
      "uvIndexTime : 1612898220\n",
      "visibility : 16.093\n",
      "ozone : 286.8\n",
      "temperatureMin : 15.58\n",
      "temperatureMinTime : 1612936800\n",
      "temperatureMax : 27.2\n",
      "temperatureMaxTime : 1612903800\n",
      "apparentTemperatureMin : 15.85\n",
      "apparentTemperatureMinTime : 1612936800\n",
      "apparentTemperatureMax : 26.92\n",
      "apparentTemperatureMaxTime : 1612903800\n",
      "1612850400\n",
      "Day 7\n",
      "time : 1612936800\n",
      "summary : Partly cloudy throughout the day.\n",
      "icon : rain\n",
      "sunriseTime : 1612963260\n",
      "sunsetTime : 1613003580\n",
      "moonPhase : 0.98\n",
      "precipIntensity : 0.1657\n",
      "precipIntensityMax : 0.2292\n",
      "precipIntensityMaxTime : 1612936800\n",
      "precipProbability : 0.6\n",
      "precipType : rain\n",
      "temperatureHigh : 15.3\n",
      "temperatureHighTime : 1612981500\n",
      "temperatureLow : 6.35\n",
      "temperatureLowTime : 1613048400\n",
      "apparentTemperatureHigh : 15.02\n",
      "apparentTemperatureHighTime : 1612981500\n",
      "apparentTemperatureLow : 6.24\n",
      "apparentTemperatureLowTime : 1613025360\n",
      "dewPoint : 9.71\n",
      "humidity : 0.85\n",
      "pressure : 1021.3\n",
      "windSpeed : 1.75\n",
      "windGust : 5.47\n",
      "windGustTime : 1612998420\n",
      "windBearing : 74\n",
      "cloudCover : 0.48\n",
      "uvIndex : 6\n",
      "uvIndexTime : 1612981260\n",
      "visibility : 16.093\n",
      "ozone : 280.8\n",
      "temperatureMin : 6.93\n",
      "temperatureMinTime : 1613023200\n",
      "temperatureMax : 16.13\n",
      "temperatureMaxTime : 1612936800\n",
      "apparentTemperatureMin : 6.29\n",
      "apparentTemperatureMinTime : 1613023200\n",
      "apparentTemperatureMax : 15.85\n",
      "apparentTemperatureMaxTime : 1612936800\n",
      "1612850400\n",
      "Day 8\n",
      "time : 1613023200\n",
      "summary : Mostly cloudy throughout the day.\n",
      "icon : rain\n",
      "sunriseTime : 1613049600\n",
      "sunsetTime : 1613090040\n",
      "moonPhase : 0.01\n",
      "precipIntensity : 0.0793\n",
      "precipIntensityMax : 0.1305\n",
      "precipIntensityMaxTime : 1613095620\n",
      "precipProbability : 0.44\n",
      "precipType : rain\n",
      "temperatureHigh : 12.95\n",
      "temperatureHighTime : 1613076600\n",
      "temperatureLow : 5.46\n",
      "temperatureLowTime : 1613134800\n",
      "apparentTemperatureHigh : 12.67\n",
      "apparentTemperatureHighTime : 1613076600\n",
      "apparentTemperatureLow : 4.24\n",
      "apparentTemperatureLowTime : 1613134800\n",
      "dewPoint : 5.77\n",
      "humidity : 0.83\n",
      "pressure : 1022.5\n",
      "windSpeed : 1.37\n",
      "windGust : 2.8\n",
      "windGustTime : 1613023200\n",
      "windBearing : 61\n",
      "cloudCover : 0.64\n",
      "uvIndex : 5\n",
      "uvIndexTime : 1613071140\n",
      "visibility : 16.093\n",
      "ozone : 271.5\n",
      "temperatureMin : 5.99\n",
      "temperatureMinTime : 1613051880\n",
      "temperatureMax : 12.95\n",
      "temperatureMaxTime : 1613076600\n",
      "apparentTemperatureMin : 6.24\n",
      "apparentTemperatureMinTime : 1613025360\n",
      "apparentTemperatureMax : 12.67\n",
      "apparentTemperatureMaxTime : 1613076600\n",
      "1612850400\n"
     ]
    }
   ],
   "source": [
    "from forecastiopy import *\n",
    "\n",
    "key = \"93a3ab8136ea441147c4702bc5bdabc3\"\n",
    "latitude = \"25.679673\"\n",
    "longitude = \"-100.316839\"\n",
    "\n",
    "fio = ForecastIO.ForecastIO(key, latitude=latitude, longitude=longitude)\n",
    "\n",
    "if fio.has_daily() is True:\n",
    "    daily = FIODaily.FIODaily(fio)\n",
    "    print('Daily')\n",
    "    print('Summary:', daily.summary)\n",
    "    print('Icon:', daily.icon)\n",
    "\n",
    "    for day in range(0, daily.days()):\n",
    "        print('Day', day+1)\n",
    "        for item in daily.get_day(day).keys():\n",
    "            print(item + ' : ' + str(daily.get_day(day)[item]))\n",
    "        print(daily.day_5_time)\n",
    "else:\n",
    "    print('No Daily data')"
   ]
  },
  {
   "cell_type": "markdown",
   "metadata": {
    "slideshow": {
     "slide_type": "slide"
    }
   },
   "source": [
    "![A](gracias.jpg)"
   ]
  }
 ],
 "metadata": {
  "celltoolbar": "Slideshow",
  "kernelspec": {
   "display_name": "Python 3",
   "language": "python",
   "name": "python3"
  },
  "language_info": {
   "codemirror_mode": {
    "name": "ipython",
    "version": 3
   },
   "file_extension": ".py",
   "mimetype": "text/x-python",
   "name": "python",
   "nbconvert_exporter": "python",
   "pygments_lexer": "ipython3",
   "version": "3.7.6"
  }
 },
 "nbformat": 4,
 "nbformat_minor": 2
}
