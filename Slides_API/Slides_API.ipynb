{
 "cells": [
  {
   "cell_type": "markdown",
   "metadata": {
    "slideshow": {
     "slide_type": "slide"
    }
   },
   "source": [
    "# ¿Qué es una API?\n",
    "\n",
    "Una API (Application programming interfaces) es una herramienta que ayuda a hacer los datos de un sitio web mas digeribles para una computadora. A traves de ella, una computadora puede ver y editar datos, justo como una persona puede cargar paginas y llenar formas.  \n",
    "\n",
    "![Comunicacion con un servidor](figs/fig1.jpg)"
   ]
  },
  {
   "cell_type": "markdown",
   "metadata": {
    "slideshow": {
     "slide_type": "subslide"
    }
   },
   "source": [
    "Cuando dos sistemas se enlazan a traves de una API, decimos que estan integrados. Por un lado esta el servidor que proporciona la API, y en el otro lado esta el cliente que cunsume la API y puede manipularla."
   ]
  },
  {
   "cell_type": "markdown",
   "metadata": {
    "slideshow": {
     "slide_type": "slide"
    }
   },
   "source": [
    "## El protocolo de la web\n",
    "\n",
    "En la web, el protocolo principal es Hyper-Text Transfer Protocol, mejor conocido como HTTP.  \n",
    "\n",
    "Con la omnipresencia de HTTP en la web, muchas compañias escogen adoptarlo como el protocolo para sus APIs"
   ]
  },
  {
   "cell_type": "markdown",
   "metadata": {
    "slideshow": {
     "slide_type": "slide"
    }
   },
   "source": [
    "### HTTP Requests  \n",
    "\n",
    "La comunicación en HTTP se centra en el concepto Request-Response Cycle.  \n",
    "El cliente manda al servidor una petición para hacer algo. El servidor envia al cliente una respuesta diciendo si pudo hacer o no lo que el cliente le pidió.\n",
    "\n",
    "![Request](figs/fig2.jpg)\n",
    "\n",
    "Para hacer una petición valida, el cliente debe de incluir cuatro cosas:\n",
    "\n",
    "1. URL\n",
    "2. Method\n",
    "3. List of Headers\n",
    "4. Body"
   ]
  },
  {
   "cell_type": "markdown",
   "metadata": {
    "slideshow": {
     "slide_type": "subslide"
    }
   },
   "source": [
    "#### URL  \n",
    "URLs son una forma facil para el cliente de decirle al servidor con que cosas quiere interactuar, llamadas recursos.\n",
    "\n",
    "#### Method  \n",
    "El método de petición le dice al servidor que tipo de acción el cliente quiere que realice. Los más comunes dentro de las APIs son:\n",
    "\n",
    "* GET: Le pide al servidor obtener un recurso.\n",
    "* POST: Le pide al servidor crear un nuevo recurso\n",
    "* PUT: Le pide al servidor editar/actualizar un recurso existente.\n",
    "* DELETE: Le pide al servidor eliminar un recurso.\n",
    "\n",
    "#### Headers  \n",
    "Los headers proveen información sobre la petición\n",
    "\n",
    "#### Body  \n",
    "Contiene información que el cliente quiere enviar al servidor\n",
    "\n",
    "![Composicion](figs/fig3.jpg)"
   ]
  },
  {
   "cell_type": "markdown",
   "metadata": {
    "slideshow": {
     "slide_type": "subslide"
    }
   },
   "source": [
    "### HTTP Response  \n",
    "\n",
    "El servidor responde con un status code (de tres digitos).\n",
    "\n",
    "![Respuesta](figs/fig4.jpg)\n",
    "\n"
   ]
  },
  {
   "cell_type": "markdown",
   "metadata": {
    "slideshow": {
     "slide_type": "slide"
    }
   },
   "source": [
    "### Data Formats  \n",
    "\n",
    "Los formatos mas comunes encontrados en APIs son JSON y XML.  \n",
    "\n",
    "**JSON** es un formato muy simple que tiene dos piezas: _una llave y un valor_.\n",
    "\n",
    "![JSON](figs/fig5.jpg)  \n",
    "\n",
    "**XML** esta provisto de bloques. El bloque principal se llama nodo. XML siempre comienza con un nodo raiz, dentro hay mas nodos \"hijo\". El nombre del nodo nos dice el atributo de la orden y los datos dentro son los detalles.\n",
    "\n",
    "![XML](figs/fig6.jpg)\n"
   ]
  }
 ],
 "metadata": {
  "celltoolbar": "Slideshow",
  "kernelspec": {
   "display_name": "Python 3",
   "language": "python",
   "name": "python3"
  },
  "language_info": {
   "codemirror_mode": {
    "name": "ipython",
    "version": 3
   },
   "file_extension": ".py",
   "mimetype": "text/x-python",
   "name": "python",
   "nbconvert_exporter": "python",
   "pygments_lexer": "ipython3",
   "version": "3.7.4"
  }
 },
 "nbformat": 4,
 "nbformat_minor": 2
}
